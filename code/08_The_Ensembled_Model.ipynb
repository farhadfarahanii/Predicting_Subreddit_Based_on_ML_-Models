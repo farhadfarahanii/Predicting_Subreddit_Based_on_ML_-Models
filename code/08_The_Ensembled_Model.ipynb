{
 "cells": [
  {
   "cell_type": "markdown",
   "id": "5b3ab2ce",
   "metadata": {},
   "source": [
    "## Predicting Subreddits by The Ensembled Model\n",
    "\n",
    "An ensemble model is a machine learning model that combines multiple individual models, also known as base models or weak learners, to make predictions. The main idea behind ensembling is to leverage the collective wisdom of these models in order to improve overall predictive performance.\n",
    "\n",
    "One popular type of ensemble model is the Voting Classifier. The Voting Classifier combines the strengths of multiple models and can lead to improved generalization and robustness. It is particularly useful when the individual models have different strengths and weaknesses, or when they capture different aspects of the data. By combining these models, the ensemble can benefit from their diversity and potentially achieve higher accuracy and better performance than any single model in isolation.\n",
    "\n",
    "In this project, we have experimented with different types of models, including Logistic Regression, Naïve Bayes, Random Forest, Extra Trees, Gradient Boost, XGBoost, and SVM. We have used the CountVectorizer and TfidfVectorizer transformers with various hyperparameters to train these models. After evaluating their performance, we have identified the best parameters for each model.\n",
    "\n",
    "In this chapter, we will review the scores of these models with their best parameters once again. We will then proceed to ensemble them, aiming to further increase the final model's accuracy to predict AppleWatch and Galaxy Watch sebreddits based on their posts."
   ]
  },
  {
   "cell_type": "markdown",
   "id": "9a76b14f",
   "metadata": {},
   "source": [
    "## Contents:\n",
    "\n",
    "- [Predicting Subreddits by The Ensembled Model](#Predicting-Subreddits-by-The-Ensembled-Model)\n",
    "- [Imports](#Imports)\n",
    "- [Functions](#Functions)\n",
    "- [Baseline Score](#Baseline-Score)\n",
    "- [Review The Models Metrics](#Review-The-Models-Metrics)\n",
    "    - [Set The Pipelines](#Set-The-Pipelines)\n",
    "    - [Set The Best Parameters](#Set-The-Best-Parameters)\n",
    "    - [GreadSearch, Save and Print](#GreadSearch,-Save-and-Print)\n",
    "- [Ensembled Model](#Ensembled-Model)\n",
    "    - [Load Models](#Load-Models)    \n",
    "    - [Ensemble Models](#Ensemble-Models)\n",
    "    - [Evaluation](#Evaluation)\n",
    "- [Save The Ensembled Model](#Save-The-Ensembled-Model)\n",
    "- [Summary of Predicting Subreddits by The Ensembled Model](#Summary-of-Predicting-Subreddits-by-The-Ensembled-Model)"
   ]
  },
  {
   "cell_type": "markdown",
   "id": "0578fdfb",
   "metadata": {},
   "source": [
    "## Imports"
   ]
  },
  {
   "cell_type": "code",
   "execution_count": 1,
   "id": "872f295b",
   "metadata": {},
   "outputs": [],
   "source": [
    "# For saving model\n",
    "import pickle\n",
    "import dill\n",
    "\n",
    "# For Visualizing\n",
    "import matplotlib.pyplot as plt\n",
    "\n",
    "# For data\n",
    "import pandas as pd\n",
    "import numpy as np\n",
    "import nltk\n",
    "\n",
    "# For processing\n",
    "from sklearn.feature_extraction.text import CountVectorizer, TfidfVectorizer\n",
    "from nltk.tokenize import word_tokenize\n",
    "from nltk.stem import PorterStemmer\n",
    "from nltk.corpus import stopwords\n",
    "\n",
    "# For spliting, pipeline and finding best model\n",
    "from sklearn.pipeline import Pipeline\n",
    "from sklearn.model_selection import train_test_split, GridSearchCV\n",
    "\n",
    "# For modeling\n",
    "from sklearn.linear_model import LogisticRegression\n",
    "from sklearn.naive_bayes import MultinomialNB\n",
    "from sklearn.tree import DecisionTreeClassifier\n",
    "from sklearn.ensemble import BaggingClassifier, VotingClassifier\n",
    "from sklearn.ensemble import RandomForestClassifier, ExtraTreesClassifier\n",
    "from sklearn.ensemble import AdaBoostClassifier, GradientBoostingClassifier\n",
    "import xgboost as xgb\n",
    "from sklearn.svm import SVC\n",
    "\n",
    "# For evaluating the model\n",
    "from sklearn.metrics import confusion_matrix, plot_confusion_matrix, accuracy_score, recall_score, precision_score, f1_score\n"
   ]
  },
  {
   "cell_type": "code",
   "execution_count": 2,
   "id": "36612f03",
   "metadata": {},
   "outputs": [],
   "source": [
    "# Define dataframe path\n",
    "df_path = \"../data/final_dataset.csv\""
   ]
  },
  {
   "cell_type": "code",
   "execution_count": 3,
   "id": "15ae715c",
   "metadata": {},
   "outputs": [
    {
     "name": "stdout",
     "output_type": "stream",
     "text": [
      "Sample Data :            author                                        description  \\\n",
      "0          TuaAnon  yes, it's an lte watch with data turned on, no...   \n",
      "1  DemandScary1934  how accurate is the active/total calorie track...   \n",
      "2         Vinumite  fell very hard blackout drunk and lost watch. ...   \n",
      "3          Damarou  pls tell me i‘m not the only one who has such ...   \n",
      "4       ThorNike13  deleted apps in watch app on iphone with weird...   \n",
      "\n",
      "    subreddit  des_word_count  \n",
      "0  AppleWatch              48  \n",
      "1  AppleWatch              10  \n",
      "2  AppleWatch              59  \n",
      "3  AppleWatch              15  \n",
      "4  AppleWatch              15  \n",
      "\n",
      "--------------------------\n",
      "\n",
      " Columns : ['author', 'description', 'subreddit', 'des_word_count']\n",
      "\n",
      "--------------------------\n",
      "\n",
      " Size of the dataset : 5270\n",
      "\n",
      "--------------------------\n",
      "\n",
      " Total number of columns : 4\n"
     ]
    }
   ],
   "source": [
    "# load data\n",
    "df = pd.read_csv(df_path).drop(columns=\"Unnamed: 0\")\n",
    "\n",
    "# Get some basic information \n",
    "print(f\"Sample Data :{df.head()}\")\n",
    "print(f\"\\n--------------------------\\n\\n Columns : {[i for i in df.columns]}\")\n",
    "print(f\"\\n--------------------------\\n\\n Size of the dataset : {df.shape[0]}\")\n",
    "print(f\"\\n--------------------------\\n\\n Total number of columns : {df.shape[1]}\")"
   ]
  },
  {
   "cell_type": "code",
   "execution_count": 4,
   "id": "b0f344b4",
   "metadata": {},
   "outputs": [],
   "source": [
    "# Drop unusefull columns\n",
    "df.drop(columns =[\"author\", \"des_word_count\"], inplace=True)"
   ]
  },
  {
   "cell_type": "code",
   "execution_count": 5,
   "id": "96b24f8b",
   "metadata": {},
   "outputs": [],
   "source": [
    "# Create label column (target column)\n",
    "df[\"subreddit\"] = df[\"subreddit\"].map({\"GalaxyWatch\": 1, \"AppleWatch\":0})"
   ]
  },
  {
   "cell_type": "markdown",
   "id": "c9b5d410",
   "metadata": {},
   "source": [
    "## Functions"
   ]
  },
  {
   "cell_type": "code",
   "execution_count": 6,
   "id": "8e7135cc",
   "metadata": {},
   "outputs": [],
   "source": [
    "# cite: Got help form Katie Sylvia\n",
    "# a function for stemming\n",
    "def stem_words(text):\n",
    "    # Initialize the Porter stemmer\n",
    "    stemmer = PorterStemmer()\n",
    "    \n",
    "    # Tokenize the text into individual words\n",
    "    words = nltk.word_tokenize(text)\n",
    "    \n",
    "    # Stem each word and join them back into a string\n",
    "    stemmed_words = [stemmer.stem(word) for word in words]\n",
    "    stemmed_text = \" \".join(stemmed_words)\n",
    "    \n",
    "    return stemmed_text"
   ]
  },
  {
   "cell_type": "markdown",
   "id": "6f93e176",
   "metadata": {},
   "source": [
    "## Baseline Score"
   ]
  },
  {
   "cell_type": "code",
   "execution_count": 7,
   "id": "2ca03e49",
   "metadata": {},
   "outputs": [
    {
     "name": "stdout",
     "output_type": "stream",
     "text": [
      "X shape ---------- (5270,)\n",
      "y shape ---------- (5270,)\n"
     ]
    }
   ],
   "source": [
    "# Define X (features) and y(target)\n",
    "X = df[\"description\"]\n",
    "y = df[\"subreddit\"]\n",
    "X_train, X_test, y_train, y_test = train_test_split(X, y, random_state=42, stratify=y)\n",
    "print(f\"X shape ---------- {X.shape}\")\n",
    "print(f\"y shape ---------- {y.shape}\")"
   ]
  },
  {
   "cell_type": "markdown",
   "id": "0c97335b",
   "metadata": {},
   "source": [
    "### Baseline accuracy"
   ]
  },
  {
   "cell_type": "code",
   "execution_count": 8,
   "id": "3a33febb",
   "metadata": {},
   "outputs": [
    {
     "data": {
      "text/plain": [
       "0    0.534143\n",
       "1    0.465857\n",
       "Name: subreddit, dtype: float64"
      ]
     },
     "execution_count": 8,
     "metadata": {},
     "output_type": "execute_result"
    }
   ],
   "source": [
    "# Get the ratio of classes\n",
    "y_test.value_counts(normalize=True)"
   ]
  },
  {
   "cell_type": "markdown",
   "id": "b68cecdc",
   "metadata": {},
   "source": [
    "**Baseline accuracy score is 0.53 which is the majority class**"
   ]
  },
  {
   "cell_type": "markdown",
   "id": "baa98b3b",
   "metadata": {},
   "source": [
    "## Review The Models Metrics"
   ]
  },
  {
   "cell_type": "markdown",
   "id": "00e22aad",
   "metadata": {},
   "source": [
    "### Set The Pipelines"
   ]
  },
  {
   "cell_type": "code",
   "execution_count": 9,
   "id": "67e0a9c5",
   "metadata": {},
   "outputs": [],
   "source": [
    "# Instantiate the pipelines (without Bagged Decision Tree and AdaBoost because of their poor\n",
    "# performance comparing to their modelling groups)\n",
    "# Logistic Regression pipeline\n",
    "pipe_lr = Pipeline([\n",
    "    (\"tvec\", TfidfVectorizer()), # The model performed better with TfidfVectorizer\n",
    "    (\"lr\", LogisticRegression(solver=\"saga\"))\n",
    "])\n",
    "\n",
    "# Multinomial Naïve Bayes pipeline\n",
    "pipe_nb = Pipeline([\n",
    "    (\"cvec\", CountVectorizer()), # The model performed better with CountVectorizer\n",
    "    (\"nb\", MultinomialNB())\n",
    "])\n",
    "\n",
    "# Random Forest pipeline\n",
    "pipe_rf = Pipeline([\n",
    "    (\"tvec\", TfidfVectorizer()), # The model performed better with TfidfVectorizer\n",
    "    (\"rf\", RandomForestClassifier())\n",
    "])\n",
    "\n",
    "# Extra Trees pipeline\n",
    "pipe_et = Pipeline([\n",
    "    (\"tvec\", TfidfVectorizer()), # The model performed better with TfidfVectorizer\n",
    "    (\"et\", ExtraTreesClassifier())\n",
    "])\n",
    "\n",
    "# Gradient Boost pipeline\n",
    "pipe_gb = Pipeline([\n",
    "    (\"cvec\", CountVectorizer()), # The model performed better with CountVectorizer\n",
    "    (\"gb\", GradientBoostingClassifier())\n",
    "])\n",
    "\n",
    "# XGBoost pipeline\n",
    "pipe_xgb = Pipeline([\n",
    "    (\"cvec\", CountVectorizer()), # The model performed better with CountVectorizer\n",
    "    (\"xgb\", xgb.XGBClassifier())\n",
    "])\n",
    "\n",
    "# SVM pipeline\n",
    "pipe_svc = Pipeline([\n",
    "    (\"tvec\", TfidfVectorizer()), # The model performed better with TfidfVectorizer\n",
    "    (\"svc\", SVC())\n",
    "])\n",
    "\n",
    "# Make a list of pipelines\n",
    "pipelines = [pipe_lr, pipe_nb, pipe_rf, pipe_et, pipe_gb, pipe_xgb, pipe_svc]"
   ]
  },
  {
   "cell_type": "markdown",
   "id": "8b295597",
   "metadata": {},
   "source": [
    "### Set The Best Parameters"
   ]
  },
  {
   "cell_type": "code",
   "execution_count": 10,
   "id": "06c096bb",
   "metadata": {},
   "outputs": [],
   "source": [
    "# Define parameters for each pipe\n",
    "\n",
    "param_lr = {'lr__C': [100],                     # [0.1, 1, 10, 100] tested and 100 was chosen as the best param\n",
    "            'lr__penalty': ['l1'],              # [\"none\", \"l1\", \"l2\"] tested and l1 was chosen as the best param\n",
    "            'tvec__max_df': [0.95],             # [.9, .95] tested and 0.95 was chosen as the best param\n",
    "            'tvec__max_features': [20000],      # [5_000, 10_000, 20_000, 30_000] tested and 20000 was chosen as the best param\n",
    "            'tvec__min_df': [2],                # [2, 3] tested and 2 was chosen as the best param\n",
    "            'tvec__ngram_range': [(1, 2)],      # [(1, 1), (1, 2)] tested and (1, 2) was chosen as the best param\n",
    "            'tvec__stop_words': [None],         # [None, \"english\"] tested and None was chosen as the best param\n",
    "            'tvec__tokenizer': [None]}          # [None, stem_words] tested and None was chosen as the best param\n",
    "\n",
    "param_nb = {'cvec__max_df': [0.9],              # [.9, .95] tested and 0.9 was chosen as the best param\n",
    "            'cvec__max_features': [10000],      # [5_000, 10_000, 20_000, 30_000] tested and 10000 was chosen as the best param\n",
    "            'cvec__min_df': [2],                # [2, 3] tested and 2 was chosen as the best param\n",
    "            'cvec__ngram_range': [(1, 2)],      # [(1, 1), (1, 2)] tested and (1, 2) was chosen as the best param\n",
    "            'cvec__stop_words': ['english'],    # [None, \"english\"] tested and 'english' was chosen as the best param\n",
    "            'cvec__tokenizer': [None]}          # [None, stem_words] tested and None was chosen as the best param\n",
    "\n",
    "param_rf = {'rf__max_depth': [None],            # [None, 1, 2, 3, 4] tested and None was chosen as the best param\n",
    "            'rf__n_estimators': [100],          # The only estimator\n",
    "            'tvec__max_df': [0.95],             # [.9, .95] tested and 0.95 was chosen as the best param\n",
    "            'tvec__max_features': [30000],      # [5_000, 10_000, 20_000, 30_000] tested and 30000 was chosen as the best param \n",
    "            'tvec__min_df': [2],                # [2, 3] tested and 2 was chosen as the best param\n",
    "            'tvec__ngram_range': [(1, 1)],      # [(1, 1), (1, 2)] tested and (1, 1) was chosen as the best param\n",
    "            'tvec__stop_words': ['english'],    # [None, \"english\"] tested and 'english' was chosen as the best param\n",
    "            'tvec__tokenizer': [None]}          # [None, stem_words] tested and None was chosen as the best param\n",
    "\n",
    "param_et = {'et__max_depth': [None],            # [None, 1, 2, 3, 4] tested and None was chosen as the best param\n",
    "            'et__n_estimators': [100],          # The only estimator\n",
    "            'tvec__max_df': [0.95],             # [.9, .95] tested and 0.95 was chosen as the best param\n",
    "            'tvec__max_features': [30000],      # [5_000, 10_000, 20_000, 30_000] tested and 30000 was chosen as the best param \n",
    "            'tvec__min_df': [2],                # [2, 3] tested and 2 was chosen as the best param\n",
    "            'tvec__ngram_range': [(1, 1)],      # [(1, 1), (1, 2)] tested and (1, 1) was chosen as the best param\n",
    "            'tvec__stop_words': ['english'],    # [None, \"english\"] tested and 'english' was chosen as the best param\n",
    "            'tvec__tokenizer': [None]}          # [None, stem_words] tested and None was chosen as the best param\n",
    "\n",
    "param_gb = {'cvec__max_df': [0.9],              # [.9, .95] tested and 0.9 was chosen as the best param\n",
    "            'cvec__max_features': [5000],       # [5_000, 10_000, 20_000, 30_000] tested and 5000 was chosen as the best param \n",
    "            'cvec__min_df': [2],                # [2, 3] tested and 2 was chosen as the best param\n",
    "            'cvec__ngram_range': [(1, 2)],      # [(1, 1), (1, 2)] tested and (1, 2) was chosen as the best param\n",
    "            'cvec__stop_words': [None],         # [None, \"english\"] tested and None was chosen as the best param\n",
    "            'cvec__tokenizer': [stem_words],    # [None, stem_words] tested and stem_words was chosen as the best param\n",
    "            'gb__learning_rate': [0.1],         # [0.1, 1, 10] tested and 0.1 was chosen as the best param\n",
    "            'gb__max_depth': [3],               # [None, 1, 2, 3, 4] tested and 3 was chosen as the best param\n",
    "            'gb__n_estimators': [100]}          # The only estimator\n",
    "\n",
    "param_xgb = {'cvec__max_df': [0.9],             # [.9, .95] tested and 0.9 was chosen as the best param\n",
    "            'cvec__max_features': [5000],       # [5_000, 10_000, 20_000, 30_000] tested and 5000 was chosen as the best param \n",
    "            'cvec__min_df': [2],                # [2, 3] tested and 2 was chosen as the best param\n",
    "            'cvec__ngram_range': [(1, 2)],      # [(1, 1), (1, 2)] tested and (1, 2) was chosen as the best param\n",
    "            'cvec__stop_words': ['english'],    # [None, \"english\"] tested and 'english' was chosen as the best param\n",
    "            'cvec__tokenizer': [stem_words],    # [None, stem_words] tested and stem_words was chosen as the best param\n",
    "            'xgb__learning_rate': [0.1],        # [0.1, 1, 10] tested and 0.1 was chosen as the best param\n",
    "            'xgb__max_depth': [4],              # [None, 1, 2, 3, 4] tested and 4 was chosen as the best param\n",
    "            'xgb__n_estimators': [100]}         # The only estimator\n",
    "\n",
    "param_svc = {'svc__C': [100],                   # [0.1, 1, 10, 100] tested and 100 was chosen as the best param\n",
    "            'svc__kernel': ['rbf'],             # 'rbf' and 'poly' (with \"degree\": [2, 3, 4]) tested and 'rbf' was chosen as the best param\n",
    "            'tvec__max_df': [0.9],              # [.9, .95] tested and 0.95 was chosen as the best param\n",
    "            'tvec__max_features': [20000],      # [5_000, 10_000, 20_000, 30_000] tested and 30000 was chosen as the best param \n",
    "            'tvec__min_df': [2],                # [2, 3] tested and 2 was chosen as the best param\n",
    "            'tvec__ngram_range': [(1, 2)],      # [(1, 1), (1, 2)] tested and (1, 1) was chosen as the best param\n",
    "            'tvec__stop_words': [None],         # [None, \"english\"] tested and 'english' was chosen as the best param\n",
    "            'tvec__tokenizer': [None]}          # [None, stem_words] tested and None was chosen as the best param\n",
    "\n",
    "# Make a list of pipes params\n",
    "pipe_prarams = [param_lr, param_nb, param_rf, param_et, param_gb, param_xgb, param_svc]\n",
    "\n",
    "# Make a list of models names\n",
    "names = [\"Logistic Regression Model\", \"Naïve Bayes Model\", \"Random Forest Model\",\n",
    "         \"Extra Trees Model\", \"Gradient Boost Model\", \"XGBoost Model\", \"SVM Model\"]"
   ]
  },
  {
   "cell_type": "markdown",
   "id": "88f3692e",
   "metadata": {},
   "source": [
    "### GreadSearch, Save and Print"
   ]
  },
  {
   "cell_type": "code",
   "execution_count": 11,
   "id": "0ffb46a5",
   "metadata": {},
   "outputs": [
    {
     "name": "stderr",
     "output_type": "stream",
     "text": [
      "C:\\Users\\sarvin.farhad\\anaconda3\\lib\\site-packages\\sklearn\\linear_model\\_sag.py:352: ConvergenceWarning: The max_iter was reached which means the coef_ did not converge\n",
      "  warnings.warn(\n"
     ]
    },
    {
     "name": "stdout",
     "output_type": "stream",
     "text": [
      "=== Logistic Regression Model ====\n",
      "Accuracy  ---------- 0.8945\n",
      "Precision  --------- 0.8913\n",
      "Sensitivity  ------- 0.8811\n",
      "Specifity  --------- 0.9062\n",
      "F1 Score ----------- 0.8862\n",
      "\n",
      "======= Naïve Bayes Model ========\n",
      "Accuracy  ---------- 0.9067\n",
      "Precision  --------- 0.8966\n",
      "Sensitivity  ------- 0.9039\n",
      "Specifity  --------- 0.9091\n",
      "F1 Score ----------- 0.9002\n",
      "\n",
      "====== Random Forest Model =======\n",
      "Accuracy  ---------- 0.8961\n",
      "Precision  --------- 0.9177\n",
      "Sensitivity  ------- 0.8534\n",
      "Specifity  --------- 0.9332\n",
      "F1 Score ----------- 0.8844\n",
      "\n",
      "======= Extra Trees Model ========\n",
      "Accuracy  ---------- 0.8945\n",
      "Precision  --------- 0.9102\n",
      "Sensitivity  ------- 0.8583\n",
      "Specifity  --------- 0.9261\n",
      "F1 Score ----------- 0.8835\n",
      "\n",
      "====== Gradient Boost Model ======\n",
      "Accuracy  ---------- 0.8983\n",
      "Precision  --------- 0.9167\n",
      "Sensitivity  ------- 0.8599\n",
      "Specifity  --------- 0.9318\n",
      "F1 Score ----------- 0.8874\n",
      "\n"
     ]
    },
    {
     "name": "stderr",
     "output_type": "stream",
     "text": [
      "C:\\Users\\sarvin.farhad\\anaconda3\\lib\\site-packages\\sklearn\\feature_extraction\\text.py:396: UserWarning: Your stop_words may be inconsistent with your preprocessing. Tokenizing the stop words generated tokens [' ', 'b', 'c', 'd', 'e', 'f', 'g', 'h', 'k', 'l', 'm', 'n', 'o', 'p', 'r', 's', 't', 'u', 'v', 'w', 'x', 'y'] not in stop_words.\n",
      "  warnings.warn(\n"
     ]
    },
    {
     "name": "stdout",
     "output_type": "stream",
     "text": [
      "========= XGBoost Model ==========\n",
      "Accuracy  ---------- 0.893\n",
      "Precision  --------- 0.9043\n",
      "Sensitivity  ------- 0.8616\n",
      "Specifity  --------- 0.9205\n",
      "F1 Score ----------- 0.8824\n",
      "\n",
      "=========== SVM Model ============\n",
      "Accuracy  ---------- 0.9014\n",
      "Precision  --------- 0.9172\n",
      "Sensitivity  ------- 0.8664\n",
      "Specifity  --------- 0.9318\n",
      "F1 Score ----------- 0.8911\n",
      "\n"
     ]
    }
   ],
   "source": [
    "# Make a loop to gridseach on models with their best parameters and chosen transformer to review their performances\n",
    "for pipe, pgrid, name in zip(pipelines, pipe_prarams, names):\n",
    "    \n",
    "    # Instantiate Gread Search\n",
    "    gs = GridSearchCV(estimator=pipe, param_grid=pgrid, cv=5, n_jobs=4)\n",
    "    \n",
    "    # Fit the model\n",
    "    gs.fit(X_train, y_train)\n",
    "    \n",
    "    # Predict y\n",
    "    preds = gs.predict(X_test)\n",
    "    \n",
    "    # Confusion matrix values\n",
    "    tn, fp, fn, tp = confusion_matrix(y_test, preds).ravel()\n",
    "    \n",
    "    # Define the path where model should be saved\n",
    "    model_path = f\"../models/{name}.pkl\"\n",
    "    \n",
    "    # Save the model\n",
    "    with open(model_path, \"wb\") as pickle_out:\n",
    "        pickle_out = pickle.dump(gs, pickle_out)\n",
    "        \n",
    "    # Evaluate the model\n",
    "    print(f\" {name} \".center(34, \"=\"))\n",
    "    print(f\"Accuracy  ---------- {round(accuracy_score(y_test, preds),4)}\")\n",
    "    print(f\"Precision  --------- {round(precision_score(y_test, preds),4)}\")\n",
    "    print(f\"Sensitivity  ------- {round(recall_score(y_test, preds),4)}\")\n",
    "    print(f\"Specifity  --------- {round(tn/(tn + fp),4)}\")\n",
    "    print(f\"F1 Score ----------- {round(f1_score(y_test, preds),4)}\\n\")"
   ]
  },
  {
   "cell_type": "markdown",
   "id": "f76a379c",
   "metadata": {},
   "source": [
    "## Ensembled Model"
   ]
  },
  {
   "cell_type": "markdown",
   "id": "88d1e4c4",
   "metadata": {},
   "source": [
    "### Load Models"
   ]
  },
  {
   "cell_type": "code",
   "execution_count": 12,
   "id": "9f996ad1",
   "metadata": {},
   "outputs": [],
   "source": [
    "# Load Logistic Regression model\n",
    "with open(\"../models/Logistic Regression Model.pkl\", \"rb\") as file:\n",
    "    lr = pickle.load(file)\n",
    "\n",
    "# Load Naïve Bayes model\n",
    "with open(\"../models/Naïve Bayes Model.pkl\", \"rb\") as file:\n",
    "    nb = pickle.load(file)\n",
    "    \n",
    "# Load Random Forest model\n",
    "with open(\"../models/Random Forest Model.pkl\", \"rb\") as file:\n",
    "    rf = pickle.load(file)\n",
    "\n",
    "# Load Extra Trees model\n",
    "with open(\"../models/Extra Trees Model.pkl\", \"rb\") as file:\n",
    "    et = pickle.load(file)\n",
    "\n",
    "# Load Gradient Boost model\n",
    "with open(\"../models/Gradient Boost Model.pkl\", \"rb\") as file:\n",
    "    gb = pickle.load(file)\n",
    "    \n",
    "# Load XGBoost model\n",
    "with open(\"../models/XGBoost Model.pkl\", \"rb\") as file:\n",
    "    xgb = pickle.load(file)\n",
    "\n",
    "# Load SVM Model model\n",
    "with open(\"../models/SVM Model.pkl\", \"rb\") as file:\n",
    "    svc = pickle.load(file)"
   ]
  },
  {
   "cell_type": "markdown",
   "id": "3b4b29b2",
   "metadata": {},
   "source": [
    "### Ensemble Models\n",
    "\n",
    "For ensemble modeling using the Voting Classifier, we can follow two approaches. First, we can ensemble all the models we have trained so far, regardless of their category. This approach combines the predictions of all models to make the final prediction. Alternatively, we can create a second ensemble model using only the selected best models from each category.\n",
    "\n",
    "Based on the accuracy scores obtained, it appears that the Extra Trees model performed the best among the decision tree models, while Gradient Boost performed the best among the boosting models. Therefore, for the second ensemble model, we can focus on using the following models: Logistic Regression, Naïve Bayes, Extra Trees, Gradient Boost, and SVM.\n",
    "\n",
    "By creating this second ensemble model using the selected best models from each category, we can determine if the overall performance improves compared to the first ensemble model that included all models. This approach allows us to leverage the strengths of the selected models and potentially achieve better results."
   ]
  },
  {
   "cell_type": "code",
   "execution_count": 13,
   "id": "ea8e3a1d",
   "metadata": {},
   "outputs": [
    {
     "name": "stderr",
     "output_type": "stream",
     "text": [
      "C:\\Users\\sarvin.farhad\\anaconda3\\lib\\site-packages\\sklearn\\feature_extraction\\text.py:396: UserWarning: Your stop_words may be inconsistent with your preprocessing. Tokenizing the stop words generated tokens [' ', 'b', 'c', 'd', 'e', 'f', 'g', 'h', 'k', 'l', 'm', 'n', 'o', 'p', 'r', 's', 't', 'u', 'v', 'w', 'x', 'y'] not in stop_words.\n",
      "  warnings.warn(\n"
     ]
    },
    {
     "name": "stdout",
     "output_type": "stream",
     "text": [
      "= Ensembled Model of Selected Models =\n",
      "Accuracy  -------------------- 0.9181\n",
      "Precision  ------------------- 0.9408\n",
      "Sensitivity  ----------------- 0.8795\n",
      "Specifity  ------------------- 0.9517\n",
      "F1 Score --------------------- 0.9091\n"
     ]
    }
   ],
   "source": [
    "# Intantiate the Ensembled model of all models\n",
    "vc_all = VotingClassifier([\n",
    "    (\"lr\", lr),\n",
    "    (\"nb\", nb),\n",
    "    (\"rf\", rf),\n",
    "    (\"et\", et),\n",
    "    (\"gb\", gb),\n",
    "    (\"xgb\", xgb),\n",
    "    (\"svc\", svc)], \n",
    "    voting='hard',           \n",
    "    n_jobs=4)\n",
    "\n",
    "# Fit the model\n",
    "vc_all.fit(X_train, y_train)\n",
    "\n",
    "# Predict y\n",
    "preds = vc_all.predict(X_test)\n",
    "\n",
    "# Confusion matrix values\n",
    "tn, fp, fn, tp = confusion_matrix(y_test, preds).ravel() \n",
    "\n",
    "# Evaluate the model\n",
    "print(f\" Ensembled Model of Selected Models \".center(38, \"=\"))\n",
    "print(f\"Accuracy  -------------------- {round(accuracy_score(y_test, preds),4)}\")\n",
    "print(f\"Precision  ------------------- {round(precision_score(y_test, preds),4)}\")\n",
    "print(f\"Sensitivity  ----------------- {round(recall_score(y_test, preds),4)}\")\n",
    "print(f\"Specifity  ------------------- {round(tn/(tn + fp),4)}\")\n",
    "print(f\"F1 Score --------------------- {round(f1_score(y_test, preds),4)}\")"
   ]
  },
  {
   "cell_type": "code",
   "execution_count": 14,
   "id": "f565c72b",
   "metadata": {},
   "outputs": [
    {
     "name": "stdout",
     "output_type": "stream",
     "text": [
      "= Ensembled Model of Selected Models =\n",
      "Accuracy  -------------------- 0.9219\n",
      "Precision  ------------------- 0.9383\n",
      "Sensitivity  ----------------- 0.8909\n",
      "Specifity  ------------------- 0.9489\n",
      "F1 Score --------------------- 0.914\n"
     ]
    }
   ],
   "source": [
    "# Intantiate the Ensembled model of selected models (the best ones)\n",
    "vc_select = VotingClassifier([\n",
    "    (\"lr\", lr),\n",
    "    (\"nb\", nb),\n",
    "    (\"et\", et),\n",
    "    (\"gb\", gb),\n",
    "    (\"svc\", svc)], \n",
    "    voting='hard',           \n",
    "    n_jobs=4)\n",
    "\n",
    "# Fit the model\n",
    "vc_select.fit(X_train, y_train)\n",
    "\n",
    "# Predict y\n",
    "preds = vc_select.predict(X_test)\n",
    "\n",
    "# Confusion matrix values\n",
    "tn, fp, fn, tp = confusion_matrix(y_test, preds).ravel() \n",
    "\n",
    "# Evaluate the model\n",
    "print(f\" Ensembled Model of Selected Models \".center(38, \"=\"))\n",
    "print(f\"Accuracy  -------------------- {round(accuracy_score(y_test, preds),4)}\")\n",
    "print(f\"Precision  ------------------- {round(precision_score(y_test, preds),4)}\")\n",
    "print(f\"Sensitivity  ----------------- {round(recall_score(y_test, preds),4)}\")\n",
    "print(f\"Specifity  ------------------- {round(tn/(tn + fp),4)}\")\n",
    "print(f\"F1 Score --------------------- {round(f1_score(y_test, preds),4)}\")"
   ]
  },
  {
   "cell_type": "markdown",
   "id": "edd4a125",
   "metadata": {},
   "source": [
    "### Evaluation"
   ]
  },
  {
   "cell_type": "code",
   "execution_count": 15,
   "id": "e2abef0d",
   "metadata": {},
   "outputs": [
    {
     "name": "stderr",
     "output_type": "stream",
     "text": [
      "C:\\Users\\sarvin.farhad\\anaconda3\\lib\\site-packages\\sklearn\\utils\\deprecation.py:87: FutureWarning: Function plot_confusion_matrix is deprecated; Function `plot_confusion_matrix` is deprecated in 1.0 and will be removed in 1.2. Use one of the class methods: ConfusionMatrixDisplay.from_predictions or ConfusionMatrixDisplay.from_estimator.\n",
      "  warnings.warn(msg, category=FutureWarning)\n"
     ]
    },
    {
     "data": {
      "image/png": "[encoded data removed]",
      "text/plain": [
       "<Figure size 640x480 with 2 Axes>"
      ]
     },
     "metadata": {},
     "output_type": "display_data"
    }
   ],
   "source": [
    "# Plot the confusion matrix of The Ensembled model\n",
    "# Confusion matrix\n",
    "plot_confusion_matrix(vc_select, X_test, y_test, cmap=\"Purples\", values_format=\"d\")\n",
    "\n",
    "plt.title(f\"The Confusion Matrix of Ensembled Model\");"
   ]
  },
  {
   "cell_type": "markdown",
   "id": "f163d146",
   "metadata": {},
   "source": [
    "## Save The Ensembled Model"
   ]
  },
  {
   "cell_type": "code",
   "execution_count": 16,
   "id": "70657530",
   "metadata": {},
   "outputs": [],
   "source": [
    "with open(\"../models/Ensembled Model\", \"wb\") as pickle_out:\n",
    "    dill.dump(vc_select, pickle_out)"
   ]
  },
  {
   "cell_type": "markdown",
   "id": "a0004d58",
   "metadata": {},
   "source": [
    "## Summary of Predicting Subreddits by The Ensembled Model\n",
    "- Multiple classification models, including Logistic Regression, Naïve Bayes, Random Forest, Extra Trees, Gradient Boost, XGBoost, and SVM, were evaluated for subreddit classification.\n",
    "- Five models (including Logistic Regression, Naïve Bayes, Extra Trees, Gradient Boost and SVM) were ensembled using the Voting Classifier technique to combine their predictions and improve overall accuracy.\n",
    "- The ensembled model achieved an impressive accuracy of 0.9219 in classifying posts between the AppleWatch and Galaxy Watch subreddits.\n",
    "- By combining the strengths of the selected models, the ensemble approach demonstrated superior performance compared to individual models."
   ]
  }
 ],
 "metadata": {
  "kernelspec": {
   "display_name": "Python 3 (ipykernel)",
   "language": "python",
   "name": "python3"
  },
  "language_info": {
   "codemirror_mode": {
    "name": "ipython",
    "version": 3
   },
   "file_extension": ".py",
   "mimetype": "text/x-python",
   "name": "python",
   "nbconvert_exporter": "python",
   "pygments_lexer": "ipython3",
   "version": "3.9.13"
  }
 },
 "nbformat": 4,
 "nbformat_minor": 5
}

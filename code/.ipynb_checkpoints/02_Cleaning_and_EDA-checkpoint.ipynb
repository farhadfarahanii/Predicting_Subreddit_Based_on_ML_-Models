{
 "cells": [
  {
   "cell_type": "markdown",
   "id": "9943e7e3",
   "metadata": {},
   "source": [
    "## Imports"
   ]
  },
  {
   "cell_type": "code",
   "execution_count": 1,
   "id": "fef3a160",
   "metadata": {},
   "outputs": [],
   "source": [
    "import pandas as pd\n",
    "import numpy as np\n",
    "import matplotlib.pyplot as plt\n",
    "import seaborn as sns\n",
    "\n",
    "from sklearn.feature_extraction.text import CountVectorizer\n",
    "\n",
    "pd.set_option(\"display.max_colwidth\", None)"
   ]
  },
  {
   "cell_type": "code",
   "execution_count": 2,
   "id": "af51a025",
   "metadata": {},
   "outputs": [],
   "source": [
    "samsung_path = \"../data/samsung.csv\"\n",
    "apple_path = \"../data/apple.csv\""
   ]
  },
  {
   "cell_type": "markdown",
   "id": "c1b6e9a5",
   "metadata": {},
   "source": [
    "## Functions"
   ]
  },
  {
   "cell_type": "code",
   "execution_count": 3,
   "id": "c1fe58f3",
   "metadata": {},
   "outputs": [],
   "source": [
    "# Function for making histogram \n",
    "def length_distribution(column, title, x_label, num_bins, color):        \n",
    "    plt.figure(figsize=(10,8))\n",
    "    plt.hist(column, bins = num_bins, color = color, edgecolor = \"black\")\n",
    "\n",
    "    #Add chart labels\n",
    "    plt.title(title, fontsize=13)\n",
    "    plt.xlabel(x_label, fontsize=12)\n",
    "    plt.ylabel(\"Number of Frequency\", fontsize=12);"
   ]
  },
  {
   "cell_type": "code",
   "execution_count": 4,
   "id": "b10437fb",
   "metadata": {},
   "outputs": [],
   "source": [
    "# Define the function for cleaning the text\n",
    "def text_preprocess(text):\n",
    "    \n",
    "    # Convert sentences into lowercase\n",
    "    text[\"description\"] = text[\"description\"].apply(lambda c: c.lower())\n",
    "    \n",
    "    # Remove special characters and numbers present in the text\n",
    "    text[\"description\"] = text[\"description\"].apply(lambda c: c.replace(\"[^A-Za-z]\",\"\"))\n",
    "    \n",
    "    # Remove punctuations in the text\n",
    "    #text['caption'] = text['caption'].apply(lambda c: c.replace(\"!()-[]{};:\\,<=>./?@#$%^&*_~''\", ''))\n",
    "        \n",
    "    # Remove extra spaces\n",
    "    text[\"description\"] = text[\"description\"].apply(lambda c: c.replace(\"\\s+\",\" \"))\n",
    "    \n",
    "    # Remove single characters\n",
    "    text[\"description\"] = text[\"description\"].apply(lambda c: \" \".join([word for word in c.split() if len(word)>1]))    \n",
    "       \n",
    "    return text"
   ]
  },
  {
   "cell_type": "code",
   "execution_count": 5,
   "id": "8cd6d027",
   "metadata": {},
   "outputs": [],
   "source": [
    "# Function for instantiating CountVectorizer, fit and transform on corpus and finaly plot the most occurred words \n",
    "def vectorizing_df(column, ngram_range, dfname, color):\n",
    "    X = column\n",
    "    cvec = CountVectorizer(stop_words=\"english\", ngram_range=ngram_range)\n",
    "    cvec.fit(X)\n",
    "    X = cvec.transform(X)\n",
    "\n",
    "    # convert X to dataframe\n",
    "    df_vec = pd.DataFrame(X.todense(), columns = cvec.get_feature_names())\n",
    "    print(f\"Number of tokens after applying CountVectorizer on {dfname} Dataframe: {df_vec.shape[1]}\")\n",
    "\n",
    "    # plot most occured words\n",
    "    df_vec.sum().sort_values(ascending=False).head(20).plot(kind=\"barh\",\n",
    "                            color = color, edgecolor = \"black\")\n",
    "    plt.title(f\"Most words in Posts of {dfname}\", fontsize=12)\n",
    "    plt.xlabel(\"Number of Words\", fontsize=10)\n",
    "    plt.ylabel(\"Words\", fontsize=10);"
   ]
  },
  {
   "cell_type": "markdown",
   "id": "01fb2c6b",
   "metadata": {},
   "source": [
    "## Exploatory Data Analysis (EDA) and Preprocessing"
   ]
  },
  {
   "cell_type": "markdown",
   "id": "bddfcd72",
   "metadata": {},
   "source": [
    "### Samsung Galaxy Watch\n",
    "In the following cells I'll do some exploring and cleaning in samsung dataframe and will make a new dataframe as a galaxy watch which only has usefull columns for EDA"
   ]
  },
  {
   "cell_type": "code",
   "execution_count": 6,
   "id": "3791fc73",
   "metadata": {},
   "outputs": [
    {
     "name": "stdout",
     "output_type": "stream",
     "text": [
      "Sample Data :     subreddit  \\\n",
      "0  GalaxyWatch   \n",
      "1  GalaxyWatch   \n",
      "2  GalaxyWatch   \n",
      "3  GalaxyWatch   \n",
      "4  GalaxyWatch   \n",
      "\n",
      "                                                                                                                                                                                                                                                                                                                                                                                                                                 selftext  \\\n",
      "0                                                                                                          Hey! Join me this month for the fitness challenge.  This is a big month for me and I am going to need support and motivation in the following months. I'd appreciate it!\\n\\nJoin the Lavender, May challenge! Get special badges and get fit with a community in Samsung Health Together https://shealth.samsung.com/s/pyPFbND   \n",
      "1                                                                                                                                                                                                                                                                                                                                I noticed the DISPLAY watch is better then the actual watch you buy... (Yes I am on the latest software)   \n",
      "2                                                                                                                                                                                       I got a tattoo on my wrist and my watch thinks it's not on my body so I miss notifications.  \\nAny setting to have us receive notifications even if the watch is charging or on our dresser? Or in my case still on my body but not detecting it?   \n",
      "3  So when I open my galaxy wearables app, go to watch settings and click on notifications, the entire app crashes.\\n\\nI tried an alternate route by going to the watches settings app, then to notifications, and when I click app notifications, it says continue on phone and it does open in the phone but it says no apps. \\n\\nI tried rebooting the watch and the phone but nothing seems to work, help would be appreciated a lot!   \n",
      "4                                                                                                                                                       I have a number of SSID's in my home for different purposes.  For some reason, my watch keeps connecting to an isolated VLAN that is designed solely for the XBOX.   Other than shutting the WiFi off, how do I ensure the watch does not try to connect to this particular SSID?   \n",
      "\n",
      "  author_fullname  gilded  \\\n",
      "0     t2_hseafy2n       0   \n",
      "1     t2_6c00ptpg       0   \n",
      "2        t2_iw3o0       0   \n",
      "3     t2_ixl3kwi6       0   \n",
      "4      t2_1aw8y2q       0   \n",
      "\n",
      "                                                             title  \\\n",
      "0                                            May Fitness Challenge   \n",
      "1                                               What's this about?   \n",
      "2  Option to have notifications on watch even when off your wrist?   \n",
      "3                             Not receiving notifications or Watch   \n",
      "4                                       GW5 and specific WiFi SSID   \n",
      "\n",
      "                  link_flair_richtext subreddit_name_prefixed  hidden  pwls  \\\n",
      "0     [{'e': 'text', 't': 'Fitness'}]           r/GalaxyWatch   False     6   \n",
      "1                                  []           r/GalaxyWatch   False     6   \n",
      "2     [{'e': 'text', 't': 'Wear OS'}]           r/GalaxyWatch   False     6   \n",
      "3  [{'e': 'text', 't': 'Comparison'}]           r/GalaxyWatch   False     6   \n",
      "4                                  []           r/GalaxyWatch   False     6   \n",
      "\n",
      "   link_flair_css_class  ...           url_overridden_by_dest  \\\n",
      "0                   NaN  ...                              NaN   \n",
      "1                   NaN  ...  https://v.redd.it/z2yuso4id8xa1   \n",
      "2                   NaN  ...                              NaN   \n",
      "3                   NaN  ...                              NaN   \n",
      "4                   NaN  ...                              NaN   \n",
      "\n",
      "                                                                                                                                                                                                                                                                                                                                                                                                                                                                                                                                                                                                                                                                                                                                                                                                                                                                                                                                                                                                                                                                                                                                                                                                                                                                                                                                                                                                                                                                                                                                                                                                                                                                                                                                                                                                                                       preview  \\\n",
      "0                                                                                                                                                                                                                                                                                                                                                                                                                                                                                                                                                                                                                                                                                                                                                                                                                                                                                                                                                                                                                                                                                                                                                                                                                                                                                                                                                                                                                                                                                                                                                                                                                                                                                                                                                                                                                                          NaN   \n",
      "1  {'images': [{'source': {'url': 'https://external-preview.redd.it/2Kik0JtNMyWuKXJsm0Ltt1eK69G-c_DcjoRGJxoakYg.png?format=pjpg&amp;auto=webp&amp;v=enabled&amp;s=9f4dacdfa1578f1895751b7a73175a59d16562e5', 'width': 1080, 'height': 1230}, 'resolutions': [{'url': 'https://external-preview.redd.it/2Kik0JtNMyWuKXJsm0Ltt1eK69G-c_DcjoRGJxoakYg.png?width=108&amp;crop=smart&amp;format=pjpg&amp;auto=webp&amp;v=enabled&amp;s=2da0019a0d7a52a7ce9077559bdf339a521eeb52', 'width': 108, 'height': 123}, {'url': 'https://external-preview.redd.it/2Kik0JtNMyWuKXJsm0Ltt1eK69G-c_DcjoRGJxoakYg.png?width=216&amp;crop=smart&amp;format=pjpg&amp;auto=webp&amp;v=enabled&amp;s=29816734ef64670cc1e201a47506bbe5885146fe', 'width': 216, 'height': 246}, {'url': 'https://external-preview.redd.it/2Kik0JtNMyWuKXJsm0Ltt1eK69G-c_DcjoRGJxoakYg.png?width=320&amp;crop=smart&amp;format=pjpg&amp;auto=webp&amp;v=enabled&amp;s=8a6078e8992859aa0f8a1f4f17a1542d59eec60d', 'width': 320, 'height': 364}, {'url': 'https://external-preview.redd.it/2Kik0JtNMyWuKXJsm0Ltt1eK69G-c_DcjoRGJxoakYg.png?width=640&amp;crop=smart&amp;format=pjpg&amp;auto=webp&amp;v=enabled&amp;s=ccc94e8f75231b3e9ba0664d187925b18eb424a1', 'width': 640, 'height': 728}, {'url': 'https://external-preview.redd.it/2Kik0JtNMyWuKXJsm0Ltt1eK69G-c_DcjoRGJxoakYg.png?width=960&amp;crop=smart&amp;format=pjpg&amp;auto=webp&amp;v=enabled&amp;s=da430877899706ea60009f66a457aca37171e27c', 'width': 960, 'height': 1093}, {'url': 'https://external-preview.redd.it/2Kik0JtNMyWuKXJsm0Ltt1eK69G-c_DcjoRGJxoakYg.png?width=1080&amp;crop=smart&amp;format=pjpg&amp;auto=webp&amp;v=enabled&amp;s=4148f805605bef115aba008791c56d69a1e849ea', 'width': 1080, 'height': 1230}], 'variants': {}, 'id': '2Kik0JtNMyWuKXJsm0Ltt1eK69G-c_DcjoRGJxoakYg'}], 'enabled': False}   \n",
      "2                                                                                                                                                                                                                                                                                                                                                                                                                                                                                                                                                                                                                                                                                                                                                                                                                                                                                                                                                                                                                                                                                                                                                                                                                                                                                                                                                                                                                                                                                                                                                                                                                                                                                                                                                                                                                                          NaN   \n",
      "3                                                                                                                                                                                                                                                                                                                                                                                                                                                                                                                                                                                                                                                                                                                                                                                                                                                                                                                                                                                                                                                                                                                                                                                                                                                                                                                                                                                                                                                                                                                                                                                                                                                                                                                                                                                                                                          NaN   \n",
      "4                                                                                                                                                                                                                                                                                                                                                                                                                                                                                                                                                                                                                                                                                                                                                                                                                                                                                                                                                                                                                                                                                                                                                                                                                                                                                                                                                                                                                                                                                                                                                                                                                                                                                                                                                                                                                                          NaN   \n",
      "\n",
      "   is_gallery  media_metadata gallery_data  crosspost_parent_list  \\\n",
      "0         NaN             NaN          NaN                    NaN   \n",
      "1         NaN             NaN          NaN                    NaN   \n",
      "2         NaN             NaN          NaN                    NaN   \n",
      "3         NaN             NaN          NaN                    NaN   \n",
      "4         NaN             NaN          NaN                    NaN   \n",
      "\n",
      "  crosspost_parent poll_data  author_cakeday edited_on  \n",
      "0              NaN       NaN             NaN       NaN  \n",
      "1              NaN       NaN             NaN       NaN  \n",
      "2              NaN       NaN             NaN       NaN  \n",
      "3              NaN       NaN             NaN       NaN  \n",
      "4              NaN       NaN             NaN       NaN  \n",
      "\n",
      "[5 rows x 98 columns]\n",
      "\n",
      "--------------------------\n",
      "\n",
      " Columns : ['subreddit', 'selftext', 'author_fullname', 'gilded', 'title', 'link_flair_richtext', 'subreddit_name_prefixed', 'hidden', 'pwls', 'link_flair_css_class', 'thumbnail_height', 'top_awarded_type', 'hide_score', 'quarantine', 'link_flair_text_color', 'upvote_ratio', 'author_flair_background_color', 'subreddit_type', 'total_awards_received', 'media_embed', 'thumbnail_width', 'author_flair_template_id', 'is_original_content', 'secure_media', 'is_reddit_media_domain', 'is_meta', 'category', 'secure_media_embed', 'link_flair_text', 'score', 'is_created_from_ads_ui', 'author_premium', 'thumbnail', 'edited', 'author_flair_css_class', 'author_flair_richtext', 'gildings', 'content_categories', 'is_self', 'link_flair_type', 'wls', 'removed_by_category', 'author_flair_type', 'domain', 'allow_live_comments', 'suggested_sort', 'view_count', 'archived', 'no_follow', 'is_crosspostable', 'pinned', 'over_18', 'all_awardings', 'awarders', 'media_only', 'link_flair_template_id', 'can_gild', 'spoiler', 'locked', 'author_flair_text', 'treatment_tags', 'removed_by', 'distinguished', 'subreddit_id', 'link_flair_background_color', 'id', 'is_robot_indexable', 'author', 'discussion_type', 'num_comments', 'send_replies', 'whitelist_status', 'contest_mode', 'author_patreon_flair', 'author_flair_text_color', 'permalink', 'parent_whitelist_status', 'stickied', 'url', 'subreddit_subscribers', 'created_utc', 'num_crossposts', 'media', 'is_video', 'retrieved_utc', 'updated_utc', 'utc_datetime_str', 'post_hint', 'url_overridden_by_dest', 'preview', 'is_gallery', 'media_metadata', 'gallery_data', 'crosspost_parent_list', 'crosspost_parent', 'poll_data', 'author_cakeday', 'edited_on']\n",
      "\n",
      "--------------------------\n",
      "\n",
      " Size of the dataset : 3498\n",
      "\n",
      "--------------------------\n",
      "\n",
      " Total number of columns : 98\n"
     ]
    }
   ],
   "source": [
    "# load data\n",
    "df_samsung = pd.read_csv(samsung_path).drop(columns=\"Unnamed: 0\")\n",
    "\n",
    "# Get some basic information \n",
    "print(f\"Sample Data :{df_samsung.head()}\")\n",
    "print(f\"\\n--------------------------\\n\\n Columns : {[i for i in df_samsung.columns]}\")\n",
    "print(f\"\\n--------------------------\\n\\n Size of the dataset : {df_samsung.shape[0]}\")\n",
    "print(f\"\\n--------------------------\\n\\n Total number of columns : {df_samsung.shape[1]}\")"
   ]
  },
  {
   "cell_type": "code",
   "execution_count": 7,
   "id": "d59cc4d3",
   "metadata": {},
   "outputs": [
    {
     "name": "stdout",
     "output_type": "stream",
     "text": [
      "Number of missing values in title column: 0\n",
      "Number of missing values in selftext column: 1141\n"
     ]
    },
    {
     "data": {
      "text/html": [
       "<div>\n",
       "<style scoped>\n",
       "    .dataframe tbody tr th:only-of-type {\n",
       "        vertical-align: middle;\n",
       "    }\n",
       "\n",
       "    .dataframe tbody tr th {\n",
       "        vertical-align: top;\n",
       "    }\n",
       "\n",
       "    .dataframe thead th {\n",
       "        text-align: right;\n",
       "    }\n",
       "</style>\n",
       "<table border=\"1\" class=\"dataframe\">\n",
       "  <thead>\n",
       "    <tr style=\"text-align: right;\">\n",
       "      <th></th>\n",
       "      <th>title</th>\n",
       "      <th>selftext</th>\n",
       "    </tr>\n",
       "  </thead>\n",
       "  <tbody>\n",
       "    <tr>\n",
       "      <th>5</th>\n",
       "      <td>If i download around 2GB of spotify music in my watch 4 classic will it effect the performance of my watch?</td>\n",
       "      <td>NaN</td>\n",
       "    </tr>\n",
       "    <tr>\n",
       "      <th>10</th>\n",
       "      <td>Awful Battery</td>\n",
       "      <td>NaN</td>\n",
       "    </tr>\n",
       "    <tr>\n",
       "      <th>20</th>\n",
       "      <td>I have a new watch 5. I can make calls on it with no problem (it's LTE); but I can't receive calls on it. When I answer on my watch, it then directs me to my phone. Also, we got them through a BOGO deal and my daughter's answers calls fine. Help please</td>\n",
       "      <td>NaN</td>\n",
       "    </tr>\n",
       "    <tr>\n",
       "      <th>23</th>\n",
       "      <td>Up to 80% off from Apr 26 to May 3 for the CELEST 3020 Digital Watch on the Google Play Store!</td>\n",
       "      <td>NaN</td>\n",
       "    </tr>\n",
       "    <tr>\n",
       "      <th>25</th>\n",
       "      <td>Pretty good battery life this weekend on my GW4 Classic</td>\n",
       "      <td>NaN</td>\n",
       "    </tr>\n",
       "    <tr>\n",
       "      <th>...</th>\n",
       "      <td>...</td>\n",
       "      <td>...</td>\n",
       "    </tr>\n",
       "    <tr>\n",
       "      <th>3489</th>\n",
       "      <td>In the always-on mode of the Galaxy Watch active R500, the clock face is not the right size. Please fix this problem in the next updates.</td>\n",
       "      <td>NaN</td>\n",
       "    </tr>\n",
       "    <tr>\n",
       "      <th>3490</th>\n",
       "      <td>Calls aren't showing 1/5 times in GW4, even when connected. Anyone else or any solutions?</td>\n",
       "      <td>NaN</td>\n",
       "    </tr>\n",
       "    <tr>\n",
       "      <th>3491</th>\n",
       "      <td>Aye yo wtf !?</td>\n",
       "      <td>NaN</td>\n",
       "    </tr>\n",
       "    <tr>\n",
       "      <th>3492</th>\n",
       "      <td>GMT master ii white gold GW4 40mm</td>\n",
       "      <td>NaN</td>\n",
       "    </tr>\n",
       "    <tr>\n",
       "      <th>3497</th>\n",
       "      <td>GW5 and S10e - how can I stop phone alarm vibrating on watch?</td>\n",
       "      <td>NaN</td>\n",
       "    </tr>\n",
       "  </tbody>\n",
       "</table>\n",
       "<p>1141 rows × 2 columns</p>\n",
       "</div>"
      ],
      "text/plain": [
       "                                                                                                                                                                                                                                                             title  \\\n",
       "5                                                                                                                                                      If i download around 2GB of spotify music in my watch 4 classic will it effect the performance of my watch?   \n",
       "10                                                                                                                                                                                                                                                   Awful Battery   \n",
       "20    I have a new watch 5. I can make calls on it with no problem (it's LTE); but I can't receive calls on it. When I answer on my watch, it then directs me to my phone. Also, we got them through a BOGO deal and my daughter's answers calls fine. Help please   \n",
       "23                                                                                                                                                                  Up to 80% off from Apr 26 to May 3 for the CELEST 3020 Digital Watch on the Google Play Store!   \n",
       "25                                                                                                                                                                                                         Pretty good battery life this weekend on my GW4 Classic   \n",
       "...                                                                                                                                                                                                                                                            ...   \n",
       "3489                                                                                                                     In the always-on mode of the Galaxy Watch active R500, the clock face is not the right size. Please fix this problem in the next updates.   \n",
       "3490                                                                                                                                                                     Calls aren't showing 1/5 times in GW4, even when connected. Anyone else or any solutions?   \n",
       "3491                                                                                                                                                                                                                                                 Aye yo wtf !?   \n",
       "3492                                                                                                                                                                                                                             GMT master ii white gold GW4 40mm   \n",
       "3497                                                                                                                                                                                                 GW5 and S10e - how can I stop phone alarm vibrating on watch?   \n",
       "\n",
       "     selftext  \n",
       "5         NaN  \n",
       "10        NaN  \n",
       "20        NaN  \n",
       "23        NaN  \n",
       "25        NaN  \n",
       "...       ...  \n",
       "3489      NaN  \n",
       "3490      NaN  \n",
       "3491      NaN  \n",
       "3492      NaN  \n",
       "3497      NaN  \n",
       "\n",
       "[1141 rows x 2 columns]"
      ]
     },
     "execution_count": 7,
     "metadata": {},
     "output_type": "execute_result"
    }
   ],
   "source": [
    "# check the missing values in selftext with theire equivalents in title\n",
    "print(f\"Number of missing values in title column: {df_samsung['title'].isna().sum()}\")\n",
    "print(f\"Number of missing values in selftext column: {df_samsung['selftext'].isna().sum()}\")\n",
    "\n",
    "df_samsung.loc[df_samsung[\"selftext\"].isna(), [\"title\", \"selftext\"]]"
   ]
  },
  {
   "cell_type": "code",
   "execution_count": 8,
   "id": "51ecdc2c",
   "metadata": {},
   "outputs": [
    {
     "data": {
      "text/html": [
       "<div>\n",
       "<style scoped>\n",
       "    .dataframe tbody tr th:only-of-type {\n",
       "        vertical-align: middle;\n",
       "    }\n",
       "\n",
       "    .dataframe tbody tr th {\n",
       "        vertical-align: top;\n",
       "    }\n",
       "\n",
       "    .dataframe thead th {\n",
       "        text-align: right;\n",
       "    }\n",
       "</style>\n",
       "<table border=\"1\" class=\"dataframe\">\n",
       "  <thead>\n",
       "    <tr style=\"text-align: right;\">\n",
       "      <th></th>\n",
       "      <th>title</th>\n",
       "      <th>selftext</th>\n",
       "      <th>description</th>\n",
       "    </tr>\n",
       "  </thead>\n",
       "  <tbody>\n",
       "    <tr>\n",
       "      <th>0</th>\n",
       "      <td>May Fitness Challenge</td>\n",
       "      <td>Hey! Join me this month for the fitness challenge.  This is a big month for me and I am going to need support and motivation in the following months. I'd appreciate it!\\n\\nJoin the Lavender, May challenge! Get special badges and get fit with a community in Samsung Health Together https://shealth.samsung.com/s/pyPFbND</td>\n",
       "      <td>Hey! Join me this month for the fitness challenge.  This is a big month for me and I am going to need support and motivation in the following months. I'd appreciate it!\\n\\nJoin the Lavender, May challenge! Get special badges and get fit with a community in Samsung Health Together https://shealth.samsung.com/s/pyPFbND May Fitness Challenge</td>\n",
       "    </tr>\n",
       "    <tr>\n",
       "      <th>1</th>\n",
       "      <td>What's this about?</td>\n",
       "      <td>I noticed the DISPLAY watch is better then the actual watch you buy... (Yes I am on the latest software)</td>\n",
       "      <td>I noticed the DISPLAY watch is better then the actual watch you buy... (Yes I am on the latest software) What's this about?</td>\n",
       "    </tr>\n",
       "    <tr>\n",
       "      <th>2</th>\n",
       "      <td>Option to have notifications on watch even when off your wrist?</td>\n",
       "      <td>I got a tattoo on my wrist and my watch thinks it's not on my body so I miss notifications.  \\nAny setting to have us receive notifications even if the watch is charging or on our dresser? Or in my case still on my body but not detecting it?</td>\n",
       "      <td>I got a tattoo on my wrist and my watch thinks it's not on my body so I miss notifications.  \\nAny setting to have us receive notifications even if the watch is charging or on our dresser? Or in my case still on my body but not detecting it? Option to have notifications on watch even when off your wrist?</td>\n",
       "    </tr>\n",
       "    <tr>\n",
       "      <th>3</th>\n",
       "      <td>Not receiving notifications or Watch</td>\n",
       "      <td>So when I open my galaxy wearables app, go to watch settings and click on notifications, the entire app crashes.\\n\\nI tried an alternate route by going to the watches settings app, then to notifications, and when I click app notifications, it says continue on phone and it does open in the phone but it says no apps. \\n\\nI tried rebooting the watch and the phone but nothing seems to work, help would be appreciated a lot!</td>\n",
       "      <td>So when I open my galaxy wearables app, go to watch settings and click on notifications, the entire app crashes.\\n\\nI tried an alternate route by going to the watches settings app, then to notifications, and when I click app notifications, it says continue on phone and it does open in the phone but it says no apps. \\n\\nI tried rebooting the watch and the phone but nothing seems to work, help would be appreciated a lot! Not receiving notifications or Watch</td>\n",
       "    </tr>\n",
       "    <tr>\n",
       "      <th>4</th>\n",
       "      <td>GW5 and specific WiFi SSID</td>\n",
       "      <td>I have a number of SSID's in my home for different purposes.  For some reason, my watch keeps connecting to an isolated VLAN that is designed solely for the XBOX.   Other than shutting the WiFi off, how do I ensure the watch does not try to connect to this particular SSID?</td>\n",
       "      <td>I have a number of SSID's in my home for different purposes.  For some reason, my watch keeps connecting to an isolated VLAN that is designed solely for the XBOX.   Other than shutting the WiFi off, how do I ensure the watch does not try to connect to this particular SSID? GW5 and specific WiFi SSID</td>\n",
       "    </tr>\n",
       "    <tr>\n",
       "      <th>...</th>\n",
       "      <td>...</td>\n",
       "      <td>...</td>\n",
       "      <td>...</td>\n",
       "    </tr>\n",
       "    <tr>\n",
       "      <th>3493</th>\n",
       "      <td>Automatically given steps</td>\n",
       "      <td>I was at the gym tonight and noticed my watch lowered my total to 1100 steps before shooting back up to my total. It is now past midnight and should be at zero, but suddenly my watch has begun today at 1100 steps. Has anyone experienced this type of error before and remedied it? I performed a factory reset, nothing changed, so I restored my backup on to the watch.</td>\n",
       "      <td>I was at the gym tonight and noticed my watch lowered my total to 1100 steps before shooting back up to my total. It is now past midnight and should be at zero, but suddenly my watch has begun today at 1100 steps. Has anyone experienced this type of error before and remedied it? I performed a factory reset, nothing changed, so I restored my backup on to the watch. Automatically given steps</td>\n",
       "    </tr>\n",
       "    <tr>\n",
       "      <th>3494</th>\n",
       "      <td>Why the FUCK did Google Assistant force my watch to reset?</td>\n",
       "      <td>Why is Google so shit? \\n\\nSimply enabling the assistant on my watch forced it to disconnect and now it requires a complete reset.\\n\\nThis is why people switch to Apple, bullshit like this.</td>\n",
       "      <td>Why is Google so shit? \\n\\nSimply enabling the assistant on my watch forced it to disconnect and now it requires a complete reset.\\n\\nThis is why people switch to Apple, bullshit like this. Why the FUCK did Google Assistant force my watch to reset?</td>\n",
       "    </tr>\n",
       "    <tr>\n",
       "      <th>3495</th>\n",
       "      <td>Nike Run Club</td>\n",
       "      <td>How can I get Nike Run Club app to work on my Watch 5 Pro please?</td>\n",
       "      <td>How can I get Nike Run Club app to work on my Watch 5 Pro please? Nike Run Club</td>\n",
       "    </tr>\n",
       "    <tr>\n",
       "      <th>3496</th>\n",
       "      <td>Looking for a Omega Speedmaster Moonphase watchface</td>\n",
       "      <td>Looking for a Omega Speedmaster Moonphase in a black color. I can only find it in a blue. Any links to it? If not I'm happy with DMs too.</td>\n",
       "      <td>Looking for a Omega Speedmaster Moonphase in a black color. I can only find it in a blue. Any links to it? If not I'm happy with DMs too. Looking for a Omega Speedmaster Moonphase watchface</td>\n",
       "    </tr>\n",
       "    <tr>\n",
       "      <th>3497</th>\n",
       "      <td>GW5 and S10e - how can I stop phone alarm vibrating on watch?</td>\n",
       "      <td></td>\n",
       "      <td>GW5 and S10e - how can I stop phone alarm vibrating on watch?</td>\n",
       "    </tr>\n",
       "  </tbody>\n",
       "</table>\n",
       "<p>3498 rows × 3 columns</p>\n",
       "</div>"
      ],
      "text/plain": [
       "                                                                title  \\\n",
       "0                                               May Fitness Challenge   \n",
       "1                                                  What's this about?   \n",
       "2     Option to have notifications on watch even when off your wrist?   \n",
       "3                                Not receiving notifications or Watch   \n",
       "4                                          GW5 and specific WiFi SSID   \n",
       "...                                                               ...   \n",
       "3493                                        Automatically given steps   \n",
       "3494       Why the FUCK did Google Assistant force my watch to reset?   \n",
       "3495                                                    Nike Run Club   \n",
       "3496              Looking for a Omega Speedmaster Moonphase watchface   \n",
       "3497    GW5 and S10e - how can I stop phone alarm vibrating on watch?   \n",
       "\n",
       "                                                                                                                                                                                                                                                                                                                                                                                                                                    selftext  \\\n",
       "0                                                                                                             Hey! Join me this month for the fitness challenge.  This is a big month for me and I am going to need support and motivation in the following months. I'd appreciate it!\\n\\nJoin the Lavender, May challenge! Get special badges and get fit with a community in Samsung Health Together https://shealth.samsung.com/s/pyPFbND   \n",
       "1                                                                                                                                                                                                                                                                                                                                   I noticed the DISPLAY watch is better then the actual watch you buy... (Yes I am on the latest software)   \n",
       "2                                                                                                                                                                                          I got a tattoo on my wrist and my watch thinks it's not on my body so I miss notifications.  \\nAny setting to have us receive notifications even if the watch is charging or on our dresser? Or in my case still on my body but not detecting it?   \n",
       "3     So when I open my galaxy wearables app, go to watch settings and click on notifications, the entire app crashes.\\n\\nI tried an alternate route by going to the watches settings app, then to notifications, and when I click app notifications, it says continue on phone and it does open in the phone but it says no apps. \\n\\nI tried rebooting the watch and the phone but nothing seems to work, help would be appreciated a lot!   \n",
       "4                                                                                                                                                          I have a number of SSID's in my home for different purposes.  For some reason, my watch keeps connecting to an isolated VLAN that is designed solely for the XBOX.   Other than shutting the WiFi off, how do I ensure the watch does not try to connect to this particular SSID?   \n",
       "...                                                                                                                                                                                                                                                                                                                                                                                                                                      ...   \n",
       "3493                                                          I was at the gym tonight and noticed my watch lowered my total to 1100 steps before shooting back up to my total. It is now past midnight and should be at zero, but suddenly my watch has begun today at 1100 steps. Has anyone experienced this type of error before and remedied it? I performed a factory reset, nothing changed, so I restored my backup on to the watch.   \n",
       "3494                                                                                                                                                                                                                                           Why is Google so shit? \\n\\nSimply enabling the assistant on my watch forced it to disconnect and now it requires a complete reset.\\n\\nThis is why people switch to Apple, bullshit like this.   \n",
       "3495                                                                                                                                                                                                                                                                                                                                                                       How can I get Nike Run Club app to work on my Watch 5 Pro please?   \n",
       "3496                                                                                                                                                                                                                                                                                               Looking for a Omega Speedmaster Moonphase in a black color. I can only find it in a blue. Any links to it? If not I'm happy with DMs too.   \n",
       "3497                                                                                                                                                                                                                                                                                                                                                                                                                                           \n",
       "\n",
       "                                                                                                                                                                                                                                                                                                                                                                                                                                                                      description  \n",
       "0                                                                                                                            Hey! Join me this month for the fitness challenge.  This is a big month for me and I am going to need support and motivation in the following months. I'd appreciate it!\\n\\nJoin the Lavender, May challenge! Get special badges and get fit with a community in Samsung Health Together https://shealth.samsung.com/s/pyPFbND May Fitness Challenge  \n",
       "1                                                                                                                                                                                                                                                                                                                                                     I noticed the DISPLAY watch is better then the actual watch you buy... (Yes I am on the latest software) What's this about?  \n",
       "2                                                                                                                                                               I got a tattoo on my wrist and my watch thinks it's not on my body so I miss notifications.  \\nAny setting to have us receive notifications even if the watch is charging or on our dresser? Or in my case still on my body but not detecting it? Option to have notifications on watch even when off your wrist?  \n",
       "3     So when I open my galaxy wearables app, go to watch settings and click on notifications, the entire app crashes.\\n\\nI tried an alternate route by going to the watches settings app, then to notifications, and when I click app notifications, it says continue on phone and it does open in the phone but it says no apps. \\n\\nI tried rebooting the watch and the phone but nothing seems to work, help would be appreciated a lot! Not receiving notifications or Watch  \n",
       "4                                                                                                                                                                    I have a number of SSID's in my home for different purposes.  For some reason, my watch keeps connecting to an isolated VLAN that is designed solely for the XBOX.   Other than shutting the WiFi off, how do I ensure the watch does not try to connect to this particular SSID? GW5 and specific WiFi SSID  \n",
       "...                                                                                                                                                                                                                                                                                                                                                                                                                                                                           ...  \n",
       "3493                                                                     I was at the gym tonight and noticed my watch lowered my total to 1100 steps before shooting back up to my total. It is now past midnight and should be at zero, but suddenly my watch has begun today at 1100 steps. Has anyone experienced this type of error before and remedied it? I performed a factory reset, nothing changed, so I restored my backup on to the watch. Automatically given steps  \n",
       "3494                                                                                                                                                                                                                     Why is Google so shit? \\n\\nSimply enabling the assistant on my watch forced it to disconnect and now it requires a complete reset.\\n\\nThis is why people switch to Apple, bullshit like this. Why the FUCK did Google Assistant force my watch to reset?  \n",
       "3495                                                                                                                                                                                                                                                                                                                                                                                              How can I get Nike Run Club app to work on my Watch 5 Pro please? Nike Run Club  \n",
       "3496                                                                                                                                                                                                                                                                                Looking for a Omega Speedmaster Moonphase in a black color. I can only find it in a blue. Any links to it? If not I'm happy with DMs too. Looking for a Omega Speedmaster Moonphase watchface  \n",
       "3497                                                                                                                                                                                                                                                                                                                                                                                                                GW5 and S10e - how can I stop phone alarm vibrating on watch?  \n",
       "\n",
       "[3498 rows x 3 columns]"
      ]
     },
     "execution_count": 8,
     "metadata": {},
     "output_type": "execute_result"
    }
   ],
   "source": [
    "# cite for using map str: https://sparkbyexamples.com/pandas/pandas-combine-two-columns-of-text-in-dataframe/#:~:text=Combine%20Two%20Columns%20Using%20%2B%20Operator,does%20addition%20instead%20of%20concatenation.\n",
    "# Fill missing values () in selftext with space\n",
    "df_samsung[\"selftext\"] = df_samsung[\"selftext\"].fillna(\"\")\n",
    "df_samsung[\"selftext\"] = df_samsung[\"selftext\"].replace(\"[removed]\", \"\")\n",
    "df_samsung[\"description\"] = (df_samsung[\"selftext\"].map(str) + \" \" + df_samsung[\"title\"]).str.strip()\n",
    "\n",
    "# check the description column\n",
    "df_samsung.loc[:,[\"title\", \"selftext\", \"description\"]]"
   ]
  },
  {
   "cell_type": "code",
   "execution_count": 10,
   "id": "e220fadf",
   "metadata": {},
   "outputs": [
    {
     "data": {
      "text/plain": [
       "'GW5 extremely low battery life'"
      ]
     },
     "execution_count": 10,
     "metadata": {},
     "output_type": "execute_result"
    }
   ],
   "source": [
    "df_samsung[\"description\"][133]"
   ]
  },
  {
   "cell_type": "code",
   "execution_count": 11,
   "id": "d5136b96",
   "metadata": {},
   "outputs": [
    {
     "data": {
      "text/html": [
       "<div>\n",
       "<style scoped>\n",
       "    .dataframe tbody tr th:only-of-type {\n",
       "        vertical-align: middle;\n",
       "    }\n",
       "\n",
       "    .dataframe tbody tr th {\n",
       "        vertical-align: top;\n",
       "    }\n",
       "\n",
       "    .dataframe thead th {\n",
       "        text-align: right;\n",
       "    }\n",
       "</style>\n",
       "<table border=\"1\" class=\"dataframe\">\n",
       "  <thead>\n",
       "    <tr style=\"text-align: right;\">\n",
       "      <th></th>\n",
       "      <th>author</th>\n",
       "      <th>description</th>\n",
       "      <th>subreddit</th>\n",
       "    </tr>\n",
       "  </thead>\n",
       "  <tbody>\n",
       "    <tr>\n",
       "      <th>0</th>\n",
       "      <td>SunflowerNBarbedWire</td>\n",
       "      <td>Hey! Join me this month for the fitness challenge.  This is a big month for me and I am going to need support and motivation in the following months. I'd appreciate it!\\n\\nJoin the Lavender, May challenge! Get special badges and get fit with a community in Samsung Health Together https://shealth.samsung.com/s/pyPFbND May Fitness Challenge</td>\n",
       "      <td>GalaxyWatch</td>\n",
       "    </tr>\n",
       "    <tr>\n",
       "      <th>1</th>\n",
       "      <td>TypicalZedF</td>\n",
       "      <td>I noticed the DISPLAY watch is better then the actual watch you buy... (Yes I am on the latest software) What's this about?</td>\n",
       "      <td>GalaxyWatch</td>\n",
       "    </tr>\n",
       "    <tr>\n",
       "      <th>2</th>\n",
       "      <td>CCJ22</td>\n",
       "      <td>I got a tattoo on my wrist and my watch thinks it's not on my body so I miss notifications.  \\nAny setting to have us receive notifications even if the watch is charging or on our dresser? Or in my case still on my body but not detecting it? Option to have notifications on watch even when off your wrist?</td>\n",
       "      <td>GalaxyWatch</td>\n",
       "    </tr>\n",
       "    <tr>\n",
       "      <th>3</th>\n",
       "      <td>No_Pudding4739</td>\n",
       "      <td>So when I open my galaxy wearables app, go to watch settings and click on notifications, the entire app crashes.\\n\\nI tried an alternate route by going to the watches settings app, then to notifications, and when I click app notifications, it says continue on phone and it does open in the phone but it says no apps. \\n\\nI tried rebooting the watch and the phone but nothing seems to work, help would be appreciated a lot! Not receiving notifications or Watch</td>\n",
       "      <td>GalaxyWatch</td>\n",
       "    </tr>\n",
       "    <tr>\n",
       "      <th>4</th>\n",
       "      <td>PhobicCarrot</td>\n",
       "      <td>I have a number of SSID's in my home for different purposes.  For some reason, my watch keeps connecting to an isolated VLAN that is designed solely for the XBOX.   Other than shutting the WiFi off, how do I ensure the watch does not try to connect to this particular SSID? GW5 and specific WiFi SSID</td>\n",
       "      <td>GalaxyWatch</td>\n",
       "    </tr>\n",
       "  </tbody>\n",
       "</table>\n",
       "</div>"
      ],
      "text/plain": [
       "                 author  \\\n",
       "0  SunflowerNBarbedWire   \n",
       "1           TypicalZedF   \n",
       "2                 CCJ22   \n",
       "3        No_Pudding4739   \n",
       "4          PhobicCarrot   \n",
       "\n",
       "                                                                                                                                                                                                                                                                                                                                                                                                                                                                   description  \\\n",
       "0                                                                                                                         Hey! Join me this month for the fitness challenge.  This is a big month for me and I am going to need support and motivation in the following months. I'd appreciate it!\\n\\nJoin the Lavender, May challenge! Get special badges and get fit with a community in Samsung Health Together https://shealth.samsung.com/s/pyPFbND May Fitness Challenge   \n",
       "1                                                                                                                                                                                                                                                                                                                                                  I noticed the DISPLAY watch is better then the actual watch you buy... (Yes I am on the latest software) What's this about?   \n",
       "2                                                                                                                                                            I got a tattoo on my wrist and my watch thinks it's not on my body so I miss notifications.  \\nAny setting to have us receive notifications even if the watch is charging or on our dresser? Or in my case still on my body but not detecting it? Option to have notifications on watch even when off your wrist?   \n",
       "3  So when I open my galaxy wearables app, go to watch settings and click on notifications, the entire app crashes.\\n\\nI tried an alternate route by going to the watches settings app, then to notifications, and when I click app notifications, it says continue on phone and it does open in the phone but it says no apps. \\n\\nI tried rebooting the watch and the phone but nothing seems to work, help would be appreciated a lot! Not receiving notifications or Watch   \n",
       "4                                                                                                                                                                 I have a number of SSID's in my home for different purposes.  For some reason, my watch keeps connecting to an isolated VLAN that is designed solely for the XBOX.   Other than shutting the WiFi off, how do I ensure the watch does not try to connect to this particular SSID? GW5 and specific WiFi SSID   \n",
       "\n",
       "     subreddit  \n",
       "0  GalaxyWatch  \n",
       "1  GalaxyWatch  \n",
       "2  GalaxyWatch  \n",
       "3  GalaxyWatch  \n",
       "4  GalaxyWatch  "
      ]
     },
     "execution_count": 11,
     "metadata": {},
     "output_type": "execute_result"
    }
   ],
   "source": [
    "# make a new dataframe for EDA\n",
    "df_galaxywatch = df_samsung.loc[:,[\"author\", \"description\", \"subreddit\"]]\n",
    "df_galaxywatch.head()"
   ]
  },
  {
   "cell_type": "code",
   "execution_count": null,
   "id": "0fa9ecac",
   "metadata": {},
   "outputs": [],
   "source": [
    "# export and save galaxywatch dataframe\n",
    "#df_galaxywatch.to_csv('../data/galaxy_watch.csv')"
   ]
  },
  {
   "cell_type": "code",
   "execution_count": 12,
   "id": "38e13c81",
   "metadata": {},
   "outputs": [
    {
     "name": "stdout",
     "output_type": "stream",
     "text": [
      "Number of unique authors: 2457\n"
     ]
    },
    {
     "data": {
      "text/html": [
       "<div>\n",
       "<style scoped>\n",
       "    .dataframe tbody tr th:only-of-type {\n",
       "        vertical-align: middle;\n",
       "    }\n",
       "\n",
       "    .dataframe tbody tr th {\n",
       "        vertical-align: top;\n",
       "    }\n",
       "\n",
       "    .dataframe thead th {\n",
       "        text-align: right;\n",
       "    }\n",
       "</style>\n",
       "<table border=\"1\" class=\"dataframe\">\n",
       "  <thead>\n",
       "    <tr style=\"text-align: right;\">\n",
       "      <th></th>\n",
       "      <th>count</th>\n",
       "    </tr>\n",
       "    <tr>\n",
       "      <th>author</th>\n",
       "      <th></th>\n",
       "    </tr>\n",
       "  </thead>\n",
       "  <tbody>\n",
       "    <tr>\n",
       "      <th>DADAMWF</th>\n",
       "      <td>23</td>\n",
       "    </tr>\n",
       "    <tr>\n",
       "      <th>Own_Statement_8788</th>\n",
       "      <td>18</td>\n",
       "    </tr>\n",
       "    <tr>\n",
       "      <th>No-Impress3806</th>\n",
       "      <td>14</td>\n",
       "    </tr>\n",
       "    <tr>\n",
       "      <th>rusahitam</th>\n",
       "      <td>14</td>\n",
       "    </tr>\n",
       "    <tr>\n",
       "      <th>MyWatchFace</th>\n",
       "      <td>14</td>\n",
       "    </tr>\n",
       "    <tr>\n",
       "      <th>...</th>\n",
       "      <td>...</td>\n",
       "    </tr>\n",
       "    <tr>\n",
       "      <th>Nightwing55</th>\n",
       "      <td>1</td>\n",
       "    </tr>\n",
       "    <tr>\n",
       "      <th>NightFuryX0</th>\n",
       "      <td>1</td>\n",
       "    </tr>\n",
       "    <tr>\n",
       "      <th>NightAshamed</th>\n",
       "      <td>1</td>\n",
       "    </tr>\n",
       "    <tr>\n",
       "      <th>NickiMinaj_05</th>\n",
       "      <td>1</td>\n",
       "    </tr>\n",
       "    <tr>\n",
       "      <th>zzzzsamzzzz</th>\n",
       "      <td>1</td>\n",
       "    </tr>\n",
       "  </tbody>\n",
       "</table>\n",
       "<p>2457 rows × 1 columns</p>\n",
       "</div>"
      ],
      "text/plain": [
       "                    count\n",
       "author                   \n",
       "DADAMWF                23\n",
       "Own_Statement_8788     18\n",
       "No-Impress3806         14\n",
       "rusahitam              14\n",
       "MyWatchFace            14\n",
       "...                   ...\n",
       "Nightwing55             1\n",
       "NightFuryX0             1\n",
       "NightAshamed            1\n",
       "NickiMinaj_05           1\n",
       "zzzzsamzzzz             1\n",
       "\n",
       "[2457 rows x 1 columns]"
      ]
     },
     "execution_count": 12,
     "metadata": {},
     "output_type": "execute_result"
    }
   ],
   "source": [
    "# number of unique authors\n",
    "print(f\"Number of unique authors: {df_galaxywatch['author'].nunique()}\")\n",
    "\n",
    "# filtering description and counting them by their authors\n",
    "df_galaxywatch.groupby(\"author\")[\"description\"].agg([\"count\"]).sort_values(\"count\", ascending = False)"
   ]
  },
  {
   "cell_type": "code",
   "execution_count": 13,
   "id": "72ee151a",
   "metadata": {},
   "outputs": [
    {
     "name": "stdout",
     "output_type": "stream",
     "text": [
      "The size of the galaxy watch subreddit dataframe after removing duplicate authors: 2457\n"
     ]
    }
   ],
   "source": [
    "# Drop the duplicate authors\n",
    "df_galaxywatch.drop_duplicates(subset=\"author\", keep=\"first\", inplace=True)\n",
    "print(f\"The size of the galaxy watch subreddit dataframe after removing duplicate authors: {df_galaxywatch.shape[0]}\")"
   ]
  },
  {
   "cell_type": "code",
   "execution_count": 14,
   "id": "82168e5b",
   "metadata": {},
   "outputs": [
    {
     "data": {
      "text/html": [
       "<div>\n",
       "<style scoped>\n",
       "    .dataframe tbody tr th:only-of-type {\n",
       "        vertical-align: middle;\n",
       "    }\n",
       "\n",
       "    .dataframe tbody tr th {\n",
       "        vertical-align: top;\n",
       "    }\n",
       "\n",
       "    .dataframe thead th {\n",
       "        text-align: right;\n",
       "    }\n",
       "</style>\n",
       "<table border=\"1\" class=\"dataframe\">\n",
       "  <thead>\n",
       "    <tr style=\"text-align: right;\">\n",
       "      <th></th>\n",
       "      <th>author</th>\n",
       "      <th>description</th>\n",
       "      <th>subreddit</th>\n",
       "    </tr>\n",
       "  </thead>\n",
       "  <tbody>\n",
       "    <tr>\n",
       "      <th>0</th>\n",
       "      <td>SunflowerNBarbedWire</td>\n",
       "      <td>hey! join me this month for the fitness challenge. this is big month for me and am going to need support and motivation in the following months. i'd appreciate it! join the lavender, may challenge! get special badges and get fit with community in samsung health together https://shealth.samsung.com/s/pypfbnd may fitness challenge</td>\n",
       "      <td>GalaxyWatch</td>\n",
       "    </tr>\n",
       "    <tr>\n",
       "      <th>1</th>\n",
       "      <td>TypicalZedF</td>\n",
       "      <td>noticed the display watch is better then the actual watch you buy... (yes am on the latest software) what's this about?</td>\n",
       "      <td>GalaxyWatch</td>\n",
       "    </tr>\n",
       "    <tr>\n",
       "      <th>2</th>\n",
       "      <td>CCJ22</td>\n",
       "      <td>got tattoo on my wrist and my watch thinks it's not on my body so miss notifications. any setting to have us receive notifications even if the watch is charging or on our dresser? or in my case still on my body but not detecting it? option to have notifications on watch even when off your wrist?</td>\n",
       "      <td>GalaxyWatch</td>\n",
       "    </tr>\n",
       "    <tr>\n",
       "      <th>3</th>\n",
       "      <td>No_Pudding4739</td>\n",
       "      <td>so when open my galaxy wearables app, go to watch settings and click on notifications, the entire app crashes. tried an alternate route by going to the watches settings app, then to notifications, and when click app notifications, it says continue on phone and it does open in the phone but it says no apps. tried rebooting the watch and the phone but nothing seems to work, help would be appreciated lot! not receiving notifications or watch</td>\n",
       "      <td>GalaxyWatch</td>\n",
       "    </tr>\n",
       "    <tr>\n",
       "      <th>4</th>\n",
       "      <td>PhobicCarrot</td>\n",
       "      <td>have number of ssid's in my home for different purposes. for some reason, my watch keeps connecting to an isolated vlan that is designed solely for the xbox. other than shutting the wifi off, how do ensure the watch does not try to connect to this particular ssid? gw5 and specific wifi ssid</td>\n",
       "      <td>GalaxyWatch</td>\n",
       "    </tr>\n",
       "    <tr>\n",
       "      <th>...</th>\n",
       "      <td>...</td>\n",
       "      <td>...</td>\n",
       "      <td>...</td>\n",
       "    </tr>\n",
       "    <tr>\n",
       "      <th>3493</th>\n",
       "      <td>ass_acoustics</td>\n",
       "      <td>was at the gym tonight and noticed my watch lowered my total to 1100 steps before shooting back up to my total. it is now past midnight and should be at zero, but suddenly my watch has begun today at 1100 steps. has anyone experienced this type of error before and remedied it? performed factory reset, nothing changed, so restored my backup on to the watch. automatically given steps</td>\n",
       "      <td>GalaxyWatch</td>\n",
       "    </tr>\n",
       "    <tr>\n",
       "      <th>3494</th>\n",
       "      <td>Valiantay</td>\n",
       "      <td>why is google so shit? simply enabling the assistant on my watch forced it to disconnect and now it requires complete reset. this is why people switch to apple, bullshit like this. why the fuck did google assistant force my watch to reset?</td>\n",
       "      <td>GalaxyWatch</td>\n",
       "    </tr>\n",
       "    <tr>\n",
       "      <th>3495</th>\n",
       "      <td>sleemldj</td>\n",
       "      <td>how can get nike run club app to work on my watch pro please? nike run club</td>\n",
       "      <td>GalaxyWatch</td>\n",
       "    </tr>\n",
       "    <tr>\n",
       "      <th>3496</th>\n",
       "      <td>elementfan94</td>\n",
       "      <td>looking for omega speedmaster moonphase in black color. can only find it in blue. any links to it? if not i'm happy with dms too. looking for omega speedmaster moonphase watchface</td>\n",
       "      <td>GalaxyWatch</td>\n",
       "    </tr>\n",
       "    <tr>\n",
       "      <th>3497</th>\n",
       "      <td>ryfree8</td>\n",
       "      <td>gw5 and s10e how can stop phone alarm vibrating on watch?</td>\n",
       "      <td>GalaxyWatch</td>\n",
       "    </tr>\n",
       "  </tbody>\n",
       "</table>\n",
       "<p>2457 rows × 3 columns</p>\n",
       "</div>"
      ],
      "text/plain": [
       "                    author  \\\n",
       "0     SunflowerNBarbedWire   \n",
       "1              TypicalZedF   \n",
       "2                    CCJ22   \n",
       "3           No_Pudding4739   \n",
       "4             PhobicCarrot   \n",
       "...                    ...   \n",
       "3493         ass_acoustics   \n",
       "3494             Valiantay   \n",
       "3495              sleemldj   \n",
       "3496          elementfan94   \n",
       "3497               ryfree8   \n",
       "\n",
       "                                                                                                                                                                                                                                                                                                                                                                                                                                                     description  \\\n",
       "0                                                                                                                     hey! join me this month for the fitness challenge. this is big month for me and am going to need support and motivation in the following months. i'd appreciate it! join the lavender, may challenge! get special badges and get fit with community in samsung health together https://shealth.samsung.com/s/pypfbnd may fitness challenge   \n",
       "1                                                                                                                                                                                                                                                                                                                                        noticed the display watch is better then the actual watch you buy... (yes am on the latest software) what's this about?   \n",
       "2                                                                                                                                                       got tattoo on my wrist and my watch thinks it's not on my body so miss notifications. any setting to have us receive notifications even if the watch is charging or on our dresser? or in my case still on my body but not detecting it? option to have notifications on watch even when off your wrist?   \n",
       "3     so when open my galaxy wearables app, go to watch settings and click on notifications, the entire app crashes. tried an alternate route by going to the watches settings app, then to notifications, and when click app notifications, it says continue on phone and it does open in the phone but it says no apps. tried rebooting the watch and the phone but nothing seems to work, help would be appreciated lot! not receiving notifications or watch   \n",
       "4                                                                                                                                                            have number of ssid's in my home for different purposes. for some reason, my watch keeps connecting to an isolated vlan that is designed solely for the xbox. other than shutting the wifi off, how do ensure the watch does not try to connect to this particular ssid? gw5 and specific wifi ssid   \n",
       "...                                                                                                                                                                                                                                                                                                                                                                                                                                                          ...   \n",
       "3493                                                            was at the gym tonight and noticed my watch lowered my total to 1100 steps before shooting back up to my total. it is now past midnight and should be at zero, but suddenly my watch has begun today at 1100 steps. has anyone experienced this type of error before and remedied it? performed factory reset, nothing changed, so restored my backup on to the watch. automatically given steps   \n",
       "3494                                                                                                                                                                                                             why is google so shit? simply enabling the assistant on my watch forced it to disconnect and now it requires complete reset. this is why people switch to apple, bullshit like this. why the fuck did google assistant force my watch to reset?   \n",
       "3495                                                                                                                                                                                                                                                                                                                                                                                 how can get nike run club app to work on my watch pro please? nike run club   \n",
       "3496                                                                                                                                                                                                                                                                         looking for omega speedmaster moonphase in black color. can only find it in blue. any links to it? if not i'm happy with dms too. looking for omega speedmaster moonphase watchface   \n",
       "3497                                                                                                                                                                                                                                                                                                                                                                                                   gw5 and s10e how can stop phone alarm vibrating on watch?   \n",
       "\n",
       "        subreddit  \n",
       "0     GalaxyWatch  \n",
       "1     GalaxyWatch  \n",
       "2     GalaxyWatch  \n",
       "3     GalaxyWatch  \n",
       "4     GalaxyWatch  \n",
       "...           ...  \n",
       "3493  GalaxyWatch  \n",
       "3494  GalaxyWatch  \n",
       "3495  GalaxyWatch  \n",
       "3496  GalaxyWatch  \n",
       "3497  GalaxyWatch  \n",
       "\n",
       "[2457 rows x 3 columns]"
      ]
     },
     "execution_count": 14,
     "metadata": {},
     "output_type": "execute_result"
    }
   ],
   "source": [
    "# Apply the text preprocessing (cleaning) function on galaxy watch descriptions\n",
    "text_preprocess(df_galaxywatch)"
   ]
  },
  {
   "cell_type": "code",
   "execution_count": 15,
   "id": "4e71be9e",
   "metadata": {},
   "outputs": [
    {
     "data": {
      "text/html": [
       "<div>\n",
       "<style scoped>\n",
       "    .dataframe tbody tr th:only-of-type {\n",
       "        vertical-align: middle;\n",
       "    }\n",
       "\n",
       "    .dataframe tbody tr th {\n",
       "        vertical-align: top;\n",
       "    }\n",
       "\n",
       "    .dataframe thead th {\n",
       "        text-align: right;\n",
       "    }\n",
       "</style>\n",
       "<table border=\"1\" class=\"dataframe\">\n",
       "  <thead>\n",
       "    <tr style=\"text-align: right;\">\n",
       "      <th></th>\n",
       "      <th>author</th>\n",
       "      <th>description</th>\n",
       "      <th>subreddit</th>\n",
       "      <th>des_word_count</th>\n",
       "    </tr>\n",
       "  </thead>\n",
       "  <tbody>\n",
       "    <tr>\n",
       "      <th>3335</th>\n",
       "      <td>baiduelectronics</td>\n",
       "      <td>one of the standout features of the [**google pixel watch**](https://www.baiduelectronics.com/2023/01/top-5-reasons-to-buy-google-pixel-watch.html) is its integration with fitbit activity tracking. this allows you to track your daily steps, distance, calories burned, and more, helping you to stay motivated and reach your fitness goals. the watch also includes heart rate monitor, so you can keep an eye on your health and fitness at all times. &amp;amp;#x200b; [google pixel watch](https://preview.redd.it/hb9wlkupt4ca1.jpg?width=320&amp;amp;format=pjpg&amp;amp;auto=webp&amp;amp;v=enabled&amp;amp;s=95a1302840d664c0bef95b8ec1ac7251f46436f6) in addition to its fitness tracking capabilities, the google pixel watch also offers range of other features to keep you connected and on top of your schedule. the watch is compatible with both android and ios devices and runs on google's wear os operating system, so you can easily stay connected to your phone and all of your favorite apps. you can make and receive phone calls and messages directly from the watch, as well as use google assistant to access information, set reminders, and more. the watch has variety of watch faces to choose from, so you can customize it to suit your personal style. it also has long-lasting battery that can last for up to three days on single charge, so you don't have to worry about running out of power when you're on the go. in summary, the **google pixel watch** is stylish and feature-packed smartwatch that is perfect for anyone looking to stay connected and active. with its fitbit activity tracking, heart rate monitoring, and compatibility with both android and ios devices, it is sure to be hit with tech-savvy consumers. so, it could be great choice for those who want to keep an eye on their health and fitness, as well as stay connected to their phone and all of their favorite apps. &amp;amp;#x200b; 1. introduction to the google pixel watch as smartwatch developed by google. 2. description of features including gps, heart rate monitor, google assistant, and phone call/message capabilities. 3. overview of available styles and finishes, including sporty and traditional versions. 4. explanation of customization options, including various watch faces. 5. conclusion summarizing benefits of the google pixel watch and its compatibility with android and ios. 1.introduction to the google pixel watch as smartwatch developed by google. the google pixel watch is smartwatch developed by google. it is designed to work seamlessly with google's ecosystem of products, including the pixel phone. the watch runs on google's wear os operating system and is compatible with both android and ios devices. it is available in range of styles and finishes, including sporty version with rubber strap and more traditional version with metal or leather strap. the watch has variety of watch faces to choose from and can be customized to suit your personal style. some of the features of the google pixel watch include gps, heart rate monitor, google assistant integration, and the ability to make and receive phone calls and messages. 2.description of features including gps, heart rate monitor, google assistant, and phone call/message capabilities. the google pixel watch has range of features that make it versatile and useful smartwatch. one of the key features of the watch is its gps capability, which allows you to track your location and route while running, walking, or cycling. this is especially useful for outdoor enthusiasts and athletes who want to track their progress and performance. the watch also includes heart rate monitor, which allows you to track your heart rate in real-time and get alerts if your heart rate goes above or below certain threshold. this is great feature for those who want to monitor their health and fitness, as well as for athletes who want to track their training intensity. in addition to these features, the google pixel watch also includes google assistant integration. this allows you to access information, set reminders, and control other smart devices directly from your watch. you can also make and receive phone calls and messages directly from the watch, so you don't have to pull out your phone all the time. the google pixel watch has range of useful features that make it great choice for those who want to stay connected and on top of their schedule, as well as track their health and fitness. 3.overview of available styles and finishes, including sporty and traditional versions. the google pixel watch is available in range of styles and finishes, so you can choose the one that best fits your personal style. there are two main versions of the watch: sporty version with rubber strap and more traditional version with metal or leather strap. the sporty version of the watch is designed for active individuals and has rubber strap that is comfortable to wear and resistant to sweat and moisture. it comes in range of bold colors, including red, black, and blue. the traditional version of the watch has more classic look and feel, with metal or leather strap. it is available in range of finishes, including polished silver stainless steel, rose gold, and black. this version of the watch is great choice for those who want smartwatch that is stylish and sophisticated. there are plenty of options to choose from when it comes to the style and finish of the google pixel watch, so you can find the one that best fits your personal style and preferences. 4.explanation of customization options, including various watch faces. the google pixel watch has variety of customization options that allow you to personalize it to suit your style and preferences. one of the main customization options is the ability to choose from range of watch faces. the watch comes with number of pre-installed watch faces, and you can also download additional ones from the google play store. there are watch faces to suit wide range of styles and preferences, from classic and minimalistic to colorful and fun. you can also customize the watch faces by changing the background image or adding complications (small widgets that show additional information such as the weather or your next calendar appointment). in addition to the watch faces, you can also customize the watch strap to suit your personal style. the sporty version of the watch comes with rubber strap that is available in range of colors, while the traditional version comes with metal or leather strap that is available in range of finishes. you can also switch out the strap for different one if you want to change the look of the watch. the google pixel watch offers plenty of customization options to help you make it your own. 5. conclusion summarizing benefits of the google pixel watch and its compatibility with android and ios. in conclusion, the google pixel watch is stylish and feature-packed smartwatch that is perfect for anyone looking to stay connected and active. with its fitbit activity tracking, heart rate monitoring, and compatibility with both android and ios devices, it is sure to be hit with tech-savvy consumers. one of the main benefits of the google pixel watch is its integration with fitbit activity tracking, which allows you to track your daily steps, distance, calories burned, and more. this is great feature for those who want to stay motivated and reach their fitness goals. the watch also includes heart rate monitor, so you can keep an eye on your health and fitness at all times. in addition to its fitness tracking capabilities, the google pixel watch also offers range of other features to keep you connected and on top of your schedule. the watch is compatible with both android and ios devices and runs on google's wear os operating system, so you can easily stay connected to your phone and all of your favorite apps. you can make and receive phone calls and messages directly from the watch, as well as use google assistant to access information, set reminders, and more. the google pixel watch is great choice for those who want to keep an eye on their health and fitness, as well as stay connected to their phone and all of their favorite apps. top reasons to buy google pixel watch: smartwatch review</td>\n",
       "      <td>GalaxyWatch</td>\n",
       "      <td>1336</td>\n",
       "    </tr>\n",
       "    <tr>\n",
       "      <th>1606</th>\n",
       "      <td>sonicintrusion</td>\n",
       "      <td>tldr: you can remove bunch of apps from the watch but keep the google assistant working. debloating saves bunch of battery power so find it really useful to do. originally followed few online posts and found big long list of things to remove from the watch that aren't required for normal 'watch' functionality. but something on the list was breaking the google assistant it just wouldn't load anymore. after months of putting up with broken app, decided to investigate and after several resets and app reinstalls found specific list of apps that could remove and still keep the assistant working. \\&amp;gt; watch setup (this may or may not be useful but it'll get you to the same place got to): 1. after the normal setup of samsung galaxy wearable app on the phone with the watch setup with samsung and google accounts. 2. enable wifi to help with the speed of the install process you don't really need it at this point but you'll need wifi later for the de-bloat process anyway. 3. install the google assistant app. (at this time also install all the other google suite of apps for. convenience, such as: wallet, keep, gboard, clock.) 4. open the google assistant from the app tray on the watch and follow normal login and setup process. 5. you can test it but giving it an instruction. if it says \"how can help?\" then it's working. you can set up the button to answer to assistant at this point if you want. \\&amp;gt; disable/uninstall unwanted apps from the watch's app tray or the wear app. any app you can uninstall here won't affect assistant. examples: messaging (com.google.android.apps.messaging) maps (com.google.android.apps.maps) \\&amp;gt; uninstall any watchfaces from the wear app: any watchface you can remove here won't affect assistant. example: samsung global goals at this point you need to get the adb access to the watch. hopefully you can find guide elsewhere to help if these instructions aren't clear enough \\&amp;gt; enable adb debugging over wifi on your watch: 1. settings &amp;gt; about watch &amp;gt; software info &amp;gt; software version (tap until you get the developer mode) 2. settings &amp;gt; developer options &amp;gt; adb debugging (enable) 3. settings &amp;gt; developer options &amp;gt; debug over wifi 1. if wifi isn't enabled then go do that now and come back 2. take note of the ip address in the setting. it will look like this: \"192.168.0.101:5555\" \\&amp;gt; access the adb shell on your computer: 1. install android tools. for macs: `brew install android-platform-tools` 2. connect your terminal to your watch: `adb connect` [`192.168.0.101:5555`](https://192.168.0.101:5555) 3. authorise your connection on your watch. selecting \"always authorise\" will simplify the process. 4. check the terminal is connected: `adb devices` 5. open shell: `adb shell` at this point you can initiate commands to the watch. follow the sections you want below: \\&amp;gt; recovery. at any point, if you accidentally remove something or just want to put something back, use this command: `cmd package install-existing com.samsung.android.someapp` \\&amp;gt; remove bixby. `pm disable-user --user com.samsung.android.bixby.agent` `pm uninstall -k --user com.samsung.android.bixby.wakeup` \\&amp;gt; remove health monitor (don't do this if you have samsung phone) `pm uninstall -k --user com.samsung.android.shealthmonitor` \\&amp;gt; useless apps (keep them if you use them): `pm uninstall -k --user com.samsung.android.watch.stopwatch` `pm uninstall -k --user 0` [`com.samsung.android.wearable.music`](http://com.samsung.android.wearable.music/) `pm uninstall -k --user com.samsung.android.watch.budscontroller` `pm uninstall -k --user com.google.android.apps.wearable.retailattractloop` `pm uninstall -k --user com.android.providers.userdictionary` `pm uninstall -k --user com.google.android.marvin.talkback` \\&amp;gt; watch faces. warning: some watchfaces will break the assistant and some watch faces are made up of more than one app. these ones are definitely ok to remove (as long as you don't want to use one): `pm uninstall -k --user com.samsung.android.watch.watchface.gradientfont` `pm uninstall -k --user com.samsung.android.watch.watchface.flowergarden` `pm uninstall -k --user com.samsung.android.watch.watchface.mypebble` `pm uninstall -k --user com.samsung.android.watch.watchface.animal` `pm uninstall -k --user com.samsung.android.watch.watchface.aremoji` `pm uninstall -k --user com.samsung.android.watch.watchface.bitmoji` `pm uninstall -k --user com.samsung.android.watch.watchface.mystyle` `pm uninstall -k --user com.samsung.android.watch.watchface.livewallpaper` `pm uninstall -k --user 0` [`com.samsung.android.watch.watchface.weather`](http://com.samsung.android.watch.watchface.weather/) `pm uninstall -k --user com.samsung.android.watch.watchface.healthmodular` `pm uninstall -k --user com.samsung.android.watch.watchface.premiumanalog` `pm uninstall -k --user com.samsung.android.watch.watchface.endangeredanimal` `pm uninstall -k --user com.samsung.android.watch.watchface.myphoto` `pm uninstall -k --user com.samsung.android.watch.watchface.simpleanalogue` `pm uninstall -k --user com.samsung.android.watch.watchface.simpleclassic` `pm uninstall -k --user com.samsung.android.watch.watchface.simplecomplication` `pm uninstall -k --user com.samsung.android.watch.watchface.large` `pm uninstall -k --user com.samsung.android.watch.watchface.dualwatch` \\&amp;gt; do not remove these (they will definitely break assistant): `com.samsung.android.messaging` `com.samsung.android.video.wearable` [`com.samsung.android.gallery.watch`](http://com.samsung.android.gallery.watch/) `com.samsung.android.watch.alarm` \\&amp;gt; untested: find the following apps quite useful so didn't remove them so test if you want: `com.samsung.android.app.reminder` `com.samsung.android.watch.compass` [`com.samsung.android.watch.weather`](http://com.samsung.android.watch.weather/) `com.samsung.android.samsungpay.gear` `com.samsung.android.watch.worldclock` `com.samsung.android.watch.cameracontroller` `com.google.android.wearable.assistant` as final word, if you are testing apps and it breaks, you can reinstall apps using the recovery command above but you should also reboot your watch so it reloads the necessary settings. &amp;amp;#x200b; hope this helps someone save bit of time. galaxy watch debloated and working google assistant</td>\n",
       "      <td>GalaxyWatch</td>\n",
       "      <td>780</td>\n",
       "    </tr>\n",
       "    <tr>\n",
       "      <th>2276</th>\n",
       "      <td>Alcoholfreeliketwice</td>\n",
       "      <td>so i’ve decided i’m gonna get the s23 ultra in couple months (when my contract period is up). feel like want more in my phone than iphone can give me, and have decided to do the jump after lots of research. however that also means i’ll have to let go of my apple watch, as it’s not compatible with any other brand. really like my apple watch honestly, and i’m kind of nervous about that change. it’s not that use it for anything very apple specific, aside from using siri, but know galaxy watches also have voice assistant, so it shouldn’t be too hard to get used to. but what i’m nervous about is if it’ll feel like downgrade. now hear me out before you fly into an apple hateful rage, am not an android/samsung hater in the slightest, and will explain exactly why have this fear. so, the current watch have is an apple watch se. it was released in 2020 and was basically an entry level watch compared to their mainline watch apple watch released on the same exact day. one month ago thought i’d try to get galaxy watch to get feel for it and be prepared for the phone switch. because the galaxy watch is the latest watch that also work on iphone, and it was released just month before the apple watch se that has worked perfectly for me this far, thought it would be good fit. bought used one (which my se was too) and paired it to my iphone. now of course didn’t expect every function to be available when not using galaxy device (i did my research) but was honestly so disappointed. it was incredibly slow, it struggled to do most things properly. apps refusing to update, bixby rarely working, apps not starting… i’m quite big into tech overall. the first thing did was to try and update the watch. it took many tries before it finally updated. but despite updating and restarting, the problems didn’t get better. one of my main usages of the apple watch is using siri to set timers. it’s super convenient to just say “hey siri, set 10 minute timer” or hold down the button and say “set 10 minute timer”. the fact that bixby barely wanted to work at all made me unable to use this watch. went back to my apple watch very quickly as needed that function to work. also was disappointed in the vibration as it was very weak despite being on the higher setting use my watch as an alarm in the morning and don’t think that low vibration would do much. so that’s what has me worried. if my entry level apple watch works so much better than the main series galaxy watch (from my experience), will the newest galaxy watch even be an upgrade? has your galaxy watch been working without issues? did just happen to get really bad watch? maybe it was used more intensely than my se? (which only had for like half year and also bought used). is the watch prone to issues? again know it’s not optimal with an iphone, but these don’t sound like issues caused by my phone brand not matching, but rather the watch having issues in itself. even more interested to hear from others who went the same route from apple to samsung. again i’m truly not trying to shit on samsung as whole, know the phones are pretty darn amazing, and really want to do the jump. just need to get this cleared up. getting the new phone and then getting watch that doesn’t do what need it to do but being unable to use the previous one due to the phone not matching would be catastrophic. regarding my upcoming change from apple to samsung my experience with galaxy watch</td>\n",
       "      <td>GalaxyWatch</td>\n",
       "      <td>639</td>\n",
       "    </tr>\n",
       "    <tr>\n",
       "      <th>2348</th>\n",
       "      <td>Gadgety1</td>\n",
       "      <td>wondering why received this recommendation to reset my watch, checked my phone. discovered that the galaxy wearable app had reinstalled on the phone. that must have happened today as earlier reordered the tiles through the galaxy wearable app. with the new installation of the galaxy wearable app, all watch setting on the on the phone are now gone. the phone cannot reconnect, although the watch is visible, and the galaxy wearable app claims my watch is connected to another phone. assume this \"another phone\" is the same phone but with different installation of the galaxy wearable app. samsung phone support believes \"your watch has connected to some other phone, perhaps your neighbor's...\" right, how would that have happened? don't believe it for second and there hasn't been any indication of such anywhere. meanwhile the watch is connected to google keep via lte, which tested by entering new google keep note on the watch and it was viewable both on pc and phone very soon thereafter. the phone part of the lte watch works, but none of messaging functions, logged into the samsung account to check my watch status from my pc, and the samsung site claims my watch has been disconnected since week, on the same day installed samsung pay. i've been using the watch everyday, all samsung apps have been working, such as samsung health which has been receiving all my activities until yesterday, i've paid with the watch, used public transport etc. would like to salvage my watch's settings because it took lot of time and effort to get google assistant and google keep to work. the google assistant is not available from the play store when accessing from the phone and samsung's support had to provide major support for couple of hours to get it working. now don't want to lose it. the samsung account does not show any back up of the watch whatsoever, albeit thought this would be taken care of. the last samsung support rep had contact with told me there never is any back up made of the watch settings. that seems odd. their representatives seem to have extremely varied experience from non-existent to very knowledgeable. so, some questions: 1. is there anyway to salvage my watch settings through activating developer settings and somehow make back up of the watch settings to my pc? or is the procedure to simply give up and reset the watch and look forward to major effort of trying to get the google assistant up and running again. 2. is there way to prevent this from happening again. believe had set the watch to only update manually, but it's running gwa3 whereas the last time looked believe it was running gvk1. 3. galaxy wearable was set to quite lot of interventions and updating must have been on automatic. will try to set this to only update manually in the future. 4. samsung's rep could not tell me how my watch was changed from active to inactive in the samsung cloud settings. find it extremely annoying because there has been no sign that this happened, no message on either phone or watch that this took place. so it could happen again, and would only find out if continuously log into the samsung account and have look. any way to set up message when there is change in status for devices. btw samsung could not tell by why there is not \"reactivate\" function in the samsung online account. the lack of information and knowledge is pretty scary. this afternoon got message on the lte watch to reset it if want to connect to the phone. any way to salvage the watch settings by activating the developer settings?</td>\n",
       "      <td>GalaxyWatch</td>\n",
       "      <td>617</td>\n",
       "    </tr>\n",
       "    <tr>\n",
       "      <th>818</th>\n",
       "      <td>jayfiled</td>\n",
       "      <td>took bit of fiddling around and looking through forums but added an e-sim from woolworths mobile on my watch even through my phone was with [circles.life](https://circles.life). my issue was that even though managed to add the esim from different carrier through the galaxy wearable app, in the **watch settings** \\&amp;gt; **mobile plans** the galaxy wearable app will have it turned off and tell you \"your phone and watch need to be on the same carrier\" if you try to turn it on. **tl;dr**. once you've added the esim, you can't turn it on from the galaxy watch app on the phone, but you can turn it on from *the watch's* settings. connections &amp;gt; mobile networks &amp;gt; mobile plans. \\------------------- my situation and how to: my phone plan is with [circles.life](https://circles.life) and just signed up with woolies mobile long expiry 65 day plan (as test/gamble) with esim. i'm guessing you can do it with any provider that offers qr code to add your esim to the device. i've added the esim through the galaxy wearable app and now have the ability to call and use data from my watch. it has it's own cellular plan with it's own phone number, but it works just fine. if your phone and watch don't have bluetooth connection but your phone has internet, it will push notifications to the watch over the internet and your watch will receive them via lte. you can respond to those notifications, use sms and make calls. you have the option to use your phone's profile in each case (if the phone has an internet connection). woolies send you the qr code (and the unique qr code id in case the qr code doesn't work) via email within minutes of singing up and also manual code. so, to get it to work: 1. first, on the galaxy wearable phone app main screen &amp;gt; left upper corner, click the three slashes &amp;gt; about galaxy wearable &amp;gt; tap the title **galaxy wearable** times &amp;gt; this opens hidden settings menu &amp;gt; tap test e-sim feature &amp;gt; qr test mode on 2. go back to the watch's main settings screen and choose **watch settings** \\&amp;gt; **mobile networks** \\&amp;gt; **add mobile plan** then because you turned on the qr test mode, you should see an option to add an esim via qr code. 3. scan the qr code and follow the steps to add your esim. side note here: tried copy/pasting the code id instead of using my camera, but didn't get button show up to add it, so went back and used the camera. only had my watch and phone, so screen-shotted the qr code from my email on my phone, then sent it to my watch, then scanned the qr code shown on my watch with my phone. 4. once your esim is added, you can't turn it on from the galaxy watch app on the phone, but you can turn it on from within **the watch's settings**. 5. on the watch, go to settings &amp;gt; connections &amp;gt; mobile networks &amp;gt; mobile plans, press the toggle to turn on. that did it for me. how to use an esim from different carrier on your phone and watch. galaxy watch pro (aus use case)</td>\n",
       "      <td>GalaxyWatch</td>\n",
       "      <td>540</td>\n",
       "    </tr>\n",
       "  </tbody>\n",
       "</table>\n",
       "</div>"
      ],
      "text/plain": [
       "                    author  \\\n",
       "3335      baiduelectronics   \n",
       "1606        sonicintrusion   \n",
       "2276  Alcoholfreeliketwice   \n",
       "2348              Gadgety1   \n",
       "818               jayfiled   \n",
       "\n",
       "                                                                                                                                                                                                                                                                                                                                                                                                                                                                                                                                                                                                                                                                                                                                                                                                                                                                                                                                                                                                                                                                                                                                                                                                                                                                                                                                                                                                                                                                                                                                                                                                                                                                                                                                                                                                                                                                                                                                                                                                                                                                                                                                                                                                                                                                                                                                                                                                                                                                                                                                                                                                                                                                                                                                                                                                                                                                                                                                                                                                                                                                                                                                                                                                                                                                                                                                                                                                                                                                                                                                                                                                                                                                                                                                                                                                                                                                                                                                                                                                                                                                                                                                                                                                                                                                                                                                                                                                                                                                                                                                                                                                                                                                                                                                                                                                                                                                                                                                                                                                                                                                                                                                                                                                                                                                                                                                                                                                                                                                                                                                                                                                                                                                                                                                                                                                                                                                                                                                                                                                                                                                                                                                                                                                                                                                                                                                                                                                                                                                                                                                                                                                                                                                                                                                                                                                                                                                                                                                                                                                                                                                                                                                                                                                                                                                                                                                                                                                                                                                                                                                                                                                                                                                                                                                                                                                                                                                                                                                                                                                                                                                                                                                                                                                                                                                                                                                                                                                                                                                                                                                                   description  \\\n",
       "3335  one of the standout features of the [**google pixel watch**](https://www.baiduelectronics.com/2023/01/top-5-reasons-to-buy-google-pixel-watch.html) is its integration with fitbit activity tracking. this allows you to track your daily steps, distance, calories burned, and more, helping you to stay motivated and reach your fitness goals. the watch also includes heart rate monitor, so you can keep an eye on your health and fitness at all times. &amp;#x200b; [google pixel watch](https://preview.redd.it/hb9wlkupt4ca1.jpg?width=320&amp;format=pjpg&amp;auto=webp&amp;v=enabled&amp;s=95a1302840d664c0bef95b8ec1ac7251f46436f6) in addition to its fitness tracking capabilities, the google pixel watch also offers range of other features to keep you connected and on top of your schedule. the watch is compatible with both android and ios devices and runs on google's wear os operating system, so you can easily stay connected to your phone and all of your favorite apps. you can make and receive phone calls and messages directly from the watch, as well as use google assistant to access information, set reminders, and more. the watch has variety of watch faces to choose from, so you can customize it to suit your personal style. it also has long-lasting battery that can last for up to three days on single charge, so you don't have to worry about running out of power when you're on the go. in summary, the **google pixel watch** is stylish and feature-packed smartwatch that is perfect for anyone looking to stay connected and active. with its fitbit activity tracking, heart rate monitoring, and compatibility with both android and ios devices, it is sure to be hit with tech-savvy consumers. so, it could be great choice for those who want to keep an eye on their health and fitness, as well as stay connected to their phone and all of their favorite apps. &amp;#x200b; 1. introduction to the google pixel watch as smartwatch developed by google. 2. description of features including gps, heart rate monitor, google assistant, and phone call/message capabilities. 3. overview of available styles and finishes, including sporty and traditional versions. 4. explanation of customization options, including various watch faces. 5. conclusion summarizing benefits of the google pixel watch and its compatibility with android and ios. 1.introduction to the google pixel watch as smartwatch developed by google. the google pixel watch is smartwatch developed by google. it is designed to work seamlessly with google's ecosystem of products, including the pixel phone. the watch runs on google's wear os operating system and is compatible with both android and ios devices. it is available in range of styles and finishes, including sporty version with rubber strap and more traditional version with metal or leather strap. the watch has variety of watch faces to choose from and can be customized to suit your personal style. some of the features of the google pixel watch include gps, heart rate monitor, google assistant integration, and the ability to make and receive phone calls and messages. 2.description of features including gps, heart rate monitor, google assistant, and phone call/message capabilities. the google pixel watch has range of features that make it versatile and useful smartwatch. one of the key features of the watch is its gps capability, which allows you to track your location and route while running, walking, or cycling. this is especially useful for outdoor enthusiasts and athletes who want to track their progress and performance. the watch also includes heart rate monitor, which allows you to track your heart rate in real-time and get alerts if your heart rate goes above or below certain threshold. this is great feature for those who want to monitor their health and fitness, as well as for athletes who want to track their training intensity. in addition to these features, the google pixel watch also includes google assistant integration. this allows you to access information, set reminders, and control other smart devices directly from your watch. you can also make and receive phone calls and messages directly from the watch, so you don't have to pull out your phone all the time. the google pixel watch has range of useful features that make it great choice for those who want to stay connected and on top of their schedule, as well as track their health and fitness. 3.overview of available styles and finishes, including sporty and traditional versions. the google pixel watch is available in range of styles and finishes, so you can choose the one that best fits your personal style. there are two main versions of the watch: sporty version with rubber strap and more traditional version with metal or leather strap. the sporty version of the watch is designed for active individuals and has rubber strap that is comfortable to wear and resistant to sweat and moisture. it comes in range of bold colors, including red, black, and blue. the traditional version of the watch has more classic look and feel, with metal or leather strap. it is available in range of finishes, including polished silver stainless steel, rose gold, and black. this version of the watch is great choice for those who want smartwatch that is stylish and sophisticated. there are plenty of options to choose from when it comes to the style and finish of the google pixel watch, so you can find the one that best fits your personal style and preferences. 4.explanation of customization options, including various watch faces. the google pixel watch has variety of customization options that allow you to personalize it to suit your style and preferences. one of the main customization options is the ability to choose from range of watch faces. the watch comes with number of pre-installed watch faces, and you can also download additional ones from the google play store. there are watch faces to suit wide range of styles and preferences, from classic and minimalistic to colorful and fun. you can also customize the watch faces by changing the background image or adding complications (small widgets that show additional information such as the weather or your next calendar appointment). in addition to the watch faces, you can also customize the watch strap to suit your personal style. the sporty version of the watch comes with rubber strap that is available in range of colors, while the traditional version comes with metal or leather strap that is available in range of finishes. you can also switch out the strap for different one if you want to change the look of the watch. the google pixel watch offers plenty of customization options to help you make it your own. 5. conclusion summarizing benefits of the google pixel watch and its compatibility with android and ios. in conclusion, the google pixel watch is stylish and feature-packed smartwatch that is perfect for anyone looking to stay connected and active. with its fitbit activity tracking, heart rate monitoring, and compatibility with both android and ios devices, it is sure to be hit with tech-savvy consumers. one of the main benefits of the google pixel watch is its integration with fitbit activity tracking, which allows you to track your daily steps, distance, calories burned, and more. this is great feature for those who want to stay motivated and reach their fitness goals. the watch also includes heart rate monitor, so you can keep an eye on your health and fitness at all times. in addition to its fitness tracking capabilities, the google pixel watch also offers range of other features to keep you connected and on top of your schedule. the watch is compatible with both android and ios devices and runs on google's wear os operating system, so you can easily stay connected to your phone and all of your favorite apps. you can make and receive phone calls and messages directly from the watch, as well as use google assistant to access information, set reminders, and more. the google pixel watch is great choice for those who want to keep an eye on their health and fitness, as well as stay connected to their phone and all of their favorite apps. top reasons to buy google pixel watch: smartwatch review   \n",
       "1606                                                                                                                                                                                                                                                                                                                                                                                                                                                                                                                                                                                                                                                                                                                                                                                                                                                                                                                                                                                                                                                                                                                                                                                                                                                                                                                                                                                                                                                                                                                                                                                                                                                                                                                                                                                                                                                                                                                                                                                                          tldr: you can remove bunch of apps from the watch but keep the google assistant working. debloating saves bunch of battery power so find it really useful to do. originally followed few online posts and found big long list of things to remove from the watch that aren't required for normal 'watch' functionality. but something on the list was breaking the google assistant it just wouldn't load anymore. after months of putting up with broken app, decided to investigate and after several resets and app reinstalls found specific list of apps that could remove and still keep the assistant working. \\&gt; watch setup (this may or may not be useful but it'll get you to the same place got to): 1. after the normal setup of samsung galaxy wearable app on the phone with the watch setup with samsung and google accounts. 2. enable wifi to help with the speed of the install process you don't really need it at this point but you'll need wifi later for the de-bloat process anyway. 3. install the google assistant app. (at this time also install all the other google suite of apps for. convenience, such as: wallet, keep, gboard, clock.) 4. open the google assistant from the app tray on the watch and follow normal login and setup process. 5. you can test it but giving it an instruction. if it says \"how can help?\" then it's working. you can set up the button to answer to assistant at this point if you want. \\&gt; disable/uninstall unwanted apps from the watch's app tray or the wear app. any app you can uninstall here won't affect assistant. examples: messaging (com.google.android.apps.messaging) maps (com.google.android.apps.maps) \\&gt; uninstall any watchfaces from the wear app: any watchface you can remove here won't affect assistant. example: samsung global goals at this point you need to get the adb access to the watch. hopefully you can find guide elsewhere to help if these instructions aren't clear enough \\&gt; enable adb debugging over wifi on your watch: 1. settings &gt; about watch &gt; software info &gt; software version (tap until you get the developer mode) 2. settings &gt; developer options &gt; adb debugging (enable) 3. settings &gt; developer options &gt; debug over wifi 1. if wifi isn't enabled then go do that now and come back 2. take note of the ip address in the setting. it will look like this: \"192.168.0.101:5555\" \\&gt; access the adb shell on your computer: 1. install android tools. for macs: `brew install android-platform-tools` 2. connect your terminal to your watch: `adb connect` [`192.168.0.101:5555`](https://192.168.0.101:5555) 3. authorise your connection on your watch. selecting \"always authorise\" will simplify the process. 4. check the terminal is connected: `adb devices` 5. open shell: `adb shell` at this point you can initiate commands to the watch. follow the sections you want below: \\&gt; recovery. at any point, if you accidentally remove something or just want to put something back, use this command: `cmd package install-existing com.samsung.android.someapp` \\&gt; remove bixby. `pm disable-user --user com.samsung.android.bixby.agent` `pm uninstall -k --user com.samsung.android.bixby.wakeup` \\&gt; remove health monitor (don't do this if you have samsung phone) `pm uninstall -k --user com.samsung.android.shealthmonitor` \\&gt; useless apps (keep them if you use them): `pm uninstall -k --user com.samsung.android.watch.stopwatch` `pm uninstall -k --user 0` [`com.samsung.android.wearable.music`](http://com.samsung.android.wearable.music/) `pm uninstall -k --user com.samsung.android.watch.budscontroller` `pm uninstall -k --user com.google.android.apps.wearable.retailattractloop` `pm uninstall -k --user com.android.providers.userdictionary` `pm uninstall -k --user com.google.android.marvin.talkback` \\&gt; watch faces. warning: some watchfaces will break the assistant and some watch faces are made up of more than one app. these ones are definitely ok to remove (as long as you don't want to use one): `pm uninstall -k --user com.samsung.android.watch.watchface.gradientfont` `pm uninstall -k --user com.samsung.android.watch.watchface.flowergarden` `pm uninstall -k --user com.samsung.android.watch.watchface.mypebble` `pm uninstall -k --user com.samsung.android.watch.watchface.animal` `pm uninstall -k --user com.samsung.android.watch.watchface.aremoji` `pm uninstall -k --user com.samsung.android.watch.watchface.bitmoji` `pm uninstall -k --user com.samsung.android.watch.watchface.mystyle` `pm uninstall -k --user com.samsung.android.watch.watchface.livewallpaper` `pm uninstall -k --user 0` [`com.samsung.android.watch.watchface.weather`](http://com.samsung.android.watch.watchface.weather/) `pm uninstall -k --user com.samsung.android.watch.watchface.healthmodular` `pm uninstall -k --user com.samsung.android.watch.watchface.premiumanalog` `pm uninstall -k --user com.samsung.android.watch.watchface.endangeredanimal` `pm uninstall -k --user com.samsung.android.watch.watchface.myphoto` `pm uninstall -k --user com.samsung.android.watch.watchface.simpleanalogue` `pm uninstall -k --user com.samsung.android.watch.watchface.simpleclassic` `pm uninstall -k --user com.samsung.android.watch.watchface.simplecomplication` `pm uninstall -k --user com.samsung.android.watch.watchface.large` `pm uninstall -k --user com.samsung.android.watch.watchface.dualwatch` \\&gt; do not remove these (they will definitely break assistant): `com.samsung.android.messaging` `com.samsung.android.video.wearable` [`com.samsung.android.gallery.watch`](http://com.samsung.android.gallery.watch/) `com.samsung.android.watch.alarm` \\&gt; untested: find the following apps quite useful so didn't remove them so test if you want: `com.samsung.android.app.reminder` `com.samsung.android.watch.compass` [`com.samsung.android.watch.weather`](http://com.samsung.android.watch.weather/) `com.samsung.android.samsungpay.gear` `com.samsung.android.watch.worldclock` `com.samsung.android.watch.cameracontroller` `com.google.android.wearable.assistant` as final word, if you are testing apps and it breaks, you can reinstall apps using the recovery command above but you should also reboot your watch so it reloads the necessary settings. &amp;#x200b; hope this helps someone save bit of time. galaxy watch debloated and working google assistant   \n",
       "2276                                                                                                                                                                                                                                                                                                                                                                                                                                                                                                                                                                                                                                                                                                                                                                                                                                                                                                                                                                                                                                                                                                                                                                                                                                                                                                                                                                                                                                                                                                                                                                                                                                                                                                                                                                                                                                                                                                                                                                                                                                                                                                                                                                                                                                                                                                                                                                                                                                                                                                                                                                                                                                                                                                                                                                                                                                                                                                                                                                                                                                                                                                                                                                                                                                                                                                                                                                                                                                                                                                                                                                                                                                                                                                                                                                                                                                                                                                                                                                                                                                                                                                                                                                                                                                                                                                                                                                                                                                                                                                                                                                                                                                                                                                                                                                                                                                                                                                                                                                                so i’ve decided i’m gonna get the s23 ultra in couple months (when my contract period is up). feel like want more in my phone than iphone can give me, and have decided to do the jump after lots of research. however that also means i’ll have to let go of my apple watch, as it’s not compatible with any other brand. really like my apple watch honestly, and i’m kind of nervous about that change. it’s not that use it for anything very apple specific, aside from using siri, but know galaxy watches also have voice assistant, so it shouldn’t be too hard to get used to. but what i’m nervous about is if it’ll feel like downgrade. now hear me out before you fly into an apple hateful rage, am not an android/samsung hater in the slightest, and will explain exactly why have this fear. so, the current watch have is an apple watch se. it was released in 2020 and was basically an entry level watch compared to their mainline watch apple watch released on the same exact day. one month ago thought i’d try to get galaxy watch to get feel for it and be prepared for the phone switch. because the galaxy watch is the latest watch that also work on iphone, and it was released just month before the apple watch se that has worked perfectly for me this far, thought it would be good fit. bought used one (which my se was too) and paired it to my iphone. now of course didn’t expect every function to be available when not using galaxy device (i did my research) but was honestly so disappointed. it was incredibly slow, it struggled to do most things properly. apps refusing to update, bixby rarely working, apps not starting… i’m quite big into tech overall. the first thing did was to try and update the watch. it took many tries before it finally updated. but despite updating and restarting, the problems didn’t get better. one of my main usages of the apple watch is using siri to set timers. it’s super convenient to just say “hey siri, set 10 minute timer” or hold down the button and say “set 10 minute timer”. the fact that bixby barely wanted to work at all made me unable to use this watch. went back to my apple watch very quickly as needed that function to work. also was disappointed in the vibration as it was very weak despite being on the higher setting use my watch as an alarm in the morning and don’t think that low vibration would do much. so that’s what has me worried. if my entry level apple watch works so much better than the main series galaxy watch (from my experience), will the newest galaxy watch even be an upgrade? has your galaxy watch been working without issues? did just happen to get really bad watch? maybe it was used more intensely than my se? (which only had for like half year and also bought used). is the watch prone to issues? again know it’s not optimal with an iphone, but these don’t sound like issues caused by my phone brand not matching, but rather the watch having issues in itself. even more interested to hear from others who went the same route from apple to samsung. again i’m truly not trying to shit on samsung as whole, know the phones are pretty darn amazing, and really want to do the jump. just need to get this cleared up. getting the new phone and then getting watch that doesn’t do what need it to do but being unable to use the previous one due to the phone not matching would be catastrophic. regarding my upcoming change from apple to samsung my experience with galaxy watch   \n",
       "2348                                                                                                                                                                                                                                                                                                                                                                                                                                                                                                                                                                                                                                                                                                                                                                                                                                                                                                                                                                                                                                                                                                                                                                                                                                                                                                                                                                                                                                                                                                                                                                                                                                                                                                                                                                                                                                                                                                                                                                                                                                                                                                                                                                                                                                                                                                                                                                                                                                                                                                                                                                                                                                                                                                                                                                                                                                                                                                                                                                                                                                                                                                                                                                                                                                                                                                                                                                                                                                                                                                                                                                                                                                                                                                                                                                                                                                                                                                                                                                                                                                                                                                                                                                                                                                                                                                                                                                                                                                                                                                                                                                                                                                                                                                                                                                                                                                                                     wondering why received this recommendation to reset my watch, checked my phone. discovered that the galaxy wearable app had reinstalled on the phone. that must have happened today as earlier reordered the tiles through the galaxy wearable app. with the new installation of the galaxy wearable app, all watch setting on the on the phone are now gone. the phone cannot reconnect, although the watch is visible, and the galaxy wearable app claims my watch is connected to another phone. assume this \"another phone\" is the same phone but with different installation of the galaxy wearable app. samsung phone support believes \"your watch has connected to some other phone, perhaps your neighbor's...\" right, how would that have happened? don't believe it for second and there hasn't been any indication of such anywhere. meanwhile the watch is connected to google keep via lte, which tested by entering new google keep note on the watch and it was viewable both on pc and phone very soon thereafter. the phone part of the lte watch works, but none of messaging functions, logged into the samsung account to check my watch status from my pc, and the samsung site claims my watch has been disconnected since week, on the same day installed samsung pay. i've been using the watch everyday, all samsung apps have been working, such as samsung health which has been receiving all my activities until yesterday, i've paid with the watch, used public transport etc. would like to salvage my watch's settings because it took lot of time and effort to get google assistant and google keep to work. the google assistant is not available from the play store when accessing from the phone and samsung's support had to provide major support for couple of hours to get it working. now don't want to lose it. the samsung account does not show any back up of the watch whatsoever, albeit thought this would be taken care of. the last samsung support rep had contact with told me there never is any back up made of the watch settings. that seems odd. their representatives seem to have extremely varied experience from non-existent to very knowledgeable. so, some questions: 1. is there anyway to salvage my watch settings through activating developer settings and somehow make back up of the watch settings to my pc? or is the procedure to simply give up and reset the watch and look forward to major effort of trying to get the google assistant up and running again. 2. is there way to prevent this from happening again. believe had set the watch to only update manually, but it's running gwa3 whereas the last time looked believe it was running gvk1. 3. galaxy wearable was set to quite lot of interventions and updating must have been on automatic. will try to set this to only update manually in the future. 4. samsung's rep could not tell me how my watch was changed from active to inactive in the samsung cloud settings. find it extremely annoying because there has been no sign that this happened, no message on either phone or watch that this took place. so it could happen again, and would only find out if continuously log into the samsung account and have look. any way to set up message when there is change in status for devices. btw samsung could not tell by why there is not \"reactivate\" function in the samsung online account. the lack of information and knowledge is pretty scary. this afternoon got message on the lte watch to reset it if want to connect to the phone. any way to salvage the watch settings by activating the developer settings?   \n",
       "818                                                                                                                                                                                                                                                                                                                                                                                                                                                                                                                                                                                                                                                                                                                                                                                                                                                                                                                                                                                                                                                                                                                                                                                                                                                                                                                                                                                                                                                                                                                                                                                                                                                                                                                                                                                                                                                                                                                                                                                                                                                                                                                                                                                                                                                                                                                                                                                                                                                                                                                                                                                                                                                                                                                                                                                                                                                                                                                                                                                                                                                                                                                                                                                                                                                                                                                                                                                                                                                                                                                                                                                                                                                                                                                                                                                                                                                                                                                                                                                                                                                                                                                                                                                                                                                                                                                                                                                                                                                                                                                                                                                                                                                                                                                                                                                                                                                                                                                                                                                                                                                                                                                                                                                                                                                                                                                                                                                                                                                                                     took bit of fiddling around and looking through forums but added an e-sim from woolworths mobile on my watch even through my phone was with [circles.life](https://circles.life). my issue was that even though managed to add the esim from different carrier through the galaxy wearable app, in the **watch settings** \\&gt; **mobile plans** the galaxy wearable app will have it turned off and tell you \"your phone and watch need to be on the same carrier\" if you try to turn it on. **tl;dr**. once you've added the esim, you can't turn it on from the galaxy watch app on the phone, but you can turn it on from *the watch's* settings. connections &gt; mobile networks &gt; mobile plans. \\------------------- my situation and how to: my phone plan is with [circles.life](https://circles.life) and just signed up with woolies mobile long expiry 65 day plan (as test/gamble) with esim. i'm guessing you can do it with any provider that offers qr code to add your esim to the device. i've added the esim through the galaxy wearable app and now have the ability to call and use data from my watch. it has it's own cellular plan with it's own phone number, but it works just fine. if your phone and watch don't have bluetooth connection but your phone has internet, it will push notifications to the watch over the internet and your watch will receive them via lte. you can respond to those notifications, use sms and make calls. you have the option to use your phone's profile in each case (if the phone has an internet connection). woolies send you the qr code (and the unique qr code id in case the qr code doesn't work) via email within minutes of singing up and also manual code. so, to get it to work: 1. first, on the galaxy wearable phone app main screen &gt; left upper corner, click the three slashes &gt; about galaxy wearable &gt; tap the title **galaxy wearable** times &gt; this opens hidden settings menu &gt; tap test e-sim feature &gt; qr test mode on 2. go back to the watch's main settings screen and choose **watch settings** \\&gt; **mobile networks** \\&gt; **add mobile plan** then because you turned on the qr test mode, you should see an option to add an esim via qr code. 3. scan the qr code and follow the steps to add your esim. side note here: tried copy/pasting the code id instead of using my camera, but didn't get button show up to add it, so went back and used the camera. only had my watch and phone, so screen-shotted the qr code from my email on my phone, then sent it to my watch, then scanned the qr code shown on my watch with my phone. 4. once your esim is added, you can't turn it on from the galaxy watch app on the phone, but you can turn it on from within **the watch's settings**. 5. on the watch, go to settings &gt; connections &gt; mobile networks &gt; mobile plans, press the toggle to turn on. that did it for me. how to use an esim from different carrier on your phone and watch. galaxy watch pro (aus use case)   \n",
       "\n",
       "        subreddit  des_word_count  \n",
       "3335  GalaxyWatch            1336  \n",
       "1606  GalaxyWatch             780  \n",
       "2276  GalaxyWatch             639  \n",
       "2348  GalaxyWatch             617  \n",
       "818   GalaxyWatch             540  "
      ]
     },
     "execution_count": 15,
     "metadata": {},
     "output_type": "execute_result"
    }
   ],
   "source": [
    "# Make a new column to show word count of description\n",
    "df_galaxywatch[\"des_word_count\"] = df_galaxywatch[\"description\"].str.split().str.len()\n",
    "\n",
    "# Five longest descriptions\n",
    "df_galaxywatch.sort_values(by = \"des_word_count\", ascending=False).head()"
   ]
  },
  {
   "cell_type": "code",
   "execution_count": 16,
   "id": "e46e10f9",
   "metadata": {},
   "outputs": [
    {
     "data": {
      "text/html": [
       "<div>\n",
       "<style scoped>\n",
       "    .dataframe tbody tr th:only-of-type {\n",
       "        vertical-align: middle;\n",
       "    }\n",
       "\n",
       "    .dataframe tbody tr th {\n",
       "        vertical-align: top;\n",
       "    }\n",
       "\n",
       "    .dataframe thead th {\n",
       "        text-align: right;\n",
       "    }\n",
       "</style>\n",
       "<table border=\"1\" class=\"dataframe\">\n",
       "  <thead>\n",
       "    <tr style=\"text-align: right;\">\n",
       "      <th></th>\n",
       "      <th>author</th>\n",
       "      <th>description</th>\n",
       "      <th>subreddit</th>\n",
       "      <th>des_word_count</th>\n",
       "    </tr>\n",
       "  </thead>\n",
       "  <tbody>\n",
       "    <tr>\n",
       "      <th>1688</th>\n",
       "      <td>heitortp0</td>\n",
       "      <td>what's this?</td>\n",
       "      <td>GalaxyWatch</td>\n",
       "      <td>2</td>\n",
       "    </tr>\n",
       "    <tr>\n",
       "      <th>3444</th>\n",
       "      <td>Texshroom</td>\n",
       "      <td>galaxy rolex</td>\n",
       "      <td>GalaxyWatch</td>\n",
       "      <td>2</td>\n",
       "    </tr>\n",
       "    <tr>\n",
       "      <th>792</th>\n",
       "      <td>takoreo</td>\n",
       "      <td>damn it.</td>\n",
       "      <td>GalaxyWatch</td>\n",
       "      <td>2</td>\n",
       "    </tr>\n",
       "    <tr>\n",
       "      <th>2650</th>\n",
       "      <td>CheapScientist5603</td>\n",
       "      <td>malware</td>\n",
       "      <td>GalaxyWatch</td>\n",
       "      <td>1</td>\n",
       "    </tr>\n",
       "    <tr>\n",
       "      <th>2039</th>\n",
       "      <td>Independent-Elk9983</td>\n",
       "      <td>opinions?</td>\n",
       "      <td>GalaxyWatch</td>\n",
       "      <td>1</td>\n",
       "    </tr>\n",
       "  </tbody>\n",
       "</table>\n",
       "</div>"
      ],
      "text/plain": [
       "                   author   description    subreddit  des_word_count\n",
       "1688            heitortp0  what's this?  GalaxyWatch               2\n",
       "3444            Texshroom  galaxy rolex  GalaxyWatch               2\n",
       "792               takoreo      damn it.  GalaxyWatch               2\n",
       "2650   CheapScientist5603       malware  GalaxyWatch               1\n",
       "2039  Independent-Elk9983     opinions?  GalaxyWatch               1"
      ]
     },
     "execution_count": 16,
     "metadata": {},
     "output_type": "execute_result"
    }
   ],
   "source": [
    "# Five shortest description\n",
    "df_galaxywatch.sort_values(by = \"des_word_count\", ascending=False).tail()"
   ]
  },
  {
   "cell_type": "code",
   "execution_count": 17,
   "id": "4c6c3bb4",
   "metadata": {},
   "outputs": [
    {
     "data": {
      "image/png": "[encoded data removed]",
      "text/plain": [
       "<Figure size 1000x800 with 1 Axes>"
      ]
     },
     "metadata": {},
     "output_type": "display_data"
    }
   ],
   "source": [
    "# distribution of description length based on word count\n",
    "length_distribution(column=df_galaxywatch[\"des_word_count\"],\n",
    "                    title=\"Distribution of The Length of Descriptions in Galaxy Watch Subreddits\",\n",
    "                    x_label=\"Description Word Count\",\n",
    "                    num_bins=100, color=\"mediumpurple\")"
   ]
  },
  {
   "cell_type": "code",
   "execution_count": 18,
   "id": "015376fd",
   "metadata": {},
   "outputs": [
    {
     "name": "stderr",
     "output_type": "stream",
     "text": [
      "C:\\Users\\sarvin.farhad\\anaconda3\\lib\\site-packages\\sklearn\\utils\\deprecation.py:87: FutureWarning: Function get_feature_names is deprecated; get_feature_names is deprecated in 1.0 and will be removed in 1.2. Please use get_feature_names_out instead.\n",
      "  warnings.warn(msg, category=FutureWarning)\n"
     ]
    },
    {
     "name": "stdout",
     "output_type": "stream",
     "text": [
      "Number of tokens after applying CountVectorizer on Galaxy Watch Dataframe: 123648\n"
     ]
    },
    {
     "data": {
      "image/png": "[encoded data removed]",
      "text/plain": [
       "<Figure size 640x480 with 1 Axes>"
      ]
     },
     "metadata": {},
     "output_type": "display_data"
    }
   ],
   "source": [
    "vectorizing_df(column=df_galaxywatch[\"description\"],\n",
    "               ngram_range=(1,3), dfname=\"Galaxy Watch\", color=\"mediumpurple\")"
   ]
  },
  {
   "cell_type": "markdown",
   "id": "82a446f9",
   "metadata": {},
   "source": [
    "### Apple Watch\n",
    "In the following cells I'll do some exploring and cleaning in apple dataframe and will make a new dataframe as a apple watch which only has usefull columns for EDA"
   ]
  },
  {
   "cell_type": "code",
   "execution_count": null,
   "id": "20c21966",
   "metadata": {},
   "outputs": [],
   "source": [
    "# load data\n",
    "df_apple = pd.read_csv(apple_path)\n",
    "\n",
    "# Get some basic information \n",
    "print(f\"Sample Data :{df_apple.head()}\")\n",
    "print(f\"\\n--------------------------\\n\\n Columns : {[i for i in df_apple.columns]}\")\n",
    "print(f\"\\n--------------------------\\n\\n Size of the dataset : {df_apple.shape[0]}\")\n",
    "print(f\"\\n--------------------------\\n\\n Total number of columns : {df_apple.shape[1]}\")"
   ]
  },
  {
   "cell_type": "code",
   "execution_count": null,
   "id": "e71d53d2",
   "metadata": {},
   "outputs": [],
   "source": [
    "print(f\"The number of missing values in title column: {df_apple['title'].isna().sum()}\")\n",
    "print(f\"The number of missing values in selftext column: {df_apple['selftext'].isna().sum()}\")"
   ]
  },
  {
   "cell_type": "code",
   "execution_count": null,
   "id": "4d9acf5c",
   "metadata": {},
   "outputs": [],
   "source": [
    "# check the type of missing values in selftext with theire equivalents in title\n",
    "df_apple.loc[df_apple[\"selftext\"].isna(), [\"title\", \"selftext\"]]"
   ]
  },
  {
   "cell_type": "code",
   "execution_count": null,
   "id": "92837667",
   "metadata": {},
   "outputs": [],
   "source": [
    "# cite for using map str: https://sparkbyexamples.com/pandas/pandas-combine-two-columns-of-text-in-dataframe/#:~:text=Combine%20Two%20Columns%20Using%20%2B%20Operator,does%20addition%20instead%20of%20concatenation.\n",
    "# Fill missing values () in selftext with space\n",
    "df_apple[\"selftext\"] = df_apple[\"selftext\"].fillna(\"\")\n",
    "df_apple[\"description\"] = df_apple[\"selftext\"].map(str) + df_apple[\"title\"]\n",
    "\n",
    "# check the description column\n",
    "df_apple.loc[:,[\"title\", \"selftext\", \"description\"]]"
   ]
  },
  {
   "cell_type": "code",
   "execution_count": null,
   "id": "01af000f",
   "metadata": {},
   "outputs": [],
   "source": [
    "# make a new dataframe for EDA\n",
    "df_applewatch = df_apple.loc[:,[\"author\", \"description\", \"subreddit\"]]\n",
    "df_applewatch.head()"
   ]
  },
  {
   "cell_type": "code",
   "execution_count": null,
   "id": "abc70321",
   "metadata": {},
   "outputs": [],
   "source": [
    "# check the missong values in new dataframe\n",
    "df_applewatch.isna().sum()"
   ]
  },
  {
   "cell_type": "code",
   "execution_count": null,
   "id": "6c9dbe6c",
   "metadata": {},
   "outputs": [],
   "source": [
    "# look for uncertain text\n",
    "#df_galaxywatch.loc[df_galaxywatch['description'].str.contains('remove'),:].head()\n",
    "#df_applewatch.loc[df_applewatch['description'].str.contains('remove'),:].head()\n",
    "\n",
    "# remove uncertain text\n",
    "#df_applewatch['description']=df_applewatch['description'].str.replace('[removed]', '')"
   ]
  },
  {
   "cell_type": "code",
   "execution_count": null,
   "id": "33bd625f",
   "metadata": {},
   "outputs": [],
   "source": [
    "# export and save a new dataframe\n",
    "# df_applewatch.to_csv('../data/apple_watch.csv')"
   ]
  },
  {
   "cell_type": "markdown",
   "id": "689c6763",
   "metadata": {},
   "source": [
    "## EDA (Exploratory Data Analysis)\n",
    "\n",
    "Here I'll do some EDA on my both dataframes to find any relationship between varibales, find high value information for presenting and also make new columns to see if I could use them for analysis"
   ]
  },
  {
   "cell_type": "markdown",
   "id": "7c3e0513",
   "metadata": {},
   "source": [
    "### Samsung Galaxy Watch"
   ]
  },
  {
   "cell_type": "markdown",
   "id": "e2624178",
   "metadata": {},
   "source": [
    "In the following I'll do some EDA on galaxy watch data frame"
   ]
  },
  {
   "cell_type": "markdown",
   "id": "6420fdcd",
   "metadata": {},
   "source": [
    "### Apple Watch"
   ]
  },
  {
   "cell_type": "markdown",
   "id": "18acdeff",
   "metadata": {},
   "source": [
    "Making columns that countain the number of words in title and description"
   ]
  },
  {
   "cell_type": "code",
   "execution_count": null,
   "id": "79d2078f",
   "metadata": {},
   "outputs": [],
   "source": [
    "# drop column\n",
    "df_appwatch = df_applewatch.drop(columns=['subreddit'], axis=1)"
   ]
  },
  {
   "cell_type": "code",
   "execution_count": null,
   "id": "58bba9a3",
   "metadata": {},
   "outputs": [],
   "source": [
    "df_appwatch.dtypes"
   ]
  },
  {
   "cell_type": "code",
   "execution_count": null,
   "id": "f81b236e",
   "metadata": {},
   "outputs": [],
   "source": [
    "# make a new column to show word count of description\n",
    "df_appwatch['des_word_count'] = df_appwatch['description'].str.split().str.len()"
   ]
  },
  {
   "cell_type": "code",
   "execution_count": null,
   "id": "4401c49a",
   "metadata": {},
   "outputs": [],
   "source": [
    "# five longest description\n",
    "df_appwatch.sort_values(by = 'des_word_count', ascending=False).head()"
   ]
  },
  {
   "cell_type": "code",
   "execution_count": null,
   "id": "2d000863",
   "metadata": {},
   "outputs": [],
   "source": [
    "# five shortest description\n",
    "df_appwatch.sort_values(by = 'des_word_count', ascending=False).tail()"
   ]
  },
  {
   "cell_type": "code",
   "execution_count": null,
   "id": "c06a55e5",
   "metadata": {},
   "outputs": [],
   "source": [
    "# distribution of description length based on word count\n",
    "#Define size of bar plot\n",
    "plt.figure(figsize=(10,8))\n",
    "plt.hist(df_appwatch['des_word_count'], bins = 100, color = 'mediumpurple', edgecolor = 'black')\n",
    "plt.title('Distribution of length of Description in AppleWatch Subreddit', fontsize=15)\n",
    "plt.xlabel('Description Word Count', fontsize=12)\n",
    "plt.ylabel('Number of Frequency', fontsize=12);"
   ]
  },
  {
   "cell_type": "code",
   "execution_count": null,
   "id": "561f22b1",
   "metadata": {},
   "outputs": [],
   "source": [
    "# descriptions with highest comments\n",
    "df_appwatch.sort_values(by = 'num_comments', ascending=False).head()"
   ]
  },
  {
   "cell_type": "code",
   "execution_count": null,
   "id": "83af182b",
   "metadata": {},
   "outputs": [],
   "source": [
    "# distribution of number of comments\n",
    "# Define size of bar plot\n",
    "plt.figure(figsize=(10,8))\n",
    "plt.hist(df_appwatch['num_comments'], bins = 10, color = 'mediumpurple', edgecolor = 'black')\n",
    "plt.title('Distribution of Number of Comments in Posts of AppleWatch Subreddit', fontsize=14)\n",
    "plt.xlabel('Number of Comments', fontsize=12)\n",
    "plt.ylabel('Number of Frequency', fontsize=12);"
   ]
  },
  {
   "cell_type": "code",
   "execution_count": null,
   "id": "b36c3ed7",
   "metadata": {},
   "outputs": [],
   "source": [
    "# relationship with lenght of description and number of comments\n",
    "plt.scatter(df_appwatch['des_word_count'], df_appwatch['num_comments']);"
   ]
  },
  {
   "cell_type": "code",
   "execution_count": null,
   "id": "0fc43df9",
   "metadata": {},
   "outputs": [],
   "source": [
    "# number of unique authors\n",
    "df_appwatch['author'].nunique()"
   ]
  },
  {
   "cell_type": "code",
   "execution_count": null,
   "id": "a9725188",
   "metadata": {},
   "outputs": [],
   "source": [
    "# filtering description and counting them by their authors\n",
    "df_appwatch.groupby('author')['description'].agg(['count']).sort_values('count', ascending = False)"
   ]
  },
  {
   "cell_type": "code",
   "execution_count": null,
   "id": "a8ebb5b1",
   "metadata": {},
   "outputs": [],
   "source": [
    "# filter on the author with highest number of description to see the lenghts, number of comments\n",
    "# and also his/her discriptions\n",
    "df_appwatch.loc[df_appwatch['author'] == 'Chasepaw21', :]"
   ]
  },
  {
   "cell_type": "markdown",
   "id": "0ee7e7ca",
   "metadata": {},
   "source": [
    "### could work on first author to see the kind of descriptions he made"
   ]
  },
  {
   "cell_type": "code",
   "execution_count": null,
   "id": "dfcb3d36",
   "metadata": {},
   "outputs": [],
   "source": [
    "# instantiate CountVectorizer and ftit and transform on corpus\n",
    "X = df_appwatch['description']\n",
    "cvec = CountVectorizer(stop_words='english', ngram_range=(1,3))\n",
    "cvec.fit(X)\n",
    "X = cvec.transform(X)"
   ]
  },
  {
   "cell_type": "code",
   "execution_count": null,
   "id": "403d535a",
   "metadata": {},
   "outputs": [],
   "source": [
    "# convert X to dataframe\n",
    "df_appvec = pd.DataFrame(X.todense(), columns = cvec.get_feature_names())\n",
    "df_appvec.shape"
   ]
  },
  {
   "cell_type": "code",
   "execution_count": null,
   "id": "530ce114",
   "metadata": {},
   "outputs": [],
   "source": [
    "# sort dataframe for most occuring words\n",
    "df_appvec.sum().sort_values(ascending=False).head(25)"
   ]
  },
  {
   "cell_type": "code",
   "execution_count": null,
   "id": "5907cb2b",
   "metadata": {},
   "outputs": [],
   "source": [
    "# plot most occured words\n",
    "# Define size of bar plot\n",
    "\n",
    "df_appvec.sum().sort_values(ascending=False).head(20).plot(kind='barh',\n",
    "                            color = 'mediumpurple', edgecolor = 'black')\n",
    "plt.title('Most words in Posts of AppleWatch Subreddit', fontsize=12)\n",
    "plt.xlabel('Number of Words', fontsize=10)\n",
    "plt.ylabel('Words', fontsize=10);"
   ]
  }
 ],
 "metadata": {
  "kernelspec": {
   "display_name": "Python 3 (ipykernel)",
   "language": "python",
   "name": "python3"
  },
  "language_info": {
   "codemirror_mode": {
    "name": "ipython",
    "version": 3
   },
   "file_extension": ".py",
   "mimetype": "text/x-python",
   "name": "python",
   "nbconvert_exporter": "python",
   "pygments_lexer": "ipython3",
   "version": "3.9.13"
  }
 },
 "nbformat": 4,
 "nbformat_minor": 5
}

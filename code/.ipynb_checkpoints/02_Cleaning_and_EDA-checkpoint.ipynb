{
 "cells": [
  {
   "cell_type": "markdown",
   "id": "9943e7e3",
   "metadata": {},
   "source": [
    "## Imports"
   ]
  },
  {
   "cell_type": "code",
   "execution_count": 1,
   "id": "fef3a160",
   "metadata": {},
   "outputs": [],
   "source": [
    "import pandas as pd\n",
    "import numpy as np\n",
    "import matplotlib.pyplot as plt\n",
    "import seaborn as sns\n",
    "\n",
    "from sklearn.feature_extraction.text import CountVectorizer"
   ]
  },
  {
   "cell_type": "code",
   "execution_count": 2,
   "id": "af51a025",
   "metadata": {},
   "outputs": [],
   "source": [
    "samsung_path = \"../data/samsung.csv\"\n",
    "apple_path = \"../data/apple.csv\""
   ]
  },
  {
   "cell_type": "markdown",
   "id": "c1b6e9a5",
   "metadata": {},
   "source": [
    "## Functions"
   ]
  },
  {
   "cell_type": "code",
   "execution_count": 20,
   "id": "c1fe58f3",
   "metadata": {},
   "outputs": [],
   "source": [
    "# Function for making histogram \n",
    "def length_distribution(column, title, x_label, num_bins, color):        \n",
    "    plt.figure(figsize=(10,8))\n",
    "    plt.hist(column, bins = num_bins, color = color, edgecolor = \"black\")\n",
    "\n",
    "    #Add chart labels\n",
    "    plt.title(title, fontsize=13)\n",
    "    plt.xlabel(x_label, fontsize=12)\n",
    "    plt.ylabel(\"Number of Frequency\", fontsize=12);"
   ]
  },
  {
   "cell_type": "markdown",
   "id": "01fb2c6b",
   "metadata": {},
   "source": [
    "## Exploatory Data Analysis (EDA) and Preprocessing"
   ]
  },
  {
   "cell_type": "markdown",
   "id": "bddfcd72",
   "metadata": {},
   "source": [
    "### Samsung Galaxy Watch\n",
    "In the following cells I'll do some exploring and cleaning in samsung dataframe and will make a new dataframe as a galaxy watch which only has usefull columns for EDA"
   ]
  },
  {
   "cell_type": "code",
   "execution_count": 3,
   "id": "3791fc73",
   "metadata": {},
   "outputs": [
    {
     "name": "stdout",
     "output_type": "stream",
     "text": [
      "Sample Data :     subreddit                                           selftext  \\\n",
      "0  GalaxyWatch  Hey! Join me this month for the fitness challe...   \n",
      "1  GalaxyWatch  I noticed the DISPLAY watch is better then the...   \n",
      "2  GalaxyWatch   I got a tattoo on my wrist and my watch think...   \n",
      "3  GalaxyWatch  So when I open my galaxy wearables app, go to ...   \n",
      "4  GalaxyWatch  I have a number of SSID's in my home for diffe...   \n",
      "\n",
      "  author_fullname  gilded                                              title  \\\n",
      "0     t2_hseafy2n       0                              May Fitness Challenge   \n",
      "1     t2_6c00ptpg       0                                 What's this about?   \n",
      "2        t2_iw3o0       0  Option to have notifications on watch even whe...   \n",
      "3     t2_ixl3kwi6       0               Not receiving notifications or Watch   \n",
      "4      t2_1aw8y2q       0                         GW5 and specific WiFi SSID   \n",
      "\n",
      "                  link_flair_richtext subreddit_name_prefixed  hidden  pwls  \\\n",
      "0     [{'e': 'text', 't': 'Fitness'}]           r/GalaxyWatch   False     6   \n",
      "1                                  []           r/GalaxyWatch   False     6   \n",
      "2     [{'e': 'text', 't': 'Wear OS'}]           r/GalaxyWatch   False     6   \n",
      "3  [{'e': 'text', 't': 'Comparison'}]           r/GalaxyWatch   False     6   \n",
      "4                                  []           r/GalaxyWatch   False     6   \n",
      "\n",
      "   link_flair_css_class  ...           url_overridden_by_dest  \\\n",
      "0                   NaN  ...                              NaN   \n",
      "1                   NaN  ...  https://v.redd.it/z2yuso4id8xa1   \n",
      "2                   NaN  ...                              NaN   \n",
      "3                   NaN  ...                              NaN   \n",
      "4                   NaN  ...                              NaN   \n",
      "\n",
      "                                             preview  is_gallery  \\\n",
      "0                                                NaN         NaN   \n",
      "1  {'images': [{'source': {'url': 'https://extern...         NaN   \n",
      "2                                                NaN         NaN   \n",
      "3                                                NaN         NaN   \n",
      "4                                                NaN         NaN   \n",
      "\n",
      "   media_metadata gallery_data  crosspost_parent_list crosspost_parent  \\\n",
      "0             NaN          NaN                    NaN              NaN   \n",
      "1             NaN          NaN                    NaN              NaN   \n",
      "2             NaN          NaN                    NaN              NaN   \n",
      "3             NaN          NaN                    NaN              NaN   \n",
      "4             NaN          NaN                    NaN              NaN   \n",
      "\n",
      "  poll_data  author_cakeday edited_on  \n",
      "0       NaN             NaN       NaN  \n",
      "1       NaN             NaN       NaN  \n",
      "2       NaN             NaN       NaN  \n",
      "3       NaN             NaN       NaN  \n",
      "4       NaN             NaN       NaN  \n",
      "\n",
      "[5 rows x 98 columns]\n",
      "\n",
      "--------------------------\n",
      "\n",
      " Columns : ['subreddit', 'selftext', 'author_fullname', 'gilded', 'title', 'link_flair_richtext', 'subreddit_name_prefixed', 'hidden', 'pwls', 'link_flair_css_class', 'thumbnail_height', 'top_awarded_type', 'hide_score', 'quarantine', 'link_flair_text_color', 'upvote_ratio', 'author_flair_background_color', 'subreddit_type', 'total_awards_received', 'media_embed', 'thumbnail_width', 'author_flair_template_id', 'is_original_content', 'secure_media', 'is_reddit_media_domain', 'is_meta', 'category', 'secure_media_embed', 'link_flair_text', 'score', 'is_created_from_ads_ui', 'author_premium', 'thumbnail', 'edited', 'author_flair_css_class', 'author_flair_richtext', 'gildings', 'content_categories', 'is_self', 'link_flair_type', 'wls', 'removed_by_category', 'author_flair_type', 'domain', 'allow_live_comments', 'suggested_sort', 'view_count', 'archived', 'no_follow', 'is_crosspostable', 'pinned', 'over_18', 'all_awardings', 'awarders', 'media_only', 'link_flair_template_id', 'can_gild', 'spoiler', 'locked', 'author_flair_text', 'treatment_tags', 'removed_by', 'distinguished', 'subreddit_id', 'link_flair_background_color', 'id', 'is_robot_indexable', 'author', 'discussion_type', 'num_comments', 'send_replies', 'whitelist_status', 'contest_mode', 'author_patreon_flair', 'author_flair_text_color', 'permalink', 'parent_whitelist_status', 'stickied', 'url', 'subreddit_subscribers', 'created_utc', 'num_crossposts', 'media', 'is_video', 'retrieved_utc', 'updated_utc', 'utc_datetime_str', 'post_hint', 'url_overridden_by_dest', 'preview', 'is_gallery', 'media_metadata', 'gallery_data', 'crosspost_parent_list', 'crosspost_parent', 'poll_data', 'author_cakeday', 'edited_on']\n",
      "\n",
      "--------------------------\n",
      "\n",
      " Size of the dataset : 3498\n",
      "\n",
      "--------------------------\n",
      "\n",
      " Total number of columns : 98\n"
     ]
    }
   ],
   "source": [
    "# load data\n",
    "df_samsung = pd.read_csv(samsung_path).drop(columns=\"Unnamed: 0\")\n",
    "\n",
    "# Get some basic information \n",
    "print(f\"Sample Data :{df_samsung.head()}\")\n",
    "print(f\"\\n--------------------------\\n\\n Columns : {[i for i in df_samsung.columns]}\")\n",
    "print(f\"\\n--------------------------\\n\\n Size of the dataset : {df_samsung.shape[0]}\")\n",
    "print(f\"\\n--------------------------\\n\\n Total number of columns : {df_samsung.shape[1]}\")"
   ]
  },
  {
   "cell_type": "code",
   "execution_count": 4,
   "id": "d59cc4d3",
   "metadata": {},
   "outputs": [
    {
     "name": "stdout",
     "output_type": "stream",
     "text": [
      "The number of missing values in title column: 0\n",
      "The number of missing values in selftext column: 1141\n"
     ]
    }
   ],
   "source": [
    "print(f\"The number of missing values in title column: {df_samsung['title'].isna().sum()}\")\n",
    "print(f\"The number of missing values in selftext column: {df_samsung['selftext'].isna().sum()}\")"
   ]
  },
  {
   "cell_type": "code",
   "execution_count": 5,
   "id": "5c0222e9",
   "metadata": {},
   "outputs": [
    {
     "data": {
      "text/html": [
       "<div>\n",
       "<style scoped>\n",
       "    .dataframe tbody tr th:only-of-type {\n",
       "        vertical-align: middle;\n",
       "    }\n",
       "\n",
       "    .dataframe tbody tr th {\n",
       "        vertical-align: top;\n",
       "    }\n",
       "\n",
       "    .dataframe thead th {\n",
       "        text-align: right;\n",
       "    }\n",
       "</style>\n",
       "<table border=\"1\" class=\"dataframe\">\n",
       "  <thead>\n",
       "    <tr style=\"text-align: right;\">\n",
       "      <th></th>\n",
       "      <th>title</th>\n",
       "      <th>selftext</th>\n",
       "    </tr>\n",
       "  </thead>\n",
       "  <tbody>\n",
       "    <tr>\n",
       "      <th>5</th>\n",
       "      <td>If i download around 2GB of spotify music in m...</td>\n",
       "      <td>NaN</td>\n",
       "    </tr>\n",
       "    <tr>\n",
       "      <th>10</th>\n",
       "      <td>Awful Battery</td>\n",
       "      <td>NaN</td>\n",
       "    </tr>\n",
       "    <tr>\n",
       "      <th>20</th>\n",
       "      <td>I have a new watch 5. I can make calls on it w...</td>\n",
       "      <td>NaN</td>\n",
       "    </tr>\n",
       "    <tr>\n",
       "      <th>23</th>\n",
       "      <td>Up to 80% off from Apr 26 to May 3 for the CEL...</td>\n",
       "      <td>NaN</td>\n",
       "    </tr>\n",
       "    <tr>\n",
       "      <th>25</th>\n",
       "      <td>Pretty good battery life this weekend on my GW...</td>\n",
       "      <td>NaN</td>\n",
       "    </tr>\n",
       "    <tr>\n",
       "      <th>...</th>\n",
       "      <td>...</td>\n",
       "      <td>...</td>\n",
       "    </tr>\n",
       "    <tr>\n",
       "      <th>3489</th>\n",
       "      <td>In the always-on mode of the Galaxy Watch acti...</td>\n",
       "      <td>NaN</td>\n",
       "    </tr>\n",
       "    <tr>\n",
       "      <th>3490</th>\n",
       "      <td>Calls aren't showing 1/5 times in GW4, even wh...</td>\n",
       "      <td>NaN</td>\n",
       "    </tr>\n",
       "    <tr>\n",
       "      <th>3491</th>\n",
       "      <td>Aye yo wtf !?</td>\n",
       "      <td>NaN</td>\n",
       "    </tr>\n",
       "    <tr>\n",
       "      <th>3492</th>\n",
       "      <td>GMT master ii white gold GW4 40mm</td>\n",
       "      <td>NaN</td>\n",
       "    </tr>\n",
       "    <tr>\n",
       "      <th>3497</th>\n",
       "      <td>GW5 and S10e - how can I stop phone alarm vibr...</td>\n",
       "      <td>NaN</td>\n",
       "    </tr>\n",
       "  </tbody>\n",
       "</table>\n",
       "<p>1141 rows × 2 columns</p>\n",
       "</div>"
      ],
      "text/plain": [
       "                                                  title selftext\n",
       "5     If i download around 2GB of spotify music in m...      NaN\n",
       "10                                        Awful Battery      NaN\n",
       "20    I have a new watch 5. I can make calls on it w...      NaN\n",
       "23    Up to 80% off from Apr 26 to May 3 for the CEL...      NaN\n",
       "25    Pretty good battery life this weekend on my GW...      NaN\n",
       "...                                                 ...      ...\n",
       "3489  In the always-on mode of the Galaxy Watch acti...      NaN\n",
       "3490  Calls aren't showing 1/5 times in GW4, even wh...      NaN\n",
       "3491                                      Aye yo wtf !?      NaN\n",
       "3492                  GMT master ii white gold GW4 40mm      NaN\n",
       "3497  GW5 and S10e - how can I stop phone alarm vibr...      NaN\n",
       "\n",
       "[1141 rows x 2 columns]"
      ]
     },
     "execution_count": 5,
     "metadata": {},
     "output_type": "execute_result"
    }
   ],
   "source": [
    "# check the type of missing values in selftext with theire equivalents in title\n",
    "df_samsung.loc[df_samsung[\"selftext\"].isna(), [\"title\", \"selftext\"]]"
   ]
  },
  {
   "cell_type": "code",
   "execution_count": 6,
   "id": "51ecdc2c",
   "metadata": {},
   "outputs": [
    {
     "data": {
      "text/html": [
       "<div>\n",
       "<style scoped>\n",
       "    .dataframe tbody tr th:only-of-type {\n",
       "        vertical-align: middle;\n",
       "    }\n",
       "\n",
       "    .dataframe tbody tr th {\n",
       "        vertical-align: top;\n",
       "    }\n",
       "\n",
       "    .dataframe thead th {\n",
       "        text-align: right;\n",
       "    }\n",
       "</style>\n",
       "<table border=\"1\" class=\"dataframe\">\n",
       "  <thead>\n",
       "    <tr style=\"text-align: right;\">\n",
       "      <th></th>\n",
       "      <th>title</th>\n",
       "      <th>selftext</th>\n",
       "      <th>description</th>\n",
       "    </tr>\n",
       "  </thead>\n",
       "  <tbody>\n",
       "    <tr>\n",
       "      <th>0</th>\n",
       "      <td>May Fitness Challenge</td>\n",
       "      <td>Hey! Join me this month for the fitness challe...</td>\n",
       "      <td>Hey! Join me this month for the fitness challe...</td>\n",
       "    </tr>\n",
       "    <tr>\n",
       "      <th>1</th>\n",
       "      <td>What's this about?</td>\n",
       "      <td>I noticed the DISPLAY watch is better then the...</td>\n",
       "      <td>I noticed the DISPLAY watch is better then the...</td>\n",
       "    </tr>\n",
       "    <tr>\n",
       "      <th>2</th>\n",
       "      <td>Option to have notifications on watch even whe...</td>\n",
       "      <td>I got a tattoo on my wrist and my watch think...</td>\n",
       "      <td>I got a tattoo on my wrist and my watch think...</td>\n",
       "    </tr>\n",
       "    <tr>\n",
       "      <th>3</th>\n",
       "      <td>Not receiving notifications or Watch</td>\n",
       "      <td>So when I open my galaxy wearables app, go to ...</td>\n",
       "      <td>So when I open my galaxy wearables app, go to ...</td>\n",
       "    </tr>\n",
       "    <tr>\n",
       "      <th>4</th>\n",
       "      <td>GW5 and specific WiFi SSID</td>\n",
       "      <td>I have a number of SSID's in my home for diffe...</td>\n",
       "      <td>I have a number of SSID's in my home for diffe...</td>\n",
       "    </tr>\n",
       "    <tr>\n",
       "      <th>...</th>\n",
       "      <td>...</td>\n",
       "      <td>...</td>\n",
       "      <td>...</td>\n",
       "    </tr>\n",
       "    <tr>\n",
       "      <th>3493</th>\n",
       "      <td>Automatically given steps</td>\n",
       "      <td>I was at the gym tonight and noticed my watch ...</td>\n",
       "      <td>I was at the gym tonight and noticed my watch ...</td>\n",
       "    </tr>\n",
       "    <tr>\n",
       "      <th>3494</th>\n",
       "      <td>Why the FUCK did Google Assistant force my wat...</td>\n",
       "      <td>Why is Google so shit? \\n\\nSimply enabling the...</td>\n",
       "      <td>Why is Google so shit? \\n\\nSimply enabling the...</td>\n",
       "    </tr>\n",
       "    <tr>\n",
       "      <th>3495</th>\n",
       "      <td>Nike Run Club</td>\n",
       "      <td>How can I get Nike Run Club app to work on my ...</td>\n",
       "      <td>How can I get Nike Run Club app to work on my ...</td>\n",
       "    </tr>\n",
       "    <tr>\n",
       "      <th>3496</th>\n",
       "      <td>Looking for a Omega Speedmaster Moonphase watc...</td>\n",
       "      <td>Looking for a Omega Speedmaster Moonphase in a...</td>\n",
       "      <td>Looking for a Omega Speedmaster Moonphase in a...</td>\n",
       "    </tr>\n",
       "    <tr>\n",
       "      <th>3497</th>\n",
       "      <td>GW5 and S10e - how can I stop phone alarm vibr...</td>\n",
       "      <td></td>\n",
       "      <td>GW5 and S10e - how can I stop phone alarm vibr...</td>\n",
       "    </tr>\n",
       "  </tbody>\n",
       "</table>\n",
       "<p>3498 rows × 3 columns</p>\n",
       "</div>"
      ],
      "text/plain": [
       "                                                  title  \\\n",
       "0                                 May Fitness Challenge   \n",
       "1                                    What's this about?   \n",
       "2     Option to have notifications on watch even whe...   \n",
       "3                  Not receiving notifications or Watch   \n",
       "4                            GW5 and specific WiFi SSID   \n",
       "...                                                 ...   \n",
       "3493                          Automatically given steps   \n",
       "3494  Why the FUCK did Google Assistant force my wat...   \n",
       "3495                                      Nike Run Club   \n",
       "3496  Looking for a Omega Speedmaster Moonphase watc...   \n",
       "3497  GW5 and S10e - how can I stop phone alarm vibr...   \n",
       "\n",
       "                                               selftext  \\\n",
       "0     Hey! Join me this month for the fitness challe...   \n",
       "1     I noticed the DISPLAY watch is better then the...   \n",
       "2      I got a tattoo on my wrist and my watch think...   \n",
       "3     So when I open my galaxy wearables app, go to ...   \n",
       "4     I have a number of SSID's in my home for diffe...   \n",
       "...                                                 ...   \n",
       "3493  I was at the gym tonight and noticed my watch ...   \n",
       "3494  Why is Google so shit? \\n\\nSimply enabling the...   \n",
       "3495  How can I get Nike Run Club app to work on my ...   \n",
       "3496  Looking for a Omega Speedmaster Moonphase in a...   \n",
       "3497                                                      \n",
       "\n",
       "                                            description  \n",
       "0     Hey! Join me this month for the fitness challe...  \n",
       "1     I noticed the DISPLAY watch is better then the...  \n",
       "2      I got a tattoo on my wrist and my watch think...  \n",
       "3     So when I open my galaxy wearables app, go to ...  \n",
       "4     I have a number of SSID's in my home for diffe...  \n",
       "...                                                 ...  \n",
       "3493  I was at the gym tonight and noticed my watch ...  \n",
       "3494  Why is Google so shit? \\n\\nSimply enabling the...  \n",
       "3495  How can I get Nike Run Club app to work on my ...  \n",
       "3496  Looking for a Omega Speedmaster Moonphase in a...  \n",
       "3497  GW5 and S10e - how can I stop phone alarm vibr...  \n",
       "\n",
       "[3498 rows x 3 columns]"
      ]
     },
     "execution_count": 6,
     "metadata": {},
     "output_type": "execute_result"
    }
   ],
   "source": [
    "# cite for using map str: https://sparkbyexamples.com/pandas/pandas-combine-two-columns-of-text-in-dataframe/#:~:text=Combine%20Two%20Columns%20Using%20%2B%20Operator,does%20addition%20instead%20of%20concatenation.\n",
    "# Fill missing values () in selftext with space\n",
    "df_samsung[\"selftext\"] = df_samsung[\"selftext\"].fillna(\"\")\n",
    "df_samsung[\"description\"] = df_samsung[\"selftext\"].map(str) + df_samsung[\"title\"]\n",
    "\n",
    "# check the description column\n",
    "df_samsung.loc[:,[\"title\", \"selftext\", \"description\"]]"
   ]
  },
  {
   "cell_type": "code",
   "execution_count": 11,
   "id": "d5136b96",
   "metadata": {},
   "outputs": [
    {
     "data": {
      "text/html": [
       "<div>\n",
       "<style scoped>\n",
       "    .dataframe tbody tr th:only-of-type {\n",
       "        vertical-align: middle;\n",
       "    }\n",
       "\n",
       "    .dataframe tbody tr th {\n",
       "        vertical-align: top;\n",
       "    }\n",
       "\n",
       "    .dataframe thead th {\n",
       "        text-align: right;\n",
       "    }\n",
       "</style>\n",
       "<table border=\"1\" class=\"dataframe\">\n",
       "  <thead>\n",
       "    <tr style=\"text-align: right;\">\n",
       "      <th></th>\n",
       "      <th>author</th>\n",
       "      <th>description</th>\n",
       "      <th>subreddit</th>\n",
       "    </tr>\n",
       "  </thead>\n",
       "  <tbody>\n",
       "    <tr>\n",
       "      <th>0</th>\n",
       "      <td>SunflowerNBarbedWire</td>\n",
       "      <td>Hey! Join me this month for the fitness challe...</td>\n",
       "      <td>GalaxyWatch</td>\n",
       "    </tr>\n",
       "    <tr>\n",
       "      <th>1</th>\n",
       "      <td>TypicalZedF</td>\n",
       "      <td>I noticed the DISPLAY watch is better then the...</td>\n",
       "      <td>GalaxyWatch</td>\n",
       "    </tr>\n",
       "    <tr>\n",
       "      <th>2</th>\n",
       "      <td>CCJ22</td>\n",
       "      <td>I got a tattoo on my wrist and my watch think...</td>\n",
       "      <td>GalaxyWatch</td>\n",
       "    </tr>\n",
       "    <tr>\n",
       "      <th>3</th>\n",
       "      <td>No_Pudding4739</td>\n",
       "      <td>So when I open my galaxy wearables app, go to ...</td>\n",
       "      <td>GalaxyWatch</td>\n",
       "    </tr>\n",
       "    <tr>\n",
       "      <th>4</th>\n",
       "      <td>PhobicCarrot</td>\n",
       "      <td>I have a number of SSID's in my home for diffe...</td>\n",
       "      <td>GalaxyWatch</td>\n",
       "    </tr>\n",
       "  </tbody>\n",
       "</table>\n",
       "</div>"
      ],
      "text/plain": [
       "                 author                                        description  \\\n",
       "0  SunflowerNBarbedWire  Hey! Join me this month for the fitness challe...   \n",
       "1           TypicalZedF  I noticed the DISPLAY watch is better then the...   \n",
       "2                 CCJ22   I got a tattoo on my wrist and my watch think...   \n",
       "3        No_Pudding4739  So when I open my galaxy wearables app, go to ...   \n",
       "4          PhobicCarrot  I have a number of SSID's in my home for diffe...   \n",
       "\n",
       "     subreddit  \n",
       "0  GalaxyWatch  \n",
       "1  GalaxyWatch  \n",
       "2  GalaxyWatch  \n",
       "3  GalaxyWatch  \n",
       "4  GalaxyWatch  "
      ]
     },
     "execution_count": 11,
     "metadata": {},
     "output_type": "execute_result"
    }
   ],
   "source": [
    "# make a new dataframe for EDA\n",
    "df_galaxywatch = df_samsung.loc[:,[\"author\", \"description\", \"subreddit\"]]\n",
    "df_galaxywatch.head()"
   ]
  },
  {
   "cell_type": "code",
   "execution_count": 8,
   "id": "0b80e9ad",
   "metadata": {},
   "outputs": [
    {
     "data": {
      "text/plain": [
       "author         0\n",
       "description    0\n",
       "subreddit      0\n",
       "dtype: int64"
      ]
     },
     "execution_count": 8,
     "metadata": {},
     "output_type": "execute_result"
    }
   ],
   "source": [
    "# check the missong values in new dataframe\n",
    "df_galaxywatch.isna().sum()"
   ]
  },
  {
   "cell_type": "code",
   "execution_count": 9,
   "id": "0fa9ecac",
   "metadata": {},
   "outputs": [],
   "source": [
    "# export and save galaxywatch dataframe\n",
    "#df_galaxywatch.to_csv('../data/galaxy_watch.csv')"
   ]
  },
  {
   "cell_type": "code",
   "execution_count": 12,
   "id": "7b3b69e1",
   "metadata": {},
   "outputs": [],
   "source": [
    "# make a new column to show word count of description\n",
    "df_galaxywatch[\"des_word_count\"] = df_galaxywatch[\"description\"].str.split().str.len()"
   ]
  },
  {
   "cell_type": "code",
   "execution_count": 13,
   "id": "4e71be9e",
   "metadata": {},
   "outputs": [
    {
     "data": {
      "text/html": [
       "<div>\n",
       "<style scoped>\n",
       "    .dataframe tbody tr th:only-of-type {\n",
       "        vertical-align: middle;\n",
       "    }\n",
       "\n",
       "    .dataframe tbody tr th {\n",
       "        vertical-align: top;\n",
       "    }\n",
       "\n",
       "    .dataframe thead th {\n",
       "        text-align: right;\n",
       "    }\n",
       "</style>\n",
       "<table border=\"1\" class=\"dataframe\">\n",
       "  <thead>\n",
       "    <tr style=\"text-align: right;\">\n",
       "      <th></th>\n",
       "      <th>author</th>\n",
       "      <th>description</th>\n",
       "      <th>subreddit</th>\n",
       "      <th>des_word_count</th>\n",
       "    </tr>\n",
       "  </thead>\n",
       "  <tbody>\n",
       "    <tr>\n",
       "      <th>3335</th>\n",
       "      <td>baiduelectronics</td>\n",
       "      <td>One of the standout features of the [**Google ...</td>\n",
       "      <td>GalaxyWatch</td>\n",
       "      <td>1394</td>\n",
       "    </tr>\n",
       "    <tr>\n",
       "      <th>1606</th>\n",
       "      <td>sonicintrusion</td>\n",
       "      <td>TLDR: You can remove a bunch of apps from the ...</td>\n",
       "      <td>GalaxyWatch</td>\n",
       "      <td>832</td>\n",
       "    </tr>\n",
       "    <tr>\n",
       "      <th>2276</th>\n",
       "      <td>Alcoholfreeliketwice</td>\n",
       "      <td>So I’ve decided I’m gonna get the s23 ultra in...</td>\n",
       "      <td>GalaxyWatch</td>\n",
       "      <td>685</td>\n",
       "    </tr>\n",
       "    <tr>\n",
       "      <th>2348</th>\n",
       "      <td>Gadgety1</td>\n",
       "      <td>Wondering why I received this recommendation t...</td>\n",
       "      <td>GalaxyWatch</td>\n",
       "      <td>651</td>\n",
       "    </tr>\n",
       "    <tr>\n",
       "      <th>818</th>\n",
       "      <td>jayfiled</td>\n",
       "      <td>Took a bit of fiddling around and looking thro...</td>\n",
       "      <td>GalaxyWatch</td>\n",
       "      <td>559</td>\n",
       "    </tr>\n",
       "  </tbody>\n",
       "</table>\n",
       "</div>"
      ],
      "text/plain": [
       "                    author                                        description  \\\n",
       "3335      baiduelectronics  One of the standout features of the [**Google ...   \n",
       "1606        sonicintrusion  TLDR: You can remove a bunch of apps from the ...   \n",
       "2276  Alcoholfreeliketwice  So I’ve decided I’m gonna get the s23 ultra in...   \n",
       "2348              Gadgety1  Wondering why I received this recommendation t...   \n",
       "818               jayfiled  Took a bit of fiddling around and looking thro...   \n",
       "\n",
       "        subreddit  des_word_count  \n",
       "3335  GalaxyWatch            1394  \n",
       "1606  GalaxyWatch             832  \n",
       "2276  GalaxyWatch             685  \n",
       "2348  GalaxyWatch             651  \n",
       "818   GalaxyWatch             559  "
      ]
     },
     "execution_count": 13,
     "metadata": {},
     "output_type": "execute_result"
    }
   ],
   "source": [
    "# five longest descriptions\n",
    "df_galaxywatch.sort_values(by = \"des_word_count\", ascending=False).head()"
   ]
  },
  {
   "cell_type": "code",
   "execution_count": 15,
   "id": "e46e10f9",
   "metadata": {},
   "outputs": [
    {
     "data": {
      "text/html": [
       "<div>\n",
       "<style scoped>\n",
       "    .dataframe tbody tr th:only-of-type {\n",
       "        vertical-align: middle;\n",
       "    }\n",
       "\n",
       "    .dataframe tbody tr th {\n",
       "        vertical-align: top;\n",
       "    }\n",
       "\n",
       "    .dataframe thead th {\n",
       "        text-align: right;\n",
       "    }\n",
       "</style>\n",
       "<table border=\"1\" class=\"dataframe\">\n",
       "  <thead>\n",
       "    <tr style=\"text-align: right;\">\n",
       "      <th></th>\n",
       "      <th>author</th>\n",
       "      <th>description</th>\n",
       "      <th>subreddit</th>\n",
       "      <th>des_word_count</th>\n",
       "    </tr>\n",
       "  </thead>\n",
       "  <tbody>\n",
       "    <tr>\n",
       "      <th>2650</th>\n",
       "      <td>CheapScientist5603</td>\n",
       "      <td>malware</td>\n",
       "      <td>GalaxyWatch</td>\n",
       "      <td>1</td>\n",
       "    </tr>\n",
       "    <tr>\n",
       "      <th>2039</th>\n",
       "      <td>Independent-Elk9983</td>\n",
       "      <td>OPinions?</td>\n",
       "      <td>GalaxyWatch</td>\n",
       "      <td>1</td>\n",
       "    </tr>\n",
       "    <tr>\n",
       "      <th>2040</th>\n",
       "      <td>Independent-Elk9983</td>\n",
       "      <td>OPinions</td>\n",
       "      <td>GalaxyWatch</td>\n",
       "      <td>1</td>\n",
       "    </tr>\n",
       "    <tr>\n",
       "      <th>2041</th>\n",
       "      <td>Independent-Elk9983</td>\n",
       "      <td>OPinions?</td>\n",
       "      <td>GalaxyWatch</td>\n",
       "      <td>1</td>\n",
       "    </tr>\n",
       "    <tr>\n",
       "      <th>489</th>\n",
       "      <td>[deleted]</td>\n",
       "      <td>[deleted]Xs32435</td>\n",
       "      <td>GalaxyWatch</td>\n",
       "      <td>1</td>\n",
       "    </tr>\n",
       "  </tbody>\n",
       "</table>\n",
       "</div>"
      ],
      "text/plain": [
       "                   author       description    subreddit  des_word_count\n",
       "2650   CheapScientist5603           malware  GalaxyWatch               1\n",
       "2039  Independent-Elk9983         OPinions?  GalaxyWatch               1\n",
       "2040  Independent-Elk9983          OPinions  GalaxyWatch               1\n",
       "2041  Independent-Elk9983         OPinions?  GalaxyWatch               1\n",
       "489             [deleted]  [deleted]Xs32435  GalaxyWatch               1"
      ]
     },
     "execution_count": 15,
     "metadata": {},
     "output_type": "execute_result"
    }
   ],
   "source": [
    "# five shortest description\n",
    "df_galaxywatch.sort_values(by = \"des_word_count\", ascending=False).tail()"
   ]
  },
  {
   "cell_type": "code",
   "execution_count": 21,
   "id": "4c6c3bb4",
   "metadata": {},
   "outputs": [
    {
     "data": {
      "image/png": "[encoded data removed]",
      "text/plain": [
       "<Figure size 1000x800 with 1 Axes>"
      ]
     },
     "metadata": {},
     "output_type": "display_data"
    }
   ],
   "source": [
    "# distribution of description length based on word count\n",
    "length_distribution(column=df_galaxywatch[\"des_word_count\"],\n",
    "                    title=\"Distribution of The Length of Descriptions in Galaxy Watch Subreddits\",\n",
    "                   x_label=\"Description Word Count\",\n",
    "                   num_bins=100,\n",
    "                   color=\"mediumpurple\")"
   ]
  },
  {
   "cell_type": "code",
   "execution_count": 27,
   "id": "38e13c81",
   "metadata": {},
   "outputs": [
    {
     "name": "stdout",
     "output_type": "stream",
     "text": [
      "Number of unique authors: 2457\n"
     ]
    },
    {
     "data": {
      "text/html": [
       "<div>\n",
       "<style scoped>\n",
       "    .dataframe tbody tr th:only-of-type {\n",
       "        vertical-align: middle;\n",
       "    }\n",
       "\n",
       "    .dataframe tbody tr th {\n",
       "        vertical-align: top;\n",
       "    }\n",
       "\n",
       "    .dataframe thead th {\n",
       "        text-align: right;\n",
       "    }\n",
       "</style>\n",
       "<table border=\"1\" class=\"dataframe\">\n",
       "  <thead>\n",
       "    <tr style=\"text-align: right;\">\n",
       "      <th></th>\n",
       "      <th>count</th>\n",
       "    </tr>\n",
       "    <tr>\n",
       "      <th>author</th>\n",
       "      <th></th>\n",
       "    </tr>\n",
       "  </thead>\n",
       "  <tbody>\n",
       "    <tr>\n",
       "      <th>DADAMWF</th>\n",
       "      <td>23</td>\n",
       "    </tr>\n",
       "    <tr>\n",
       "      <th>Own_Statement_8788</th>\n",
       "      <td>18</td>\n",
       "    </tr>\n",
       "    <tr>\n",
       "      <th>No-Impress3806</th>\n",
       "      <td>14</td>\n",
       "    </tr>\n",
       "    <tr>\n",
       "      <th>rusahitam</th>\n",
       "      <td>14</td>\n",
       "    </tr>\n",
       "    <tr>\n",
       "      <th>MyWatchFace</th>\n",
       "      <td>14</td>\n",
       "    </tr>\n",
       "    <tr>\n",
       "      <th>...</th>\n",
       "      <td>...</td>\n",
       "    </tr>\n",
       "    <tr>\n",
       "      <th>Nightwing55</th>\n",
       "      <td>1</td>\n",
       "    </tr>\n",
       "    <tr>\n",
       "      <th>NightFuryX0</th>\n",
       "      <td>1</td>\n",
       "    </tr>\n",
       "    <tr>\n",
       "      <th>NightAshamed</th>\n",
       "      <td>1</td>\n",
       "    </tr>\n",
       "    <tr>\n",
       "      <th>NickiMinaj_05</th>\n",
       "      <td>1</td>\n",
       "    </tr>\n",
       "    <tr>\n",
       "      <th>zzzzsamzzzz</th>\n",
       "      <td>1</td>\n",
       "    </tr>\n",
       "  </tbody>\n",
       "</table>\n",
       "<p>2457 rows × 1 columns</p>\n",
       "</div>"
      ],
      "text/plain": [
       "                    count\n",
       "author                   \n",
       "DADAMWF                23\n",
       "Own_Statement_8788     18\n",
       "No-Impress3806         14\n",
       "rusahitam              14\n",
       "MyWatchFace            14\n",
       "...                   ...\n",
       "Nightwing55             1\n",
       "NightFuryX0             1\n",
       "NightAshamed            1\n",
       "NickiMinaj_05           1\n",
       "zzzzsamzzzz             1\n",
       "\n",
       "[2457 rows x 1 columns]"
      ]
     },
     "execution_count": 27,
     "metadata": {},
     "output_type": "execute_result"
    }
   ],
   "source": [
    "# number of unique authors\n",
    "print(f\"Number of unique authors: {df_galaxywatch['author'].nunique()}\")\n",
    "\n",
    "# filtering description and counting them by their authors\n",
    "df_galaxywatch.groupby(\"author\")[\"description\"].agg([\"count\"]).sort_values(\"count\", ascending = False)"
   ]
  },
  {
   "cell_type": "code",
   "execution_count": 34,
   "id": "72ee151a",
   "metadata": {},
   "outputs": [
    {
     "name": "stdout",
     "output_type": "stream",
     "text": [
      "The size of the galaxy watch subreddit dataframe after removing duplicate authors: 2457\n"
     ]
    }
   ],
   "source": [
    "# Drop the duplicate authors\n",
    "df_galaxywatch.drop_duplicates(subset=\"author\", keep=\"first\", inplace=True)\n",
    "print(f\"The size of the galaxy watch subreddit dataframe after removing duplicate authors: {df_galaxywatch.shape[0]}\")"
   ]
  },
  {
   "cell_type": "code",
   "execution_count": 250,
   "id": "d3b69cf2",
   "metadata": {},
   "outputs": [],
   "source": [
    "# instantiate CountVectorizer and ftit and transform on corpus\n",
    "X = df_galaxywatch['description']\n",
    "cvec = CountVectorizer(stop_words='english', ngram_range=(1,3))\n",
    "cvec.fit(X)\n",
    "X = cvec.transform(X)"
   ]
  },
  {
   "cell_type": "code",
   "execution_count": 251,
   "id": "1e573f7c",
   "metadata": {},
   "outputs": [
    {
     "name": "stderr",
     "output_type": "stream",
     "text": [
      "C:\\Users\\sarvin.farhad\\anaconda3\\lib\\site-packages\\sklearn\\utils\\deprecation.py:87: FutureWarning: Function get_feature_names is deprecated; get_feature_names is deprecated in 1.0 and will be removed in 1.2. Please use get_feature_names_out instead.\n",
      "  warnings.warn(msg, category=FutureWarning)\n"
     ]
    },
    {
     "data": {
      "text/plain": [
       "(1999, 95031)"
      ]
     },
     "execution_count": 251,
     "metadata": {},
     "output_type": "execute_result"
    }
   ],
   "source": [
    "# convert X to dataframe\n",
    "df_galvec = pd.DataFrame(X.todense(), columns = cvec.get_feature_names())\n",
    "df_galvec.shape"
   ]
  },
  {
   "cell_type": "code",
   "execution_count": 252,
   "id": "181fe97d",
   "metadata": {},
   "outputs": [
    {
     "data": {
      "text/plain": [
       "watch           3127\n",
       "galaxy          1000\n",
       "phone            760\n",
       "galaxy watch     736\n",
       "samsung          612\n",
       "app              472\n",
       "just             459\n",
       "battery          450\n",
       "pro              415\n",
       "like             401\n",
       "use              352\n",
       "google           342\n",
       "ve               324\n",
       "update           308\n",
       "know             287\n",
       "does             287\n",
       "face             286\n",
       "time             278\n",
       "amp              254\n",
       "new              247\n",
       "got              239\n",
       "classic          238\n",
       "watch face       228\n",
       "way              227\n",
       "using            212\n",
       "dtype: int64"
      ]
     },
     "execution_count": 252,
     "metadata": {},
     "output_type": "execute_result"
    }
   ],
   "source": [
    "# sort dataframe for most occuring words\n",
    "df_galvec.sum().sort_values(ascending=False).head(25)"
   ]
  },
  {
   "cell_type": "code",
   "execution_count": 256,
   "id": "cd704974",
   "metadata": {},
   "outputs": [
    {
     "data": {
      "image/png": "[encoded data removed]",
      "text/plain": [
       "<Figure size 640x480 with 1 Axes>"
      ]
     },
     "metadata": {},
     "output_type": "display_data"
    }
   ],
   "source": [
    "# plot most occured words\n",
    "df_galvec.sum().sort_values(ascending=False).head(20).plot(kind='barh',\n",
    "                            color = 'mediumpurple', edgecolor = 'black')\n",
    "plt.title('Most words in Posts of GalaxyWatch Subreddit', fontsize=12)\n",
    "plt.xlabel('Number of Words', fontsize=10)\n",
    "plt.ylabel('Words', fontsize=10);"
   ]
  },
  {
   "cell_type": "markdown",
   "id": "82a446f9",
   "metadata": {},
   "source": [
    "### Apple Watch\n",
    "In the following cells I'll do some exploring and cleaning in apple dataframe and will make a new dataframe as a apple watch which only has usefull columns for EDA"
   ]
  },
  {
   "cell_type": "code",
   "execution_count": 33,
   "id": "20c21966",
   "metadata": {},
   "outputs": [
    {
     "name": "stdout",
     "output_type": "stream",
     "text": [
      "Sample Data :   Unnamed: 0   subreddit                                           selftext  \\\n",
      "0           0  AppleWatch  \\nyes, it's an LTE watch with data turned on, ...   \n",
      "1           1  AppleWatch                                                NaN   \n",
      "2           2  AppleWatch  Fell very hard blackout drunk and lost watch. ...   \n",
      "3           3  AppleWatch                                                NaN   \n",
      "4           4  AppleWatch                                                NaN   \n",
      "\n",
      "  author_fullname  gilded                                              title  \\\n",
      "0     t2_ufkkx07w       0  why is my S7 going from almost fully charged t...   \n",
      "1     t2_f9u74w57       0  How accurate is the active/total calorie track...   \n",
      "2     t2_8d4g53nt       0                     Lost watch when blackout drunk   \n",
      "3        t2_my277       0  Pls tell me i‘m not the only one who has such ...   \n",
      "4        t2_xos5u       0  Deleted Apps in Watch App on iPhone with weird...   \n",
      "\n",
      "                  link_flair_richtext subreddit_name_prefixed  hidden  pwls  \\\n",
      "0     [{'e': 'text', 't': 'Support'}]            r/AppleWatch   False     6   \n",
      "1    [{'e': 'text', 't': 'Activity'}]            r/AppleWatch   False     6   \n",
      "2  [{'e': 'text', 't': 'Discussion'}]            r/AppleWatch   False     6   \n",
      "3    [{'e': 'text', 't': 'My Watch'}]            r/AppleWatch   False     6   \n",
      "4     [{'e': 'text', 't': 'Support'}]            r/AppleWatch   False     6   \n",
      "\n",
      "   ... retrieved_utc  updated_utc     utc_datetime_str  is_gallery  \\\n",
      "0  ...    1682960067   1682960067  2023-05-01 16:54:13         NaN   \n",
      "1  ...    1682960047   1682960048  2023-05-01 16:53:55         NaN   \n",
      "2  ...    1682959608   1682959608  2023-05-01 16:46:32         NaN   \n",
      "3  ...    1682958435   1682958435  2023-05-01 16:26:57         NaN   \n",
      "4  ...    1682958214   1682958215  2023-05-01 16:23:16        True   \n",
      "\n",
      "                                      media_metadata  \\\n",
      "0                                                NaN   \n",
      "1                                                NaN   \n",
      "2                                                NaN   \n",
      "3                                                NaN   \n",
      "4  {'uexngb09x8xa1': {'status': 'valid', 'e': 'Im...   \n",
      "\n",
      "                                        gallery_data  poll_data  \\\n",
      "0                                                NaN        NaN   \n",
      "1                                                NaN        NaN   \n",
      "2                                                NaN        NaN   \n",
      "3                                                NaN        NaN   \n",
      "4  {'items': [{'media_id': '88nbxa09x8xa1', 'id':...        NaN   \n",
      "\n",
      "  crosspost_parent_list  crosspost_parent author_cakeday  \n",
      "0                   NaN               NaN            NaN  \n",
      "1                   NaN               NaN            NaN  \n",
      "2                   NaN               NaN            NaN  \n",
      "3                   NaN               NaN            NaN  \n",
      "4                   NaN               NaN            NaN  \n",
      "\n",
      "[5 rows x 98 columns]\n",
      "\n",
      "--------------------------\n",
      "\n",
      " Columns : ['Unnamed: 0', 'subreddit', 'selftext', 'author_fullname', 'gilded', 'title', 'link_flair_richtext', 'subreddit_name_prefixed', 'hidden', 'pwls', 'link_flair_css_class', 'thumbnail_height', 'top_awarded_type', 'hide_score', 'quarantine', 'link_flair_text_color', 'upvote_ratio', 'author_flair_background_color', 'total_awards_received', 'media_embed', 'thumbnail_width', 'author_flair_template_id', 'is_original_content', 'secure_media', 'is_reddit_media_domain', 'is_meta', 'category', 'secure_media_embed', 'link_flair_text', 'score', 'is_created_from_ads_ui', 'author_premium', 'thumbnail', 'edited', 'author_flair_css_class', 'author_flair_richtext', 'gildings', 'post_hint', 'content_categories', 'is_self', 'subreddit_type', 'link_flair_type', 'wls', 'removed_by_category', 'author_flair_type', 'domain', 'allow_live_comments', 'suggested_sort', 'url_overridden_by_dest', 'view_count', 'archived', 'no_follow', 'is_crosspostable', 'pinned', 'over_18', 'preview', 'all_awardings', 'awarders', 'media_only', 'link_flair_template_id', 'can_gild', 'spoiler', 'locked', 'author_flair_text', 'treatment_tags', 'removed_by', 'distinguished', 'subreddit_id', 'link_flair_background_color', 'id', 'is_robot_indexable', 'author', 'discussion_type', 'num_comments', 'send_replies', 'whitelist_status', 'contest_mode', 'author_patreon_flair', 'author_flair_text_color', 'permalink', 'parent_whitelist_status', 'stickied', 'url', 'subreddit_subscribers', 'created_utc', 'num_crossposts', 'media', 'is_video', 'retrieved_utc', 'updated_utc', 'utc_datetime_str', 'is_gallery', 'media_metadata', 'gallery_data', 'poll_data', 'crosspost_parent_list', 'crosspost_parent', 'author_cakeday']\n",
      "\n",
      "--------------------------\n",
      "\n",
      " Size of the dataset : 3499\n",
      "\n",
      "--------------------------\n",
      "\n",
      " Total number of columns : 98\n"
     ]
    }
   ],
   "source": [
    "# load data\n",
    "df_apple = pd.read_csv(apple_path)\n",
    "\n",
    "# Get some basic information \n",
    "print(f\"Sample Data :{df_apple.head()}\")\n",
    "print(f\"\\n--------------------------\\n\\n Columns : {[i for i in df_apple.columns]}\")\n",
    "print(f\"\\n--------------------------\\n\\n Size of the dataset : {df_apple.shape[0]}\")\n",
    "print(f\"\\n--------------------------\\n\\n Total number of columns : {df_apple.shape[1]}\")"
   ]
  },
  {
   "cell_type": "code",
   "execution_count": 34,
   "id": "e71d53d2",
   "metadata": {},
   "outputs": [
    {
     "name": "stdout",
     "output_type": "stream",
     "text": [
      "The number of missing values in title column: 0\n",
      "The number of missing values in selftext column: 1142\n"
     ]
    }
   ],
   "source": [
    "print(f\"The number of missing values in title column: {df_apple['title'].isna().sum()}\")\n",
    "print(f\"The number of missing values in selftext column: {df_apple['selftext'].isna().sum()}\")"
   ]
  },
  {
   "cell_type": "code",
   "execution_count": 35,
   "id": "4d9acf5c",
   "metadata": {},
   "outputs": [
    {
     "data": {
      "text/html": [
       "<div>\n",
       "<style scoped>\n",
       "    .dataframe tbody tr th:only-of-type {\n",
       "        vertical-align: middle;\n",
       "    }\n",
       "\n",
       "    .dataframe tbody tr th {\n",
       "        vertical-align: top;\n",
       "    }\n",
       "\n",
       "    .dataframe thead th {\n",
       "        text-align: right;\n",
       "    }\n",
       "</style>\n",
       "<table border=\"1\" class=\"dataframe\">\n",
       "  <thead>\n",
       "    <tr style=\"text-align: right;\">\n",
       "      <th></th>\n",
       "      <th>title</th>\n",
       "      <th>selftext</th>\n",
       "    </tr>\n",
       "  </thead>\n",
       "  <tbody>\n",
       "    <tr>\n",
       "      <th>1</th>\n",
       "      <td>How accurate is the active/total calorie track...</td>\n",
       "      <td>NaN</td>\n",
       "    </tr>\n",
       "    <tr>\n",
       "      <th>3</th>\n",
       "      <td>Pls tell me i‘m not the only one who has such ...</td>\n",
       "      <td>NaN</td>\n",
       "    </tr>\n",
       "    <tr>\n",
       "      <th>4</th>\n",
       "      <td>Deleted Apps in Watch App on iPhone with weird...</td>\n",
       "      <td>NaN</td>\n",
       "    </tr>\n",
       "    <tr>\n",
       "      <th>5</th>\n",
       "      <td>What is this complication?</td>\n",
       "      <td>NaN</td>\n",
       "    </tr>\n",
       "    <tr>\n",
       "      <th>7</th>\n",
       "      <td>Series 8 midnight with oem link bracelet</td>\n",
       "      <td>NaN</td>\n",
       "    </tr>\n",
       "    <tr>\n",
       "      <th>...</th>\n",
       "      <td>...</td>\n",
       "      <td>...</td>\n",
       "    </tr>\n",
       "    <tr>\n",
       "      <th>3483</th>\n",
       "      <td>is 92% battery health good for a second hand a...</td>\n",
       "      <td>NaN</td>\n",
       "    </tr>\n",
       "    <tr>\n",
       "      <th>3488</th>\n",
       "      <td>Now I can use the watch with peace of mind of ...</td>\n",
       "      <td>NaN</td>\n",
       "    </tr>\n",
       "    <tr>\n",
       "      <th>3490</th>\n",
       "      <td>Purchased the AW S8 in starlight with the chal...</td>\n",
       "      <td>NaN</td>\n",
       "    </tr>\n",
       "    <tr>\n",
       "      <th>3496</th>\n",
       "      <td>First time testing clockology, fun app</td>\n",
       "      <td>NaN</td>\n",
       "    </tr>\n",
       "    <tr>\n",
       "      <th>3497</th>\n",
       "      <td>Sleep paralysis and AW</td>\n",
       "      <td>NaN</td>\n",
       "    </tr>\n",
       "  </tbody>\n",
       "</table>\n",
       "<p>1142 rows × 2 columns</p>\n",
       "</div>"
      ],
      "text/plain": [
       "                                                  title selftext\n",
       "1     How accurate is the active/total calorie track...      NaN\n",
       "3     Pls tell me i‘m not the only one who has such ...      NaN\n",
       "4     Deleted Apps in Watch App on iPhone with weird...      NaN\n",
       "5                            What is this complication?      NaN\n",
       "7              Series 8 midnight with oem link bracelet      NaN\n",
       "...                                                 ...      ...\n",
       "3483  is 92% battery health good for a second hand a...      NaN\n",
       "3488  Now I can use the watch with peace of mind of ...      NaN\n",
       "3490  Purchased the AW S8 in starlight with the chal...      NaN\n",
       "3496             First time testing clockology, fun app      NaN\n",
       "3497                             Sleep paralysis and AW      NaN\n",
       "\n",
       "[1142 rows x 2 columns]"
      ]
     },
     "execution_count": 35,
     "metadata": {},
     "output_type": "execute_result"
    }
   ],
   "source": [
    "# check the type of missing values in selftext with theire equivalents in title\n",
    "df_apple.loc[df_apple[\"selftext\"].isna(), [\"title\", \"selftext\"]]"
   ]
  },
  {
   "cell_type": "code",
   "execution_count": 37,
   "id": "92837667",
   "metadata": {},
   "outputs": [
    {
     "data": {
      "text/html": [
       "<div>\n",
       "<style scoped>\n",
       "    .dataframe tbody tr th:only-of-type {\n",
       "        vertical-align: middle;\n",
       "    }\n",
       "\n",
       "    .dataframe tbody tr th {\n",
       "        vertical-align: top;\n",
       "    }\n",
       "\n",
       "    .dataframe thead th {\n",
       "        text-align: right;\n",
       "    }\n",
       "</style>\n",
       "<table border=\"1\" class=\"dataframe\">\n",
       "  <thead>\n",
       "    <tr style=\"text-align: right;\">\n",
       "      <th></th>\n",
       "      <th>title</th>\n",
       "      <th>selftext</th>\n",
       "      <th>description</th>\n",
       "    </tr>\n",
       "  </thead>\n",
       "  <tbody>\n",
       "    <tr>\n",
       "      <th>0</th>\n",
       "      <td>why is my S7 going from almost fully charged t...</td>\n",
       "      <td>\\nyes, it's an LTE watch with data turned on, ...</td>\n",
       "      <td>\\nyes, it's an LTE watch with data turned on, ...</td>\n",
       "    </tr>\n",
       "    <tr>\n",
       "      <th>1</th>\n",
       "      <td>How accurate is the active/total calorie track...</td>\n",
       "      <td></td>\n",
       "      <td>How accurate is the active/total calorie track...</td>\n",
       "    </tr>\n",
       "    <tr>\n",
       "      <th>2</th>\n",
       "      <td>Lost watch when blackout drunk</td>\n",
       "      <td>Fell very hard blackout drunk and lost watch. ...</td>\n",
       "      <td>Fell very hard blackout drunk and lost watch. ...</td>\n",
       "    </tr>\n",
       "    <tr>\n",
       "      <th>3</th>\n",
       "      <td>Pls tell me i‘m not the only one who has such ...</td>\n",
       "      <td></td>\n",
       "      <td>Pls tell me i‘m not the only one who has such ...</td>\n",
       "    </tr>\n",
       "    <tr>\n",
       "      <th>4</th>\n",
       "      <td>Deleted Apps in Watch App on iPhone with weird...</td>\n",
       "      <td></td>\n",
       "      <td>Deleted Apps in Watch App on iPhone with weird...</td>\n",
       "    </tr>\n",
       "    <tr>\n",
       "      <th>...</th>\n",
       "      <td>...</td>\n",
       "      <td>...</td>\n",
       "      <td>...</td>\n",
       "    </tr>\n",
       "    <tr>\n",
       "      <th>3494</th>\n",
       "      <td>LPT: Not sure your band is titanium? Use a mag...</td>\n",
       "      <td>Stainless steel is magnetic, titanium is not. ...</td>\n",
       "      <td>Stainless steel is magnetic, titanium is not. ...</td>\n",
       "    </tr>\n",
       "    <tr>\n",
       "      <th>3495</th>\n",
       "      <td>Trying to find specific watch face (pic included)</td>\n",
       "      <td>Feel like this is a really dumb question but f...</td>\n",
       "      <td>Feel like this is a really dumb question but f...</td>\n",
       "    </tr>\n",
       "    <tr>\n",
       "      <th>3496</th>\n",
       "      <td>First time testing clockology, fun app</td>\n",
       "      <td></td>\n",
       "      <td>First time testing clockology, fun app</td>\n",
       "    </tr>\n",
       "    <tr>\n",
       "      <th>3497</th>\n",
       "      <td>Sleep paralysis and AW</td>\n",
       "      <td></td>\n",
       "      <td>Sleep paralysis and AW</td>\n",
       "    </tr>\n",
       "    <tr>\n",
       "      <th>3498</th>\n",
       "      <td>What does the illuminated dot to the left of t...</td>\n",
       "      <td>Just got an apple watch ultra and I've used it...</td>\n",
       "      <td>Just got an apple watch ultra and I've used it...</td>\n",
       "    </tr>\n",
       "  </tbody>\n",
       "</table>\n",
       "<p>3499 rows × 3 columns</p>\n",
       "</div>"
      ],
      "text/plain": [
       "                                                  title  \\\n",
       "0     why is my S7 going from almost fully charged t...   \n",
       "1     How accurate is the active/total calorie track...   \n",
       "2                        Lost watch when blackout drunk   \n",
       "3     Pls tell me i‘m not the only one who has such ...   \n",
       "4     Deleted Apps in Watch App on iPhone with weird...   \n",
       "...                                                 ...   \n",
       "3494  LPT: Not sure your band is titanium? Use a mag...   \n",
       "3495  Trying to find specific watch face (pic included)   \n",
       "3496             First time testing clockology, fun app   \n",
       "3497                             Sleep paralysis and AW   \n",
       "3498  What does the illuminated dot to the left of t...   \n",
       "\n",
       "                                               selftext  \\\n",
       "0     \\nyes, it's an LTE watch with data turned on, ...   \n",
       "1                                                         \n",
       "2     Fell very hard blackout drunk and lost watch. ...   \n",
       "3                                                         \n",
       "4                                                         \n",
       "...                                                 ...   \n",
       "3494  Stainless steel is magnetic, titanium is not. ...   \n",
       "3495  Feel like this is a really dumb question but f...   \n",
       "3496                                                      \n",
       "3497                                                      \n",
       "3498  Just got an apple watch ultra and I've used it...   \n",
       "\n",
       "                                            description  \n",
       "0     \\nyes, it's an LTE watch with data turned on, ...  \n",
       "1     How accurate is the active/total calorie track...  \n",
       "2     Fell very hard blackout drunk and lost watch. ...  \n",
       "3     Pls tell me i‘m not the only one who has such ...  \n",
       "4     Deleted Apps in Watch App on iPhone with weird...  \n",
       "...                                                 ...  \n",
       "3494  Stainless steel is magnetic, titanium is not. ...  \n",
       "3495  Feel like this is a really dumb question but f...  \n",
       "3496             First time testing clockology, fun app  \n",
       "3497                             Sleep paralysis and AW  \n",
       "3498  Just got an apple watch ultra and I've used it...  \n",
       "\n",
       "[3499 rows x 3 columns]"
      ]
     },
     "execution_count": 37,
     "metadata": {},
     "output_type": "execute_result"
    }
   ],
   "source": [
    "# cite for using map str: https://sparkbyexamples.com/pandas/pandas-combine-two-columns-of-text-in-dataframe/#:~:text=Combine%20Two%20Columns%20Using%20%2B%20Operator,does%20addition%20instead%20of%20concatenation.\n",
    "# Fill missing values () in selftext with space\n",
    "df_apple[\"selftext\"] = df_apple[\"selftext\"].fillna(\"\")\n",
    "df_apple[\"description\"] = df_apple[\"selftext\"].map(str) + df_apple[\"title\"]\n",
    "\n",
    "# check the description column\n",
    "df_apple.loc[:,[\"title\", \"selftext\", \"description\"]]"
   ]
  },
  {
   "cell_type": "code",
   "execution_count": 38,
   "id": "01af000f",
   "metadata": {},
   "outputs": [
    {
     "data": {
      "text/html": [
       "<div>\n",
       "<style scoped>\n",
       "    .dataframe tbody tr th:only-of-type {\n",
       "        vertical-align: middle;\n",
       "    }\n",
       "\n",
       "    .dataframe tbody tr th {\n",
       "        vertical-align: top;\n",
       "    }\n",
       "\n",
       "    .dataframe thead th {\n",
       "        text-align: right;\n",
       "    }\n",
       "</style>\n",
       "<table border=\"1\" class=\"dataframe\">\n",
       "  <thead>\n",
       "    <tr style=\"text-align: right;\">\n",
       "      <th></th>\n",
       "      <th>author</th>\n",
       "      <th>description</th>\n",
       "      <th>subreddit</th>\n",
       "    </tr>\n",
       "  </thead>\n",
       "  <tbody>\n",
       "    <tr>\n",
       "      <th>0</th>\n",
       "      <td>TuaAnon</td>\n",
       "      <td>\\nyes, it's an LTE watch with data turned on, ...</td>\n",
       "      <td>AppleWatch</td>\n",
       "    </tr>\n",
       "    <tr>\n",
       "      <th>1</th>\n",
       "      <td>DemandScary1934</td>\n",
       "      <td>How accurate is the active/total calorie track...</td>\n",
       "      <td>AppleWatch</td>\n",
       "    </tr>\n",
       "    <tr>\n",
       "      <th>2</th>\n",
       "      <td>Vinumite</td>\n",
       "      <td>Fell very hard blackout drunk and lost watch. ...</td>\n",
       "      <td>AppleWatch</td>\n",
       "    </tr>\n",
       "    <tr>\n",
       "      <th>3</th>\n",
       "      <td>Damarou</td>\n",
       "      <td>Pls tell me i‘m not the only one who has such ...</td>\n",
       "      <td>AppleWatch</td>\n",
       "    </tr>\n",
       "    <tr>\n",
       "      <th>4</th>\n",
       "      <td>ThorNike13</td>\n",
       "      <td>Deleted Apps in Watch App on iPhone with weird...</td>\n",
       "      <td>AppleWatch</td>\n",
       "    </tr>\n",
       "  </tbody>\n",
       "</table>\n",
       "</div>"
      ],
      "text/plain": [
       "            author                                        description  \\\n",
       "0          TuaAnon  \\nyes, it's an LTE watch with data turned on, ...   \n",
       "1  DemandScary1934  How accurate is the active/total calorie track...   \n",
       "2         Vinumite  Fell very hard blackout drunk and lost watch. ...   \n",
       "3          Damarou  Pls tell me i‘m not the only one who has such ...   \n",
       "4       ThorNike13  Deleted Apps in Watch App on iPhone with weird...   \n",
       "\n",
       "    subreddit  \n",
       "0  AppleWatch  \n",
       "1  AppleWatch  \n",
       "2  AppleWatch  \n",
       "3  AppleWatch  \n",
       "4  AppleWatch  "
      ]
     },
     "execution_count": 38,
     "metadata": {},
     "output_type": "execute_result"
    }
   ],
   "source": [
    "# make a new dataframe for EDA\n",
    "df_applewatch = df_apple.loc[:,[\"author\", \"description\", \"subreddit\"]]\n",
    "df_applewatch.head()"
   ]
  },
  {
   "cell_type": "code",
   "execution_count": 39,
   "id": "abc70321",
   "metadata": {},
   "outputs": [
    {
     "data": {
      "text/plain": [
       "author         0\n",
       "description    0\n",
       "subreddit      0\n",
       "dtype: int64"
      ]
     },
     "execution_count": 39,
     "metadata": {},
     "output_type": "execute_result"
    }
   ],
   "source": [
    "# check the missong values in new dataframe\n",
    "df_applewatch.isna().sum()"
   ]
  },
  {
   "cell_type": "code",
   "execution_count": 42,
   "id": "6c9dbe6c",
   "metadata": {},
   "outputs": [],
   "source": [
    "# look for uncertain text\n",
    "#df_galaxywatch.loc[df_galaxywatch['description'].str.contains('remove'),:].head()\n",
    "#df_applewatch.loc[df_applewatch['description'].str.contains('remove'),:].head()\n",
    "\n",
    "# remove uncertain text\n",
    "#df_applewatch['description']=df_applewatch['description'].str.replace('[removed]', '')"
   ]
  },
  {
   "cell_type": "code",
   "execution_count": 142,
   "id": "33bd625f",
   "metadata": {},
   "outputs": [],
   "source": [
    "# export and save a new dataframe\n",
    "# df_applewatch.to_csv('../data/apple_watch.csv')"
   ]
  },
  {
   "cell_type": "markdown",
   "id": "689c6763",
   "metadata": {},
   "source": [
    "## EDA (Exploratory Data Analysis)\n",
    "\n",
    "Here I'll do some EDA on my both dataframes to find any relationship between varibales, find high value information for presenting and also make new columns to see if I could use them for analysis"
   ]
  },
  {
   "cell_type": "markdown",
   "id": "7c3e0513",
   "metadata": {},
   "source": [
    "### Samsung Galaxy Watch"
   ]
  },
  {
   "cell_type": "markdown",
   "id": "e2624178",
   "metadata": {},
   "source": [
    "In the following I'll do some EDA on galaxy watch data frame"
   ]
  },
  {
   "cell_type": "markdown",
   "id": "6420fdcd",
   "metadata": {},
   "source": [
    "### Apple Watch"
   ]
  },
  {
   "cell_type": "markdown",
   "id": "18acdeff",
   "metadata": {},
   "source": [
    "Making columns that countain the number of words in title and description"
   ]
  },
  {
   "cell_type": "code",
   "execution_count": 175,
   "id": "79d2078f",
   "metadata": {},
   "outputs": [],
   "source": [
    "# drop column\n",
    "df_appwatch = df_applewatch.drop(columns=['subreddit'], axis=1)"
   ]
  },
  {
   "cell_type": "code",
   "execution_count": 176,
   "id": "58bba9a3",
   "metadata": {},
   "outputs": [
    {
     "data": {
      "text/plain": [
       "author          object\n",
       "description     object\n",
       "num_comments     int64\n",
       "dtype: object"
      ]
     },
     "execution_count": 176,
     "metadata": {},
     "output_type": "execute_result"
    }
   ],
   "source": [
    "df_appwatch.dtypes"
   ]
  },
  {
   "cell_type": "code",
   "execution_count": 177,
   "id": "f81b236e",
   "metadata": {},
   "outputs": [],
   "source": [
    "# make a new column to show word count of description\n",
    "df_appwatch['des_word_count'] = df_appwatch['description'].str.split().str.len()"
   ]
  },
  {
   "cell_type": "code",
   "execution_count": 178,
   "id": "4401c49a",
   "metadata": {},
   "outputs": [
    {
     "data": {
      "text/html": [
       "<div>\n",
       "<style scoped>\n",
       "    .dataframe tbody tr th:only-of-type {\n",
       "        vertical-align: middle;\n",
       "    }\n",
       "\n",
       "    .dataframe tbody tr th {\n",
       "        vertical-align: top;\n",
       "    }\n",
       "\n",
       "    .dataframe thead th {\n",
       "        text-align: right;\n",
       "    }\n",
       "</style>\n",
       "<table border=\"1\" class=\"dataframe\">\n",
       "  <thead>\n",
       "    <tr style=\"text-align: right;\">\n",
       "      <th></th>\n",
       "      <th>author</th>\n",
       "      <th>description</th>\n",
       "      <th>num_comments</th>\n",
       "      <th>des_word_count</th>\n",
       "    </tr>\n",
       "  </thead>\n",
       "  <tbody>\n",
       "    <tr>\n",
       "      <th>1755</th>\n",
       "      <td>urcrain</td>\n",
       "      <td>There’s no doubting that the Apple Watch has p...</td>\n",
       "      <td>0</td>\n",
       "      <td>825</td>\n",
       "    </tr>\n",
       "    <tr>\n",
       "      <th>781</th>\n",
       "      <td>thetuko</td>\n",
       "      <td>Apple announced international roaming would be...</td>\n",
       "      <td>0</td>\n",
       "      <td>747</td>\n",
       "    </tr>\n",
       "    <tr>\n",
       "      <th>1500</th>\n",
       "      <td>sullf</td>\n",
       "      <td>Hi, Apple Watch community,   \\nMy name is Fred...</td>\n",
       "      <td>0</td>\n",
       "      <td>575</td>\n",
       "    </tr>\n",
       "    <tr>\n",
       "      <th>330</th>\n",
       "      <td>quinnbryant</td>\n",
       "      <td>Right, so for the past week I have experienced...</td>\n",
       "      <td>0</td>\n",
       "      <td>545</td>\n",
       "    </tr>\n",
       "    <tr>\n",
       "      <th>1934</th>\n",
       "      <td>realwoodbox</td>\n",
       "      <td>I got the Apple watch to help with my heath.  ...</td>\n",
       "      <td>0</td>\n",
       "      <td>472</td>\n",
       "    </tr>\n",
       "  </tbody>\n",
       "</table>\n",
       "</div>"
      ],
      "text/plain": [
       "           author                                        description  \\\n",
       "1755      urcrain  There’s no doubting that the Apple Watch has p...   \n",
       "781       thetuko  Apple announced international roaming would be...   \n",
       "1500        sullf  Hi, Apple Watch community,   \\nMy name is Fred...   \n",
       "330   quinnbryant  Right, so for the past week I have experienced...   \n",
       "1934  realwoodbox  I got the Apple watch to help with my heath.  ...   \n",
       "\n",
       "      num_comments  des_word_count  \n",
       "1755             0             825  \n",
       "781              0             747  \n",
       "1500             0             575  \n",
       "330              0             545  \n",
       "1934             0             472  "
      ]
     },
     "execution_count": 178,
     "metadata": {},
     "output_type": "execute_result"
    }
   ],
   "source": [
    "# five longest description\n",
    "df_appwatch.sort_values(by = 'des_word_count', ascending=False).head()"
   ]
  },
  {
   "cell_type": "code",
   "execution_count": 179,
   "id": "2d000863",
   "metadata": {},
   "outputs": [
    {
     "data": {
      "text/html": [
       "<div>\n",
       "<style scoped>\n",
       "    .dataframe tbody tr th:only-of-type {\n",
       "        vertical-align: middle;\n",
       "    }\n",
       "\n",
       "    .dataframe tbody tr th {\n",
       "        vertical-align: top;\n",
       "    }\n",
       "\n",
       "    .dataframe thead th {\n",
       "        text-align: right;\n",
       "    }\n",
       "</style>\n",
       "<table border=\"1\" class=\"dataframe\">\n",
       "  <thead>\n",
       "    <tr style=\"text-align: right;\">\n",
       "      <th></th>\n",
       "      <th>author</th>\n",
       "      <th>description</th>\n",
       "      <th>num_comments</th>\n",
       "      <th>des_word_count</th>\n",
       "    </tr>\n",
       "  </thead>\n",
       "  <tbody>\n",
       "    <tr>\n",
       "      <th>1827</th>\n",
       "      <td>Single_Ad_843</td>\n",
       "      <td>Busy day</td>\n",
       "      <td>0</td>\n",
       "      <td>2</td>\n",
       "    </tr>\n",
       "    <tr>\n",
       "      <th>1980</th>\n",
       "      <td>karmante</td>\n",
       "      <td>🥱</td>\n",
       "      <td>0</td>\n",
       "      <td>1</td>\n",
       "    </tr>\n",
       "    <tr>\n",
       "      <th>1852</th>\n",
       "      <td>rr210600</td>\n",
       "      <td>duality</td>\n",
       "      <td>0</td>\n",
       "      <td>1</td>\n",
       "    </tr>\n",
       "    <tr>\n",
       "      <th>875</th>\n",
       "      <td>fh5h</td>\n",
       "      <td>Weird</td>\n",
       "      <td>0</td>\n",
       "      <td>1</td>\n",
       "    </tr>\n",
       "    <tr>\n",
       "      <th>1611</th>\n",
       "      <td>Alternative_Type2555</td>\n",
       "      <td>Lina</td>\n",
       "      <td>0</td>\n",
       "      <td>1</td>\n",
       "    </tr>\n",
       "  </tbody>\n",
       "</table>\n",
       "</div>"
      ],
      "text/plain": [
       "                    author description  num_comments  des_word_count\n",
       "1827         Single_Ad_843    Busy day             0               2\n",
       "1980              karmante           🥱             0               1\n",
       "1852              rr210600     duality             0               1\n",
       "875                   fh5h       Weird             0               1\n",
       "1611  Alternative_Type2555        Lina             0               1"
      ]
     },
     "execution_count": 179,
     "metadata": {},
     "output_type": "execute_result"
    }
   ],
   "source": [
    "# five shortest description\n",
    "df_appwatch.sort_values(by = 'des_word_count', ascending=False).tail()"
   ]
  },
  {
   "cell_type": "code",
   "execution_count": 187,
   "id": "c06a55e5",
   "metadata": {},
   "outputs": [
    {
     "data": {
      "image/png": "[encoded data removed]",
      "text/plain": [
       "<Figure size 1000x800 with 1 Axes>"
      ]
     },
     "metadata": {},
     "output_type": "display_data"
    }
   ],
   "source": [
    "# distribution of description length based on word count\n",
    "#Define size of bar plot\n",
    "plt.figure(figsize=(10,8))\n",
    "plt.hist(df_appwatch['des_word_count'], bins = 100, color = 'mediumpurple', edgecolor = 'black')\n",
    "plt.title('Distribution of length of Description in AppleWatch Subreddit', fontsize=15)\n",
    "plt.xlabel('Description Word Count', fontsize=12)\n",
    "plt.ylabel('Number of Frequency', fontsize=12);"
   ]
  },
  {
   "cell_type": "code",
   "execution_count": 181,
   "id": "561f22b1",
   "metadata": {},
   "outputs": [
    {
     "data": {
      "text/html": [
       "<div>\n",
       "<style scoped>\n",
       "    .dataframe tbody tr th:only-of-type {\n",
       "        vertical-align: middle;\n",
       "    }\n",
       "\n",
       "    .dataframe tbody tr th {\n",
       "        vertical-align: top;\n",
       "    }\n",
       "\n",
       "    .dataframe thead th {\n",
       "        text-align: right;\n",
       "    }\n",
       "</style>\n",
       "<table border=\"1\" class=\"dataframe\">\n",
       "  <thead>\n",
       "    <tr style=\"text-align: right;\">\n",
       "      <th></th>\n",
       "      <th>author</th>\n",
       "      <th>description</th>\n",
       "      <th>num_comments</th>\n",
       "      <th>des_word_count</th>\n",
       "    </tr>\n",
       "  </thead>\n",
       "  <tbody>\n",
       "    <tr>\n",
       "      <th>166</th>\n",
       "      <td>monkeyofthefunk</td>\n",
       "      <td>I’ve always wanted a Pro or Pro Max Product Re...</td>\n",
       "      <td>28</td>\n",
       "      <td>78</td>\n",
       "    </tr>\n",
       "    <tr>\n",
       "      <th>185</th>\n",
       "      <td>lpug21</td>\n",
       "      <td>Hey all!\\n\\nMy partner and I recently picked u...</td>\n",
       "      <td>24</td>\n",
       "      <td>221</td>\n",
       "    </tr>\n",
       "    <tr>\n",
       "      <th>183</th>\n",
       "      <td>tommza_88</td>\n",
       "      <td>Hi friends, just got my new iPhone 14 and tran...</td>\n",
       "      <td>18</td>\n",
       "      <td>38</td>\n",
       "    </tr>\n",
       "    <tr>\n",
       "      <th>194</th>\n",
       "      <td>acodysseygirl72</td>\n",
       "      <td>Does anyone recognize this watch face? I know ...</td>\n",
       "      <td>12</td>\n",
       "      <td>19</td>\n",
       "    </tr>\n",
       "    <tr>\n",
       "      <th>176</th>\n",
       "      <td>dudeneedshelp874</td>\n",
       "      <td>Black and volt..</td>\n",
       "      <td>10</td>\n",
       "      <td>3</td>\n",
       "    </tr>\n",
       "  </tbody>\n",
       "</table>\n",
       "</div>"
      ],
      "text/plain": [
       "               author                                        description  \\\n",
       "166   monkeyofthefunk  I’ve always wanted a Pro or Pro Max Product Re...   \n",
       "185            lpug21  Hey all!\\n\\nMy partner and I recently picked u...   \n",
       "183         tommza_88  Hi friends, just got my new iPhone 14 and tran...   \n",
       "194   acodysseygirl72  Does anyone recognize this watch face? I know ...   \n",
       "176  dudeneedshelp874                                   Black and volt..   \n",
       "\n",
       "     num_comments  des_word_count  \n",
       "166            28              78  \n",
       "185            24             221  \n",
       "183            18              38  \n",
       "194            12              19  \n",
       "176            10               3  "
      ]
     },
     "execution_count": 181,
     "metadata": {},
     "output_type": "execute_result"
    }
   ],
   "source": [
    "# descriptions with highest comments\n",
    "df_appwatch.sort_values(by = 'num_comments', ascending=False).head()"
   ]
  },
  {
   "cell_type": "code",
   "execution_count": 197,
   "id": "83af182b",
   "metadata": {},
   "outputs": [
    {
     "data": {
      "image/png": "[encoded data removed]",
      "text/plain": [
       "<Figure size 1000x800 with 1 Axes>"
      ]
     },
     "metadata": {},
     "output_type": "display_data"
    }
   ],
   "source": [
    "# distribution of number of comments\n",
    "# Define size of bar plot\n",
    "plt.figure(figsize=(10,8))\n",
    "plt.hist(df_appwatch['num_comments'], bins = 10, color = 'mediumpurple', edgecolor = 'black')\n",
    "plt.title('Distribution of Number of Comments in Posts of AppleWatch Subreddit', fontsize=14)\n",
    "plt.xlabel('Number of Comments', fontsize=12)\n",
    "plt.ylabel('Number of Frequency', fontsize=12);"
   ]
  },
  {
   "cell_type": "code",
   "execution_count": 234,
   "id": "b36c3ed7",
   "metadata": {},
   "outputs": [
    {
     "data": {
      "image/png": "[encoded data removed]",
      "text/plain": [
       "<Figure size 640x480 with 1 Axes>"
      ]
     },
     "metadata": {},
     "output_type": "display_data"
    }
   ],
   "source": [
    "# relationship with lenght of description and number of comments\n",
    "plt.scatter(df_appwatch['des_word_count'], df_appwatch['num_comments']);"
   ]
  },
  {
   "cell_type": "code",
   "execution_count": 235,
   "id": "0fc43df9",
   "metadata": {},
   "outputs": [
    {
     "data": {
      "text/plain": [
       "1629"
      ]
     },
     "execution_count": 235,
     "metadata": {},
     "output_type": "execute_result"
    }
   ],
   "source": [
    "# number of unique authors\n",
    "df_appwatch['author'].nunique()"
   ]
  },
  {
   "cell_type": "code",
   "execution_count": 236,
   "id": "a9725188",
   "metadata": {},
   "outputs": [
    {
     "data": {
      "text/html": [
       "<div>\n",
       "<style scoped>\n",
       "    .dataframe tbody tr th:only-of-type {\n",
       "        vertical-align: middle;\n",
       "    }\n",
       "\n",
       "    .dataframe tbody tr th {\n",
       "        vertical-align: top;\n",
       "    }\n",
       "\n",
       "    .dataframe thead th {\n",
       "        text-align: right;\n",
       "    }\n",
       "</style>\n",
       "<table border=\"1\" class=\"dataframe\">\n",
       "  <thead>\n",
       "    <tr style=\"text-align: right;\">\n",
       "      <th></th>\n",
       "      <th>count</th>\n",
       "    </tr>\n",
       "    <tr>\n",
       "      <th>author</th>\n",
       "      <th></th>\n",
       "    </tr>\n",
       "  </thead>\n",
       "  <tbody>\n",
       "    <tr>\n",
       "      <th>Chasepaw21</th>\n",
       "      <td>20</td>\n",
       "    </tr>\n",
       "    <tr>\n",
       "      <th>minif56mike</th>\n",
       "      <td>10</td>\n",
       "    </tr>\n",
       "    <tr>\n",
       "      <th>AXXXXXXXXA</th>\n",
       "      <td>9</td>\n",
       "    </tr>\n",
       "    <tr>\n",
       "      <th>arjentic</th>\n",
       "      <td>8</td>\n",
       "    </tr>\n",
       "    <tr>\n",
       "      <th>PatTheDog123</th>\n",
       "      <td>8</td>\n",
       "    </tr>\n",
       "    <tr>\n",
       "      <th>...</th>\n",
       "      <td>...</td>\n",
       "    </tr>\n",
       "    <tr>\n",
       "      <th>Novemberx123</th>\n",
       "      <td>1</td>\n",
       "    </tr>\n",
       "    <tr>\n",
       "      <th>Novel-Highlight-3539</th>\n",
       "      <td>1</td>\n",
       "    </tr>\n",
       "    <tr>\n",
       "      <th>Not_Solid_System</th>\n",
       "      <td>1</td>\n",
       "    </tr>\n",
       "    <tr>\n",
       "      <th>NotYourFathersEdits</th>\n",
       "      <td>1</td>\n",
       "    </tr>\n",
       "    <tr>\n",
       "      <th>TrekkieSolar</th>\n",
       "      <td>1</td>\n",
       "    </tr>\n",
       "  </tbody>\n",
       "</table>\n",
       "<p>1629 rows × 1 columns</p>\n",
       "</div>"
      ],
      "text/plain": [
       "                      count\n",
       "author                     \n",
       "Chasepaw21               20\n",
       "minif56mike              10\n",
       "AXXXXXXXXA                9\n",
       "arjentic                  8\n",
       "PatTheDog123              8\n",
       "...                     ...\n",
       "Novemberx123              1\n",
       "Novel-Highlight-3539      1\n",
       "Not_Solid_System          1\n",
       "NotYourFathersEdits       1\n",
       "TrekkieSolar              1\n",
       "\n",
       "[1629 rows x 1 columns]"
      ]
     },
     "execution_count": 236,
     "metadata": {},
     "output_type": "execute_result"
    }
   ],
   "source": [
    "# filtering description and counting them by their authors\n",
    "df_appwatch.groupby('author')['description'].agg(['count']).sort_values('count', ascending = False)"
   ]
  },
  {
   "cell_type": "code",
   "execution_count": 237,
   "id": "a8ebb5b1",
   "metadata": {},
   "outputs": [
    {
     "data": {
      "text/html": [
       "<div>\n",
       "<style scoped>\n",
       "    .dataframe tbody tr th:only-of-type {\n",
       "        vertical-align: middle;\n",
       "    }\n",
       "\n",
       "    .dataframe tbody tr th {\n",
       "        vertical-align: top;\n",
       "    }\n",
       "\n",
       "    .dataframe thead th {\n",
       "        text-align: right;\n",
       "    }\n",
       "</style>\n",
       "<table border=\"1\" class=\"dataframe\">\n",
       "  <thead>\n",
       "    <tr style=\"text-align: right;\">\n",
       "      <th></th>\n",
       "      <th>author</th>\n",
       "      <th>description</th>\n",
       "      <th>num_comments</th>\n",
       "      <th>des_word_count</th>\n",
       "    </tr>\n",
       "  </thead>\n",
       "  <tbody>\n",
       "    <tr>\n",
       "      <th>803</th>\n",
       "      <td>Chasepaw21</td>\n",
       "      <td>Are some sport bands stiffer than other colors...</td>\n",
       "      <td>0</td>\n",
       "      <td>17</td>\n",
       "    </tr>\n",
       "    <tr>\n",
       "      <th>804</th>\n",
       "      <td>Chasepaw21</td>\n",
       "      <td>\\n\\n[View Poll](https://www.reddit.com/poll/11...</td>\n",
       "      <td>0</td>\n",
       "      <td>5</td>\n",
       "    </tr>\n",
       "    <tr>\n",
       "      <th>808</th>\n",
       "      <td>Chasepaw21</td>\n",
       "      <td>Me left\\n\\n[View Poll](https://www.reddit.com/...</td>\n",
       "      <td>0</td>\n",
       "      <td>15</td>\n",
       "    </tr>\n",
       "    <tr>\n",
       "      <th>895</th>\n",
       "      <td>Chasepaw21</td>\n",
       "      <td>Which sport band should I pick for my 41mm spa...</td>\n",
       "      <td>0</td>\n",
       "      <td>27</td>\n",
       "    </tr>\n",
       "    <tr>\n",
       "      <th>923</th>\n",
       "      <td>Chasepaw21</td>\n",
       "      <td>I am wondering how long will the sport band la...</td>\n",
       "      <td>0</td>\n",
       "      <td>21</td>\n",
       "    </tr>\n",
       "    <tr>\n",
       "      <th>925</th>\n",
       "      <td>Chasepaw21</td>\n",
       "      <td>At what date will Apple release the Fall bands?</td>\n",
       "      <td>0</td>\n",
       "      <td>9</td>\n",
       "    </tr>\n",
       "    <tr>\n",
       "      <th>953</th>\n",
       "      <td>Chasepaw21</td>\n",
       "      <td>What colors do you think will Apple release fo...</td>\n",
       "      <td>0</td>\n",
       "      <td>25</td>\n",
       "    </tr>\n",
       "    <tr>\n",
       "      <th>962</th>\n",
       "      <td>Chasepaw21</td>\n",
       "      <td>Suggestion for an AW full body protector?</td>\n",
       "      <td>0</td>\n",
       "      <td>7</td>\n",
       "    </tr>\n",
       "    <tr>\n",
       "      <th>963</th>\n",
       "      <td>Chasepaw21</td>\n",
       "      <td>Does Apple still sell the Spring band in the S...</td>\n",
       "      <td>0</td>\n",
       "      <td>10</td>\n",
       "    </tr>\n",
       "    <tr>\n",
       "      <th>1001</th>\n",
       "      <td>Chasepaw21</td>\n",
       "      <td>\\n\\n[View Poll](https://www.reddit.com/poll/11...</td>\n",
       "      <td>0</td>\n",
       "      <td>7</td>\n",
       "    </tr>\n",
       "    <tr>\n",
       "      <th>1029</th>\n",
       "      <td>Chasepaw21</td>\n",
       "      <td>\\n\\n[View Poll](https://www.reddit.com/poll/11...</td>\n",
       "      <td>0</td>\n",
       "      <td>8</td>\n",
       "    </tr>\n",
       "    <tr>\n",
       "      <th>1032</th>\n",
       "      <td>Chasepaw21</td>\n",
       "      <td>Why doesn’t Apple sell new modern buckle on Am...</td>\n",
       "      <td>0</td>\n",
       "      <td>15</td>\n",
       "    </tr>\n",
       "    <tr>\n",
       "      <th>1053</th>\n",
       "      <td>Chasepaw21</td>\n",
       "      <td>Why does new Apple Watch Sport band only comes...</td>\n",
       "      <td>0</td>\n",
       "      <td>60</td>\n",
       "    </tr>\n",
       "    <tr>\n",
       "      <th>1061</th>\n",
       "      <td>Chasepaw21</td>\n",
       "      <td>I use the sport band the most\\n\\n[View Poll](h...</td>\n",
       "      <td>0</td>\n",
       "      <td>17</td>\n",
       "    </tr>\n",
       "    <tr>\n",
       "      <th>1147</th>\n",
       "      <td>Chasepaw21</td>\n",
       "      <td>I sleep better with my AW. How about you?\\n\\n[...</td>\n",
       "      <td>0</td>\n",
       "      <td>18</td>\n",
       "    </tr>\n",
       "    <tr>\n",
       "      <th>1179</th>\n",
       "      <td>Chasepaw21</td>\n",
       "      <td>Which color of the leather link has the strong...</td>\n",
       "      <td>0</td>\n",
       "      <td>10</td>\n",
       "    </tr>\n",
       "    <tr>\n",
       "      <th>1243</th>\n",
       "      <td>Chasepaw21</td>\n",
       "      <td>A while ago, i don't have an iphone. it was pa...</td>\n",
       "      <td>0</td>\n",
       "      <td>92</td>\n",
       "    </tr>\n",
       "    <tr>\n",
       "      <th>1330</th>\n",
       "      <td>Chasepaw21</td>\n",
       "      <td>I tried bicycling on my backyard for a while, ...</td>\n",
       "      <td>0</td>\n",
       "      <td>35</td>\n",
       "    </tr>\n",
       "    <tr>\n",
       "      <th>1378</th>\n",
       "      <td>Chasepaw21</td>\n",
       "      <td>Will black and ink leather loop bands fade?</td>\n",
       "      <td>0</td>\n",
       "      <td>8</td>\n",
       "    </tr>\n",
       "    <tr>\n",
       "      <th>1697</th>\n",
       "      <td>Chasepaw21</td>\n",
       "      <td>What date will spring 2023 AW band come?</td>\n",
       "      <td>0</td>\n",
       "      <td>8</td>\n",
       "    </tr>\n",
       "  </tbody>\n",
       "</table>\n",
       "</div>"
      ],
      "text/plain": [
       "          author                                        description  \\\n",
       "803   Chasepaw21  Are some sport bands stiffer than other colors...   \n",
       "804   Chasepaw21  \\n\\n[View Poll](https://www.reddit.com/poll/11...   \n",
       "808   Chasepaw21  Me left\\n\\n[View Poll](https://www.reddit.com/...   \n",
       "895   Chasepaw21  Which sport band should I pick for my 41mm spa...   \n",
       "923   Chasepaw21  I am wondering how long will the sport band la...   \n",
       "925   Chasepaw21    At what date will Apple release the Fall bands?   \n",
       "953   Chasepaw21  What colors do you think will Apple release fo...   \n",
       "962   Chasepaw21          Suggestion for an AW full body protector?   \n",
       "963   Chasepaw21  Does Apple still sell the Spring band in the S...   \n",
       "1001  Chasepaw21  \\n\\n[View Poll](https://www.reddit.com/poll/11...   \n",
       "1029  Chasepaw21  \\n\\n[View Poll](https://www.reddit.com/poll/11...   \n",
       "1032  Chasepaw21  Why doesn’t Apple sell new modern buckle on Am...   \n",
       "1053  Chasepaw21  Why does new Apple Watch Sport band only comes...   \n",
       "1061  Chasepaw21  I use the sport band the most\\n\\n[View Poll](h...   \n",
       "1147  Chasepaw21  I sleep better with my AW. How about you?\\n\\n[...   \n",
       "1179  Chasepaw21  Which color of the leather link has the strong...   \n",
       "1243  Chasepaw21  A while ago, i don't have an iphone. it was pa...   \n",
       "1330  Chasepaw21  I tried bicycling on my backyard for a while, ...   \n",
       "1378  Chasepaw21        Will black and ink leather loop bands fade?   \n",
       "1697  Chasepaw21           What date will spring 2023 AW band come?   \n",
       "\n",
       "      num_comments  des_word_count  \n",
       "803              0              17  \n",
       "804              0               5  \n",
       "808              0              15  \n",
       "895              0              27  \n",
       "923              0              21  \n",
       "925              0               9  \n",
       "953              0              25  \n",
       "962              0               7  \n",
       "963              0              10  \n",
       "1001             0               7  \n",
       "1029             0               8  \n",
       "1032             0              15  \n",
       "1053             0              60  \n",
       "1061             0              17  \n",
       "1147             0              18  \n",
       "1179             0              10  \n",
       "1243             0              92  \n",
       "1330             0              35  \n",
       "1378             0               8  \n",
       "1697             0               8  "
      ]
     },
     "execution_count": 237,
     "metadata": {},
     "output_type": "execute_result"
    }
   ],
   "source": [
    "# filter on the author with highest number of description to see the lenghts, number of comments\n",
    "# and also his/her discriptions\n",
    "df_appwatch.loc[df_appwatch['author'] == 'Chasepaw21', :]"
   ]
  },
  {
   "cell_type": "markdown",
   "id": "0ee7e7ca",
   "metadata": {},
   "source": [
    "### could work on first author to see the kind of descriptions he made"
   ]
  },
  {
   "cell_type": "code",
   "execution_count": 238,
   "id": "dfcb3d36",
   "metadata": {},
   "outputs": [],
   "source": [
    "# instantiate CountVectorizer and ftit and transform on corpus\n",
    "X = df_appwatch['description']\n",
    "cvec = CountVectorizer(stop_words='english', ngram_range=(1,3))\n",
    "cvec.fit(X)\n",
    "X = cvec.transform(X)"
   ]
  },
  {
   "cell_type": "code",
   "execution_count": 239,
   "id": "403d535a",
   "metadata": {},
   "outputs": [
    {
     "name": "stderr",
     "output_type": "stream",
     "text": [
      "C:\\Users\\sarvin.farhad\\anaconda3\\lib\\site-packages\\sklearn\\utils\\deprecation.py:87: FutureWarning: Function get_feature_names is deprecated; get_feature_names is deprecated in 1.0 and will be removed in 1.2. Please use get_feature_names_out instead.\n",
      "  warnings.warn(msg, category=FutureWarning)\n"
     ]
    },
    {
     "data": {
      "text/plain": [
       "(1996, 89737)"
      ]
     },
     "execution_count": 239,
     "metadata": {},
     "output_type": "execute_result"
    }
   ],
   "source": [
    "# convert X to dataframe\n",
    "df_appvec = pd.DataFrame(X.todense(), columns = cvec.get_feature_names())\n",
    "df_appvec.shape"
   ]
  },
  {
   "cell_type": "code",
   "execution_count": 240,
   "id": "530ce114",
   "metadata": {},
   "outputs": [
    {
     "data": {
      "text/plain": [
       "watch          2388\n",
       "apple          1552\n",
       "apple watch    1102\n",
       "just            500\n",
       "app             486\n",
       "series          453\n",
       "like            406\n",
       "sleep           362\n",
       "ultra           360\n",
       "phone           351\n",
       "iphone          343\n",
       "ve              300\n",
       "band            300\n",
       "use             291\n",
       "time            287\n",
       "does            281\n",
       "battery         275\n",
       "new             256\n",
       "know            251\n",
       "got             234\n",
       "don             211\n",
       "way             208\n",
       "want            194\n",
       "heart           187\n",
       "day             184\n",
       "dtype: int64"
      ]
     },
     "execution_count": 240,
     "metadata": {},
     "output_type": "execute_result"
    }
   ],
   "source": [
    "# sort dataframe for most occuring words\n",
    "df_appvec.sum().sort_values(ascending=False).head(25)"
   ]
  },
  {
   "cell_type": "code",
   "execution_count": 257,
   "id": "5907cb2b",
   "metadata": {},
   "outputs": [
    {
     "data": {
      "image/png": "[encoded data removed]",
      "text/plain": [
       "<Figure size 640x480 with 1 Axes>"
      ]
     },
     "metadata": {},
     "output_type": "display_data"
    }
   ],
   "source": [
    "# plot most occured words\n",
    "# Define size of bar plot\n",
    "\n",
    "df_appvec.sum().sort_values(ascending=False).head(20).plot(kind='barh',\n",
    "                            color = 'mediumpurple', edgecolor = 'black')\n",
    "plt.title('Most words in Posts of AppleWatch Subreddit', fontsize=12)\n",
    "plt.xlabel('Number of Words', fontsize=10)\n",
    "plt.ylabel('Words', fontsize=10);"
   ]
  }
 ],
 "metadata": {
  "kernelspec": {
   "display_name": "Python 3 (ipykernel)",
   "language": "python",
   "name": "python3"
  },
  "language_info": {
   "codemirror_mode": {
    "name": "ipython",
    "version": 3
   },
   "file_extension": ".py",
   "mimetype": "text/x-python",
   "name": "python",
   "nbconvert_exporter": "python",
   "pygments_lexer": "ipython3",
   "version": "3.9.13"
  }
 },
 "nbformat": 4,
 "nbformat_minor": 5
}

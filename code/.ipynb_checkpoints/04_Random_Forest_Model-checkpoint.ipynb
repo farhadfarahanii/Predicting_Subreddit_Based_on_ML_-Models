{
 "cells": [
  {
   "cell_type": "markdown",
   "id": "a89693d1",
   "metadata": {},
   "source": [
    "## Imports"
   ]
  },
  {
   "cell_type": "code",
   "execution_count": 1,
   "id": "b6b666a7",
   "metadata": {},
   "outputs": [],
   "source": [
    "import pandas as pd\n",
    "import numpy as np\n",
    "import matplotlib.pyplot as plt\n",
    "import seaborn as sns\n",
    "import nltk\n",
    "from sklearn.tree import plot_tree\n",
    "\n",
    "from sklearn.tree import DecisionTreeClassifier\n",
    "from sklearn.ensemble import BaggingClassifier\n",
    "from sklearn.pipeline import Pipeline\n",
    "from sklearn.ensemble import RandomForestClassifier\n",
    "from sklearn.model_selection import cross_val_score, train_test_split, GridSearchCV\n",
    "from sklearn.metrics import confusion_matrix, plot_confusion_matrix, accuracy_score, recall_score, precision_score\n",
    "from sklearn.feature_extraction.text import CountVectorizer, TfidfVectorizer\n",
    "from nltk.tokenize import word_tokenize#, sent_tokenize, RegexpTokenizer, wordpunct_tokenize\n",
    "from nltk.stem import PorterStemmer\n",
    "from nltk.corpus import stopwords"
   ]
  },
  {
   "cell_type": "code",
   "execution_count": 2,
   "id": "8eb0c31e",
   "metadata": {},
   "outputs": [],
   "source": [
    "# Define dataframe path\n",
    "df_path = \"../data/final_dataset.csv\""
   ]
  },
  {
   "cell_type": "code",
   "execution_count": 3,
   "id": "ba2d8673",
   "metadata": {},
   "outputs": [
    {
     "name": "stdout",
     "output_type": "stream",
     "text": [
      "Sample Data :            author                                        description  \\\n",
      "0          TuaAnon  yes, it's an lte watch with data turned on, no...   \n",
      "1  DemandScary1934  how accurate is the active/total calorie track...   \n",
      "2         Vinumite  fell very hard blackout drunk and lost watch. ...   \n",
      "3          Damarou  pls tell me i‘m not the only one who has such ...   \n",
      "4       ThorNike13  deleted apps in watch app on iphone with weird...   \n",
      "\n",
      "    subreddit  des_word_count  \n",
      "0  AppleWatch              48  \n",
      "1  AppleWatch              10  \n",
      "2  AppleWatch              59  \n",
      "3  AppleWatch              15  \n",
      "4  AppleWatch              15  \n",
      "\n",
      "--------------------------\n",
      "\n",
      " Columns : ['author', 'description', 'subreddit', 'des_word_count']\n",
      "\n",
      "--------------------------\n",
      "\n",
      " Size of the dataset : 5270\n",
      "\n",
      "--------------------------\n",
      "\n",
      " Total number of columns : 4\n"
     ]
    }
   ],
   "source": [
    "# load data\n",
    "df = pd.read_csv(df_path).drop(columns=\"Unnamed: 0\")\n",
    "\n",
    "# Get some basic information \n",
    "print(f\"Sample Data :{df.head()}\")\n",
    "print(f\"\\n--------------------------\\n\\n Columns : {[i for i in df.columns]}\")\n",
    "print(f\"\\n--------------------------\\n\\n Size of the dataset : {df.shape[0]}\")\n",
    "print(f\"\\n--------------------------\\n\\n Total number of columns : {df.shape[1]}\")"
   ]
  },
  {
   "cell_type": "code",
   "execution_count": 4,
   "id": "101e8af8",
   "metadata": {},
   "outputs": [],
   "source": [
    "# Drop unusefull columns\n",
    "df.drop(columns =[\"author\", \"des_word_count\"], inplace=True)"
   ]
  },
  {
   "cell_type": "code",
   "execution_count": 5,
   "id": "1f3fc1b6",
   "metadata": {},
   "outputs": [],
   "source": [
    "# Create label column (target column)\n",
    "df[\"subreddit\"] = df[\"subreddit\"].map({\"GalaxyWatch\": 1, \"AppleWatch\":0})"
   ]
  },
  {
   "cell_type": "markdown",
   "id": "fbabf0e9",
   "metadata": {},
   "source": [
    "## Functions"
   ]
  },
  {
   "cell_type": "code",
   "execution_count": 6,
   "id": "776576f3",
   "metadata": {},
   "outputs": [],
   "source": [
    "# cite: Got help form Katie Sylvia\n",
    "# a function for stemming\n",
    "def stem_words(text):\n",
    "    # Initialize the Porter stemmer\n",
    "    stemmer = PorterStemmer()\n",
    "    \n",
    "    # Tokenize the text into individual words\n",
    "    words = nltk.word_tokenize(text)\n",
    "    \n",
    "    # Stem each word and join them back into a string\n",
    "    stemmed_words = [stemmer.stem(word) for word in words]\n",
    "    stemmed_text = ' '.join(stemmed_words)\n",
    "    \n",
    "    return stemmed_text"
   ]
  },
  {
   "cell_type": "code",
   "execution_count": 42,
   "id": "9e2b68f5",
   "metadata": {},
   "outputs": [],
   "source": [
    "# Grid search over with pipeline estimator\n",
    "def gridsearching(estimator, param_grid, model_name, transformer_name):\n",
    "    \n",
    "    print(f\" Summary of {model_name} Model with {transformer_name} Transformer Evaluation \".center(115, \"=\"))\n",
    "    \n",
    "    # Instantiate a GridSearch model\n",
    "    gs = GridSearchCV(estimator=estimator, param_grid=param_grid, cv=5, n_jobs=5)\n",
    "\n",
    "    # Fit the model to traning data\n",
    "    gs.fit(X_train, y_train)\n",
    "\n",
    "    # Get to know wich params were the best ones\n",
    "    print(\" The Best Params \".center(34, \"=\"))\n",
    "    print(gs.best_params_)\n",
    "    print()\n",
    "\n",
    "    # Get to know the best score\n",
    "    print(\" The Best Score \".center(34, \"=\"))\n",
    "    print(gs.best_score_)\n",
    "    print()\n",
    "\n",
    "    # Train data score\n",
    "    print(\" Train Score \".center(34, \"=\"))\n",
    "    print(gs.score(X_train, y_train))\n",
    "    print()\n",
    "\n",
    "    # Test data score\n",
    "    print(\" Test Score \".center(34, \"=\"))\n",
    "    print(gs.score(X_test, y_test))\n",
    "    \n",
    "    # Get predictions\n",
    "    preds = gs.predict(X_test)\n",
    "\n",
    "    # Confusion matrix values\n",
    "    tn, fp, fn, tp = confusion_matrix(y_test, preds).ravel()\n",
    "\n",
    "    # Confusion matrix\n",
    "    plot_confusion_matrix(gs, X_test, y_test, cmap=\"Purples\", values_format=\"d\")    # cmap=\"Blues\"\n",
    "\n",
    "    plt.title(f\"The Confusion Matrix of {model_name} with {transformer_name}\");\n",
    "\n",
    "    # Evaluate a model\n",
    "    print(f\" Evaluation Metrics \".center(34, \"=\"))\n",
    "    print(f\"Accuracy  ---------- {accuracy_score(y_test, preds)}\")\n",
    "    print(f\"Precision  --------- {precision_score(y_test, preds)}\")\n",
    "    print(f\"Sensitivity  ------- {recall_score(y_test, preds)}\")\n",
    "    print(f\"Specifity  --------- {tn/(tn + fp)}\")"
   ]
  },
  {
   "cell_type": "code",
   "execution_count": 38,
   "id": "f020025e",
   "metadata": {},
   "outputs": [],
   "source": [
    "# Cite: Got that function from GA 603-lesson_random_forest (Katie Sylvia)\n",
    "def plot_feature_importance(importance, names, model_type):\n",
    "\n",
    "\n",
    "    # Create a DataFrame using a Dictionary\n",
    "    df = pd.DataFrame({\"feature_names\":names,\n",
    "                       \"feature_importance\":importance})\n",
    "\n",
    "    # Sort the DataFrame in order decreasing feature importance\n",
    "    df.sort_values(by=[\"feature_importance\"], ascending=False,inplace=True)\n",
    "    top_features = df.head(20)\n",
    "\n",
    "    # Define size of bar plot\n",
    "    plt.figure(figsize=(10,8))\n",
    "    \n",
    "    # Generate a color palette based on the volume of feature importances\n",
    "    palette = sns.color_palette(\"Purples\", len(top_features))\n",
    "    \n",
    "    # Reverse the color palette\n",
    "    reversed_palette = palette[::-1]\n",
    "    \n",
    "    # Plot Searborn bar chart\n",
    "    sns.barplot(x=top_features[\"feature_importance\"], y=top_features[\"feature_names\"], palette=reversed_palette)\n",
    "    \n",
    "    # Add chart labels\n",
    "    plt.title(model_type +  \"Feature Importance \")\n",
    "    plt.xlabel(\"Feature Importance\")\n",
    "    plt.ylabel(\"Feature Names\")\n",
    "    "
   ]
  },
  {
   "cell_type": "markdown",
   "id": "3830d974",
   "metadata": {},
   "source": [
    "## Modeling"
   ]
  },
  {
   "cell_type": "code",
   "execution_count": 10,
   "id": "64e9f1ac",
   "metadata": {},
   "outputs": [
    {
     "name": "stdout",
     "output_type": "stream",
     "text": [
      "X shape ---------- (5270,)\n",
      "y shape ---------- (5270,)\n"
     ]
    }
   ],
   "source": [
    "# Define X (features) and y(target)\n",
    "X = df[\"description\"]\n",
    "y = df[\"subreddit\"]\n",
    "X_train, X_test, y_train, y_test = train_test_split(X, y, random_state=42, stratify=y)\n",
    "print(f\"X shape ---------- {X.shape}\")\n",
    "print(f\"y shape ---------- {y.shape}\")"
   ]
  },
  {
   "cell_type": "markdown",
   "id": "c59d267a",
   "metadata": {},
   "source": [
    "### Baseline accuracy"
   ]
  },
  {
   "cell_type": "code",
   "execution_count": 11,
   "id": "8dfecd52",
   "metadata": {},
   "outputs": [
    {
     "data": {
      "text/plain": [
       "0    0.534143\n",
       "1    0.465857\n",
       "Name: subreddit, dtype: float64"
      ]
     },
     "execution_count": 11,
     "metadata": {},
     "output_type": "execute_result"
    }
   ],
   "source": [
    "# Get the ratio of classes\n",
    "y_test.value_counts(normalize=True)"
   ]
  },
  {
   "cell_type": "markdown",
   "id": "2d96854e",
   "metadata": {},
   "source": [
    "**Baseline accuracy score is 0.53 which is the majority class**"
   ]
  },
  {
   "cell_type": "markdown",
   "id": "64e79ddb",
   "metadata": {},
   "source": [
    "## Decision Tree"
   ]
  },
  {
   "cell_type": "markdown",
   "id": "d89e2db5",
   "metadata": {},
   "source": [
    "### Decision Tree with CountVectorizer"
   ]
  },
  {
   "cell_type": "code",
   "execution_count": 12,
   "id": "d3474910",
   "metadata": {},
   "outputs": [],
   "source": [
    "# Instantiate DecisionTree\n",
    "tree = DecisionTreeClassifier()"
   ]
  },
  {
   "cell_type": "code",
   "execution_count": 19,
   "id": "fb40ce83",
   "metadata": {},
   "outputs": [],
   "source": [
    "# Instantiate the pipeline with Bagged Decision Tree and CountVectorizer transformer\n",
    "pipe = Pipeline([\n",
    "    (\"cvec\", CountVectorizer()),\n",
    "    (\"bg\", BaggingClassifier(tree))\n",
    "])"
   ]
  },
  {
   "cell_type": "code",
   "execution_count": 20,
   "id": "908217d6",
   "metadata": {},
   "outputs": [
    {
     "data": {
      "text/plain": [
       "{'memory': None,\n",
       " 'steps': [('cvec', CountVectorizer()),\n",
       "  ('bg', BaggingClassifier(base_estimator=DecisionTreeClassifier()))],\n",
       " 'verbose': False,\n",
       " 'cvec': CountVectorizer(),\n",
       " 'bg': BaggingClassifier(base_estimator=DecisionTreeClassifier()),\n",
       " 'cvec__analyzer': 'word',\n",
       " 'cvec__binary': False,\n",
       " 'cvec__decode_error': 'strict',\n",
       " 'cvec__dtype': numpy.int64,\n",
       " 'cvec__encoding': 'utf-8',\n",
       " 'cvec__input': 'content',\n",
       " 'cvec__lowercase': True,\n",
       " 'cvec__max_df': 1.0,\n",
       " 'cvec__max_features': None,\n",
       " 'cvec__min_df': 1,\n",
       " 'cvec__ngram_range': (1, 1),\n",
       " 'cvec__preprocessor': None,\n",
       " 'cvec__stop_words': None,\n",
       " 'cvec__strip_accents': None,\n",
       " 'cvec__token_pattern': '(?u)\\\\b\\\\w\\\\w+\\\\b',\n",
       " 'cvec__tokenizer': None,\n",
       " 'cvec__vocabulary': None,\n",
       " 'bg__base_estimator__ccp_alpha': 0.0,\n",
       " 'bg__base_estimator__class_weight': None,\n",
       " 'bg__base_estimator__criterion': 'gini',\n",
       " 'bg__base_estimator__max_depth': None,\n",
       " 'bg__base_estimator__max_features': None,\n",
       " 'bg__base_estimator__max_leaf_nodes': None,\n",
       " 'bg__base_estimator__min_impurity_decrease': 0.0,\n",
       " 'bg__base_estimator__min_samples_leaf': 1,\n",
       " 'bg__base_estimator__min_samples_split': 2,\n",
       " 'bg__base_estimator__min_weight_fraction_leaf': 0.0,\n",
       " 'bg__base_estimator__random_state': None,\n",
       " 'bg__base_estimator__splitter': 'best',\n",
       " 'bg__base_estimator': DecisionTreeClassifier(),\n",
       " 'bg__bootstrap': True,\n",
       " 'bg__bootstrap_features': False,\n",
       " 'bg__max_features': 1.0,\n",
       " 'bg__max_samples': 1.0,\n",
       " 'bg__n_estimators': 10,\n",
       " 'bg__n_jobs': None,\n",
       " 'bg__oob_score': False,\n",
       " 'bg__random_state': None,\n",
       " 'bg__verbose': 0,\n",
       " 'bg__warm_start': False}"
      ]
     },
     "execution_count": 20,
     "metadata": {},
     "output_type": "execute_result"
    }
   ],
   "source": [
    "# Get pipeline params\n",
    "pipe.get_params()"
   ]
  },
  {
   "cell_type": "code",
   "execution_count": 22,
   "id": "f0e3fc4d",
   "metadata": {},
   "outputs": [],
   "source": [
    "# Set pipeline params by cvec\n",
    "pipe_params = {\n",
    "    \"cvec__tokenizer\": [None, stem_words],\n",
    "    \"cvec__max_features\": [5_000, 10_000, 20_000, 30_000],\n",
    "    \"cvec__min_df\": [2, 3],\n",
    "    \"cvec__max_df\": [.9, .95],\n",
    "    \"cvec__stop_words\": [None, \"english\"],\n",
    "    \"cvec__ngram_range\": [(1, 1), (1, 2)],\n",
    "    \"bg__base_estimator__max_depth\": [None, 1, 2, 3, 4],\n",
    "    \"bg__n_estimators\": [100]\n",
    "}"
   ]
  },
  {
   "cell_type": "code",
   "execution_count": 23,
   "id": "070318f5",
   "metadata": {},
   "outputs": [
    {
     "name": "stdout",
     "output_type": "stream",
     "text": [
      "==================== Summary of Decision Tree Model with CountVectorizer Transformer Evaluation ===================\n",
      "======== The Best Params =========\n",
      "{'bg__base_estimator__max_depth': None, 'bg__n_estimators': 100, 'cvec__max_df': 0.95, 'cvec__max_features': 5000, 'cvec__min_df': 2, 'cvec__ngram_range': (1, 1), 'cvec__stop_words': None, 'cvec__tokenizer': None}\n",
      "\n",
      "========= The Best Score =========\n",
      "0.8712006913216725\n",
      "\n",
      "========== Train Score ===========\n",
      "0.9989878542510121\n",
      "\n",
      "=========== Test Score ===========\n",
      "0.877845220030349\n"
     ]
    },
    {
     "name": "stderr",
     "output_type": "stream",
     "text": [
      "C:\\Users\\sarvin.farhad\\anaconda3\\lib\\site-packages\\sklearn\\utils\\deprecation.py:87: FutureWarning: Function plot_confusion_matrix is deprecated; Function `plot_confusion_matrix` is deprecated in 1.0 and will be removed in 1.2. Use one of the class methods: ConfusionMatrixDisplay.from_predictions or ConfusionMatrixDisplay.from_estimator.\n",
      "  warnings.warn(msg, category=FutureWarning)\n"
     ]
    },
    {
     "name": "stdout",
     "output_type": "stream",
     "text": [
      "======= Evaluation Metrics =======\n",
      "Accuracy  ---------- 0.877845220030349\n",
      "Precision  --------- 0.883248730964467\n",
      "Sensitivity  ------- 0.8501628664495114\n",
      "Specifity  --------- 0.9019886363636364\n"
     ]
    },
    {
     "data": {
      "image/png": "[encoded data removed]",
      "text/plain": [
       "<Figure size 640x480 with 2 Axes>"
      ]
     },
     "metadata": {},
     "output_type": "display_data"
    }
   ],
   "source": [
    "# Get the result of the model with defined parameters in GreadSearch\n",
    "gridsearching(estimator=pipe, param_grid=pipe_params, model_name=\"Decision Tree\", transformer_name=\"CountVectorizer\")"
   ]
  },
  {
   "cell_type": "markdown",
   "id": "988976ff",
   "metadata": {},
   "source": [
    "### Decision Tree with TfidVectorizer"
   ]
  },
  {
   "cell_type": "code",
   "execution_count": 24,
   "id": "a63ae523",
   "metadata": {},
   "outputs": [],
   "source": [
    "# Instantiate Decision Tree\n",
    "tree = DecisionTreeClassifier()"
   ]
  },
  {
   "cell_type": "code",
   "execution_count": 25,
   "id": "34c5c572",
   "metadata": {},
   "outputs": [],
   "source": [
    "# Instantiate the pipeline with Bagged Decision Tree and TfidVectorizer transformer\n",
    "pipe_tvec = Pipeline([\n",
    "    (\"tvec\", TfidfVectorizer()),\n",
    "    (\"bg\", BaggingClassifier(tree))\n",
    "])"
   ]
  },
  {
   "cell_type": "code",
   "execution_count": 26,
   "id": "21958fe4",
   "metadata": {},
   "outputs": [
    {
     "data": {
      "text/plain": [
       "{'memory': None,\n",
       " 'steps': [('tvec', TfidfVectorizer()),\n",
       "  ('bg', BaggingClassifier(base_estimator=DecisionTreeClassifier()))],\n",
       " 'verbose': False,\n",
       " 'tvec': TfidfVectorizer(),\n",
       " 'bg': BaggingClassifier(base_estimator=DecisionTreeClassifier()),\n",
       " 'tvec__analyzer': 'word',\n",
       " 'tvec__binary': False,\n",
       " 'tvec__decode_error': 'strict',\n",
       " 'tvec__dtype': numpy.float64,\n",
       " 'tvec__encoding': 'utf-8',\n",
       " 'tvec__input': 'content',\n",
       " 'tvec__lowercase': True,\n",
       " 'tvec__max_df': 1.0,\n",
       " 'tvec__max_features': None,\n",
       " 'tvec__min_df': 1,\n",
       " 'tvec__ngram_range': (1, 1),\n",
       " 'tvec__norm': 'l2',\n",
       " 'tvec__preprocessor': None,\n",
       " 'tvec__smooth_idf': True,\n",
       " 'tvec__stop_words': None,\n",
       " 'tvec__strip_accents': None,\n",
       " 'tvec__sublinear_tf': False,\n",
       " 'tvec__token_pattern': '(?u)\\\\b\\\\w\\\\w+\\\\b',\n",
       " 'tvec__tokenizer': None,\n",
       " 'tvec__use_idf': True,\n",
       " 'tvec__vocabulary': None,\n",
       " 'bg__base_estimator__ccp_alpha': 0.0,\n",
       " 'bg__base_estimator__class_weight': None,\n",
       " 'bg__base_estimator__criterion': 'gini',\n",
       " 'bg__base_estimator__max_depth': None,\n",
       " 'bg__base_estimator__max_features': None,\n",
       " 'bg__base_estimator__max_leaf_nodes': None,\n",
       " 'bg__base_estimator__min_impurity_decrease': 0.0,\n",
       " 'bg__base_estimator__min_samples_leaf': 1,\n",
       " 'bg__base_estimator__min_samples_split': 2,\n",
       " 'bg__base_estimator__min_weight_fraction_leaf': 0.0,\n",
       " 'bg__base_estimator__random_state': None,\n",
       " 'bg__base_estimator__splitter': 'best',\n",
       " 'bg__base_estimator': DecisionTreeClassifier(),\n",
       " 'bg__bootstrap': True,\n",
       " 'bg__bootstrap_features': False,\n",
       " 'bg__max_features': 1.0,\n",
       " 'bg__max_samples': 1.0,\n",
       " 'bg__n_estimators': 10,\n",
       " 'bg__n_jobs': None,\n",
       " 'bg__oob_score': False,\n",
       " 'bg__random_state': None,\n",
       " 'bg__verbose': 0,\n",
       " 'bg__warm_start': False}"
      ]
     },
     "execution_count": 26,
     "metadata": {},
     "output_type": "execute_result"
    }
   ],
   "source": [
    "# Get pipeline params\n",
    "pipe_tvec.get_params()"
   ]
  },
  {
   "cell_type": "code",
   "execution_count": 27,
   "id": "1a147065",
   "metadata": {},
   "outputs": [],
   "source": [
    "# Set pipeline params by cvec\n",
    "pipe_tvec_params = {\n",
    "    \"tvec__tokenizer\": [None, stem_words],\n",
    "    \"tvec__max_features\": [5_000, 10_000, 20_000, 30_000],\n",
    "    \"tvec__min_df\": [2, 3],\n",
    "    \"tvec__max_df\": [.9, .95],\n",
    "    \"tvec__stop_words\": [None, \"english\"],\n",
    "    \"tvec__ngram_range\": [(1, 1), (1, 2)],\n",
    "    \"bg__base_estimator__max_depth\": [None, 1, 2, 3, 4],\n",
    "    \"bg__n_estimators\": [100]\n",
    "}"
   ]
  },
  {
   "cell_type": "code",
   "execution_count": 28,
   "id": "573cddde",
   "metadata": {},
   "outputs": [
    {
     "name": "stdout",
     "output_type": "stream",
     "text": [
      "==================== Summary of Decision Tree Model with TfidVectorizer Transformer Evaluation ====================\n",
      "======== The Best Params =========\n",
      "{'bg__base_estimator__max_depth': None, 'bg__n_estimators': 100, 'tvec__max_df': 0.9, 'tvec__max_features': 30000, 'tvec__min_df': 2, 'tvec__ngram_range': (1, 2), 'tvec__stop_words': None, 'tvec__tokenizer': <function stem_words at 0x0000028A2E69DF70>}\n",
      "\n",
      "========= The Best Score =========\n",
      "0.8681627166381283\n",
      "\n",
      "========== Train Score ===========\n",
      "0.9992408906882592\n",
      "\n",
      "=========== Test Score ===========\n",
      "0.8884673748103187\n"
     ]
    },
    {
     "name": "stderr",
     "output_type": "stream",
     "text": [
      "C:\\Users\\sarvin.farhad\\anaconda3\\lib\\site-packages\\sklearn\\utils\\deprecation.py:87: FutureWarning: Function plot_confusion_matrix is deprecated; Function `plot_confusion_matrix` is deprecated in 1.0 and will be removed in 1.2. Use one of the class methods: ConfusionMatrixDisplay.from_predictions or ConfusionMatrixDisplay.from_estimator.\n",
      "  warnings.warn(msg, category=FutureWarning)\n"
     ]
    },
    {
     "name": "stdout",
     "output_type": "stream",
     "text": [
      "======= Evaluation Metrics =======\n",
      "Accuracy  ---------- 0.8884673748103187\n",
      "Precision  --------- 0.8911222780569514\n",
      "Sensitivity  ------- 0.8664495114006515\n",
      "Specifity  --------- 0.9076704545454546\n"
     ]
    },
    {
     "data": {
      "image/png": "[encoded data removed]",
      "text/plain": [
       "<Figure size 640x480 with 2 Axes>"
      ]
     },
     "metadata": {},
     "output_type": "display_data"
    }
   ],
   "source": [
    "# Get the result of the model with defined parameters in GreadSearch\n",
    "gridsearching(estimator=pipe_tvec, param_grid=pipe_tvec_params, model_name=\"Decision Tree\", transformer_name=\"TfidVectorizer\")"
   ]
  },
  {
   "cell_type": "markdown",
   "id": "fb0145fe",
   "metadata": {},
   "source": [
    "## Random Forest"
   ]
  },
  {
   "cell_type": "markdown",
   "id": "7bce5dc6",
   "metadata": {},
   "source": [
    "### Random Forest with CountVectorizer"
   ]
  },
  {
   "cell_type": "code",
   "execution_count": 29,
   "id": "cd74d7bc",
   "metadata": {},
   "outputs": [],
   "source": [
    "# Instantiate the pipeline with Random Forest and countvectorizer transformer\n",
    "pipe = Pipeline([\n",
    "    (\"cvec\", CountVectorizer()),\n",
    "    (\"rf\", RandomForestClassifier())\n",
    "])"
   ]
  },
  {
   "cell_type": "code",
   "execution_count": 30,
   "id": "211d00ec",
   "metadata": {},
   "outputs": [
    {
     "data": {
      "text/plain": [
       "{'memory': None,\n",
       " 'steps': [('cvec', CountVectorizer()), ('rf', RandomForestClassifier())],\n",
       " 'verbose': False,\n",
       " 'cvec': CountVectorizer(),\n",
       " 'rf': RandomForestClassifier(),\n",
       " 'cvec__analyzer': 'word',\n",
       " 'cvec__binary': False,\n",
       " 'cvec__decode_error': 'strict',\n",
       " 'cvec__dtype': numpy.int64,\n",
       " 'cvec__encoding': 'utf-8',\n",
       " 'cvec__input': 'content',\n",
       " 'cvec__lowercase': True,\n",
       " 'cvec__max_df': 1.0,\n",
       " 'cvec__max_features': None,\n",
       " 'cvec__min_df': 1,\n",
       " 'cvec__ngram_range': (1, 1),\n",
       " 'cvec__preprocessor': None,\n",
       " 'cvec__stop_words': None,\n",
       " 'cvec__strip_accents': None,\n",
       " 'cvec__token_pattern': '(?u)\\\\b\\\\w\\\\w+\\\\b',\n",
       " 'cvec__tokenizer': None,\n",
       " 'cvec__vocabulary': None,\n",
       " 'rf__bootstrap': True,\n",
       " 'rf__ccp_alpha': 0.0,\n",
       " 'rf__class_weight': None,\n",
       " 'rf__criterion': 'gini',\n",
       " 'rf__max_depth': None,\n",
       " 'rf__max_features': 'auto',\n",
       " 'rf__max_leaf_nodes': None,\n",
       " 'rf__max_samples': None,\n",
       " 'rf__min_impurity_decrease': 0.0,\n",
       " 'rf__min_samples_leaf': 1,\n",
       " 'rf__min_samples_split': 2,\n",
       " 'rf__min_weight_fraction_leaf': 0.0,\n",
       " 'rf__n_estimators': 100,\n",
       " 'rf__n_jobs': None,\n",
       " 'rf__oob_score': False,\n",
       " 'rf__random_state': None,\n",
       " 'rf__verbose': 0,\n",
       " 'rf__warm_start': False}"
      ]
     },
     "execution_count": 30,
     "metadata": {},
     "output_type": "execute_result"
    }
   ],
   "source": [
    "# Get pipeline params\n",
    "pipe.get_params()"
   ]
  },
  {
   "cell_type": "code",
   "execution_count": 31,
   "id": "54110d5f",
   "metadata": {},
   "outputs": [],
   "source": [
    "# Set pipeline params by cvec\n",
    "pipe_params = {\n",
    "    \"cvec__tokenizer\": [None, stem_words],\n",
    "    \"cvec__max_features\": [5_000, 10_000, 20_000, 30_000],\n",
    "    \"cvec__min_df\": [2, 3],\n",
    "    \"cvec__max_df\": [.9, .95],\n",
    "    \"cvec__stop_words\": [None, \"english\"],\n",
    "    \"cvec__ngram_range\": [(1, 1), (1, 2)],\n",
    "    \"rf__max_depth\": [None, 1, 2, 3, 4],\n",
    "    \"rf__n_estimators\": [100]\n",
    "}"
   ]
  },
  {
   "cell_type": "code",
   "execution_count": 32,
   "id": "8200ecc3",
   "metadata": {},
   "outputs": [
    {
     "name": "stdout",
     "output_type": "stream",
     "text": [
      "==================== Summary of Random Forest Model with CountVectorizer Transformer Evaluation ===================\n",
      "======== The Best Params =========\n",
      "{'cvec__max_df': 0.9, 'cvec__max_features': 20000, 'cvec__min_df': 3, 'cvec__ngram_range': (1, 1), 'cvec__stop_words': 'english', 'cvec__tokenizer': None, 'rf__max_depth': None, 'rf__n_estimators': 100}\n",
      "\n",
      "========= The Best Score =========\n",
      "0.89422746403367\n",
      "\n",
      "========== Train Score ===========\n",
      "0.9979757085020243\n",
      "\n",
      "=========== Test Score ===========\n",
      "0.8960546282245827\n"
     ]
    },
    {
     "name": "stderr",
     "output_type": "stream",
     "text": [
      "C:\\Users\\sarvin.farhad\\anaconda3\\lib\\site-packages\\sklearn\\utils\\deprecation.py:87: FutureWarning: Function plot_confusion_matrix is deprecated; Function `plot_confusion_matrix` is deprecated in 1.0 and will be removed in 1.2. Use one of the class methods: ConfusionMatrixDisplay.from_predictions or ConfusionMatrixDisplay.from_estimator.\n",
      "  warnings.warn(msg, category=FutureWarning)\n"
     ]
    },
    {
     "name": "stdout",
     "output_type": "stream",
     "text": [
      "======= Evaluation Metrics =======\n",
      "Accuracy  ---------- 0.8960546282245827\n",
      "Precision  --------- 0.8981636060100167\n",
      "Sensitivity  ------- 0.8762214983713354\n",
      "Specifity  --------- 0.9133522727272727\n"
     ]
    },
    {
     "data": {
      "image/png": "[encoded data removed]",
      "text/plain": [
       "<Figure size 640x480 with 2 Axes>"
      ]
     },
     "metadata": {},
     "output_type": "display_data"
    }
   ],
   "source": [
    "# Get the result of the model with defined parameters in GreadSearch\n",
    "gridsearching(estimator=pipe, param_grid=pipe_params, model_name=\"Random Forest\", transformer_name=\"CountVectorizer\")"
   ]
  },
  {
   "cell_type": "markdown",
   "id": "ae075f80",
   "metadata": {},
   "source": [
    "### Feature Importance with CountVectorizer"
   ]
  },
  {
   "cell_type": "markdown",
   "id": "489172f0",
   "metadata": {},
   "source": [
    "Here I instantiated a CountVectorizer based on the best params that I got from GridSearch and then fit and transformed train data with that CountVectorizer. Also in the following, used defined function to plot top 20 features."
   ]
  },
  {
   "cell_type": "code",
   "execution_count": 37,
   "id": "7ae5b293",
   "metadata": {},
   "outputs": [
    {
     "name": "stderr",
     "output_type": "stream",
     "text": [
      "C:\\Users\\sarvin.farhad\\anaconda3\\lib\\site-packages\\sklearn\\utils\\deprecation.py:87: FutureWarning: Function get_feature_names is deprecated; get_feature_names is deprecated in 1.0 and will be removed in 1.2. Please use get_feature_names_out instead.\n",
      "  warnings.warn(msg, category=FutureWarning)\n"
     ]
    },
    {
     "data": {
      "image/png": "[encoded data removed]",
      "text/plain": [
       "<Figure size 1000x800 with 1 Axes>"
      ]
     },
     "metadata": {},
     "output_type": "display_data"
    }
   ],
   "source": [
    "# instantiate TfidfVectorizer with best params \n",
    "cvec = CountVectorizer(max_df=0.9, max_features=20000, min_df=3, ngram_range=(1,1),\n",
    "                       stop_words=\"english\", tokenizer=None)\n",
    "X_train_cvec = cvec.fit_transform(X_train)\n",
    "X_test_cvec = cvec.transform(X_test)\n",
    "\n",
    "rf = RandomForestClassifier(max_depth=None, n_estimators=100)\n",
    "rf.fit(X_train_cvec, y_train)\n",
    "\n",
    "# make a train dataframe based on transformed data\n",
    "X_train_df = pd.DataFrame(cvec.fit_transform(X_train).todense(), \n",
    "                          columns=cvec.get_feature_names())\n",
    "\n",
    "# plot top 20 features\n",
    "plot_feature_importance(rf.feature_importances_, X_train_df.columns,\"Random Forest With CountVectorizer\")"
   ]
  },
  {
   "cell_type": "markdown",
   "id": "ad7bcfda",
   "metadata": {},
   "source": [
    "### Random Forest with TfidVectorizer"
   ]
  },
  {
   "cell_type": "code",
   "execution_count": 39,
   "id": "2aed4c55",
   "metadata": {},
   "outputs": [],
   "source": [
    "# Redifine training and testing split\n",
    "X_train, X_test, y_train, y_test = train_test_split(X, y, random_state=42, stratify=y)"
   ]
  },
  {
   "cell_type": "code",
   "execution_count": 40,
   "id": "b5af2ec2",
   "metadata": {},
   "outputs": [],
   "source": [
    "# Instantiate the pipeline with Random Forest and Tfidfvectorizer transformer\n",
    "pipe_tvec = Pipeline([\n",
    "    ('tvec', TfidfVectorizer()),\n",
    "    ('rf', RandomForestClassifier())\n",
    "])"
   ]
  },
  {
   "cell_type": "code",
   "execution_count": 41,
   "id": "0a4b1a1a",
   "metadata": {},
   "outputs": [
    {
     "data": {
      "text/plain": [
       "{'memory': None,\n",
       " 'steps': [('tvec', TfidfVectorizer()), ('rf', RandomForestClassifier())],\n",
       " 'verbose': False,\n",
       " 'tvec': TfidfVectorizer(),\n",
       " 'rf': RandomForestClassifier(),\n",
       " 'tvec__analyzer': 'word',\n",
       " 'tvec__binary': False,\n",
       " 'tvec__decode_error': 'strict',\n",
       " 'tvec__dtype': numpy.float64,\n",
       " 'tvec__encoding': 'utf-8',\n",
       " 'tvec__input': 'content',\n",
       " 'tvec__lowercase': True,\n",
       " 'tvec__max_df': 1.0,\n",
       " 'tvec__max_features': None,\n",
       " 'tvec__min_df': 1,\n",
       " 'tvec__ngram_range': (1, 1),\n",
       " 'tvec__norm': 'l2',\n",
       " 'tvec__preprocessor': None,\n",
       " 'tvec__smooth_idf': True,\n",
       " 'tvec__stop_words': None,\n",
       " 'tvec__strip_accents': None,\n",
       " 'tvec__sublinear_tf': False,\n",
       " 'tvec__token_pattern': '(?u)\\\\b\\\\w\\\\w+\\\\b',\n",
       " 'tvec__tokenizer': None,\n",
       " 'tvec__use_idf': True,\n",
       " 'tvec__vocabulary': None,\n",
       " 'rf__bootstrap': True,\n",
       " 'rf__ccp_alpha': 0.0,\n",
       " 'rf__class_weight': None,\n",
       " 'rf__criterion': 'gini',\n",
       " 'rf__max_depth': None,\n",
       " 'rf__max_features': 'auto',\n",
       " 'rf__max_leaf_nodes': None,\n",
       " 'rf__max_samples': None,\n",
       " 'rf__min_impurity_decrease': 0.0,\n",
       " 'rf__min_samples_leaf': 1,\n",
       " 'rf__min_samples_split': 2,\n",
       " 'rf__min_weight_fraction_leaf': 0.0,\n",
       " 'rf__n_estimators': 100,\n",
       " 'rf__n_jobs': None,\n",
       " 'rf__oob_score': False,\n",
       " 'rf__random_state': None,\n",
       " 'rf__verbose': 0,\n",
       " 'rf__warm_start': False}"
      ]
     },
     "execution_count": 41,
     "metadata": {},
     "output_type": "execute_result"
    }
   ],
   "source": [
    "# Get pipeline params\n",
    "pipe_tvec.get_params()"
   ]
  },
  {
   "cell_type": "code",
   "execution_count": 205,
   "id": "ff618333",
   "metadata": {},
   "outputs": [],
   "source": [
    "# Set pipeline params by tvec\n",
    "pipe_tvec_params = {\n",
    "    'tvec__tokenizer': [None, stem_words],\n",
    "    'tvec__max_features': [5_000, 10_000, 20_000, 30_000],\n",
    "    'tvec__min_df': [2, 3],\n",
    "    'tvec__max_df': [.9, .95],\n",
    "    'tvec__stop_words': [None, 'english'],\n",
    "    'tvec__ngram_range': [(1, 1), (1, 2)],\n",
    "    'rf__max_depth': [None, 1, 2, 3, 4],\n",
    "    'rf__n_estimators': [100]\n",
    "}"
   ]
  },
  {
   "cell_type": "code",
   "execution_count": null,
   "id": "cd18a7f3",
   "metadata": {},
   "outputs": [],
   "source": [
    "# Get the result of the model with defined parameters in GreadSearch\n",
    "gridsearching(estimator=pipe_tvec, param_grid=pipe_tvec_params, model_name=\"Random Forest\", transformer_name=\"TfidfVectorizer\")"
   ]
  },
  {
   "cell_type": "markdown",
   "id": "5ccde983",
   "metadata": {},
   "source": [
    "### Feature Importance with Random Forest Algorithm and TfidVectorizer Transformer"
   ]
  },
  {
   "cell_type": "markdown",
   "id": "519f7697",
   "metadata": {},
   "source": [
    "Here I instantiated a TfidfVectorizer based on the best params that I got from GridSearch and then fit and transformed train data with that TfidfVectorizer. Also in the following used defined function to plot top 20 features."
   ]
  },
  {
   "cell_type": "code",
   "execution_count": null,
   "id": "b84b4767",
   "metadata": {},
   "outputs": [],
   "source": [
    "'tvec__max_df': 0.95, 'tvec__max_features': 20000, 'tvec__min_df': 3,\n",
    "'tvec__ngram_range': (1, 1), 'tvec__stop_words': None,"
   ]
  },
  {
   "cell_type": "code",
   "execution_count": 215,
   "id": "5018e7d7",
   "metadata": {},
   "outputs": [
    {
     "name": "stderr",
     "output_type": "stream",
     "text": [
      "C:\\Users\\sarvin.farhad\\anaconda3\\lib\\site-packages\\sklearn\\utils\\deprecation.py:87: FutureWarning: Function get_feature_names is deprecated; get_feature_names is deprecated in 1.0 and will be removed in 1.2. Please use get_feature_names_out instead.\n",
      "  warnings.warn(msg, category=FutureWarning)\n"
     ]
    }
   ],
   "source": [
    "# instantiate TfidfVectorizer with best params \n",
    "tvec = TfidfVectorizer(max_df=0.95, max_features=20000, min_df=3, ngram_range=(1,1),\n",
    "                       stop_words=None, tokenizer=None)\n",
    "# make a train dataframe based on transformed data\n",
    "X_train_tvec_df = pd.DataFrame(tvec.fit_transform(X_train).todense(), \n",
    "                          columns=tvec.get_feature_names())"
   ]
  },
  {
   "cell_type": "code",
   "execution_count": 216,
   "id": "d557874f",
   "metadata": {},
   "outputs": [
    {
     "data": {
      "text/plain": [
       "array([3.29423938e-05, 4.37726929e-05, 2.86362601e-05, ...,\n",
       "       1.05939094e-05, 0.00000000e+00, 1.21914693e-04])"
      ]
     },
     "execution_count": 216,
     "metadata": {},
     "output_type": "execute_result"
    }
   ],
   "source": [
    "# get to know feature importances\n",
    "gs_tvec.best_estimator_._final_estimator.feature_importances_"
   ]
  },
  {
   "cell_type": "code",
   "execution_count": 217,
   "id": "0b7a093a",
   "metadata": {},
   "outputs": [
    {
     "data": {
      "image/png": "[encoded data removed]",
      "text/plain": [
       "<Figure size 1000x800 with 1 Axes>"
      ]
     },
     "metadata": {},
     "output_type": "display_data"
    }
   ],
   "source": [
    "# plot top 20 features\n",
    "plot_feature_importance(gs_tvec.best_estimator_._final_estimator.feature_importances_,\n",
    "                        X_train_tvec_df.columns,'Random Forest TfidVectorizer')"
   ]
  }
 ],
 "metadata": {
  "kernelspec": {
   "display_name": "Python 3 (ipykernel)",
   "language": "python",
   "name": "python3"
  },
  "language_info": {
   "codemirror_mode": {
    "name": "ipython",
    "version": 3
   },
   "file_extension": ".py",
   "mimetype": "text/x-python",
   "name": "python",
   "nbconvert_exporter": "python",
   "pygments_lexer": "ipython3",
   "version": "3.9.13"
  }
 },
 "nbformat": 4,
 "nbformat_minor": 5
}

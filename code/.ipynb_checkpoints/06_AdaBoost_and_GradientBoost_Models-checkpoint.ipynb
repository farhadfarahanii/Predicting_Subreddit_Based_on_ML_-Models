{
 "cells": [
  {
   "cell_type": "markdown",
   "id": "cdddc04e",
   "metadata": {},
   "source": [
    "# Predicting Subreddits by AdaBoost, GradientBoost and XGBoost Models\n",
    "\n",
    "### Basic descriptions on Boosting models\n",
    "\n",
    "**AdaBoost (Adaptive Boosting)** is a boosting algorithm that combines multiple weak classifiers to create a strong classifier. It works by iteratively training weak classifiers on different subsets of the training data. In each iteration, the algorithm assigns higher weights to misclassified samples from the previous classifiers, allowing subsequent classifiers to focus more on these difficult samples. The final prediction is made by aggregating the predictions of all weak classifiers, weighted by their individual performance.\n",
    "\n",
    "**Gradient Boosting** is another boosting algorithm that also combines weak predictors to form a strong predictor. It works by sequentially fitting weak predictors to the residuals (the differences between the actual and predicted values) of the previous predictors. In each iteration, the algorithm calculates the negative gradient of the loss function with respect to the previous predictor's output and trains a weak predictor to minimize this gradient. By gradually adding weak predictors that correct the errors made by the previous predictors, the model improves its predictions and reduces the overall loss. The final prediction is obtained by aggregating the predictions of all weak predictors.\n",
    "\n",
    "**XGBoost (eXtreme Gradient Boosting)** is an optimized implementation of gradient boosting that offers several enhancements, making it faster and more efficient. It uses a similar approach to gradient boosting but incorporates additional features such as parallel processing, tree pruning, regularization, and handling missing values. XGBoost utilizes a more advanced algorithm to find optimal split points, resulting in improved accuracy and performance.\n",
    "\n",
    "In the process of predicting subreddits using AdaBoost, Gradient Boosting, and XGBoost models, we will utilize the CountVectorizer and TfidfVectorizer transformers to preprocess and transform the text data. By using both the CountVectorizer and TfidfVectorizer, we can compare their performance in capturing the relevant features and improving the classification accuracy of the models. This analysis allows us to determine which vectorizer, along with the chosen boosting algorithm, provides the best results for predicting the subreddits accurately."
   ]
  },
  {
   "cell_type": "markdown",
   "id": "615a3e57",
   "metadata": {},
   "source": [
    "## Contents:\n",
    "\n",
    "- [Predicting Subreddits by AdaBoost, GradientBoost and XGBoost Models](#Predicting-Subreddits-by-AdaBoost,-GradientBoost-and-XGBoost-Models)\n",
    "- [Imports](#Imports)\n",
    "- [Functions](#Functions)\n",
    "- [Baseline Score](#Baseline-Score)\n",
    "- [AdaBoost Model](#AdaBoost-Model)\n",
    "    - [AdaBoost with CountVectorizer](#AdaBoost-with-CountVectorizer)\n",
    "    - [AdaBoost with TfidfVectorizer](#AdaBoost-with-TfidfVectorizer)\n",
    "- [GradientBoost Model](#GradientBoost-Model)\n",
    "    - [GradientBoost with CountVectorizer](#GradientBoost-with-CountVectorizer)\n",
    "    - [GradientBoost with TfidfVectorizer](#GradientBoost-with-TfidfVectorizer)\n",
    "- [XGBoost Model](#XGBoost-Model)\n",
    "    - [XGBoost with CountVectorizer](#XGBoost-with-CountVectorizer)\n",
    "    - [XGBoost with TfidfVectorizer](#XGBoost-with-TfidfVectorizer)\n",
    "- [Save The Best Models](#Save-The-Best-Models)\n",
    "- [Summary of Predicting Subreddits by AdaBoost, GradientBoost and XGBoost Models](#Summary-of-Predicting-Subreddits-by-AdaBoost,-GradientBoost-and-XGBoost-Models)"
   ]
  },
  {
   "cell_type": "markdown",
   "id": "30f4dcf8",
   "metadata": {},
   "source": [
    "## Imports"
   ]
  },
  {
   "cell_type": "code",
   "execution_count": 34,
   "id": "6ed385ca",
   "metadata": {},
   "outputs": [],
   "source": [
    "import pandas as pd\n",
    "import numpy as np\n",
    "import matplotlib.pyplot as plt\n",
    "import seaborn as sns\n",
    "import nltk\n",
    "import pickle\n",
    "\n",
    "from sklearn.pipeline import Pipeline\n",
    "from sklearn.model_selection import train_test_split, GridSearchCV\n",
    "from sklearn.metrics import confusion_matrix, plot_confusion_matrix, accuracy_score, recall_score, precision_score\n",
    "from sklearn.feature_extraction.text import CountVectorizer, TfidfVectorizer\n",
    "from nltk.tokenize import word_tokenize\n",
    "from nltk.stem import PorterStemmer\n",
    "from nltk.corpus import stopwords\n",
    "from sklearn.tree import DecisionTreeClassifier\n",
    "from sklearn.ensemble import AdaBoostClassifier, GradientBoostingClassifier\n",
    "import xgboost as xgb"
   ]
  },
  {
   "cell_type": "code",
   "execution_count": 2,
   "id": "a3cb052f",
   "metadata": {},
   "outputs": [],
   "source": [
    "# Define dataframe path\n",
    "df_path = \"../data/final_dataset.csv\""
   ]
  },
  {
   "cell_type": "code",
   "execution_count": 3,
   "id": "d8f59021",
   "metadata": {},
   "outputs": [
    {
     "name": "stdout",
     "output_type": "stream",
     "text": [
      "Sample Data :            author                                        description  \\\n",
      "0          TuaAnon  yes, it's an lte watch with data turned on, no...   \n",
      "1  DemandScary1934  how accurate is the active/total calorie track...   \n",
      "2         Vinumite  fell very hard blackout drunk and lost watch. ...   \n",
      "3          Damarou  pls tell me i‘m not the only one who has such ...   \n",
      "4       ThorNike13  deleted apps in watch app on iphone with weird...   \n",
      "\n",
      "    subreddit  des_word_count  \n",
      "0  AppleWatch              48  \n",
      "1  AppleWatch              10  \n",
      "2  AppleWatch              59  \n",
      "3  AppleWatch              15  \n",
      "4  AppleWatch              15  \n",
      "\n",
      "--------------------------\n",
      "\n",
      " Columns : ['author', 'description', 'subreddit', 'des_word_count']\n",
      "\n",
      "--------------------------\n",
      "\n",
      " Size of the dataset : 5270\n",
      "\n",
      "--------------------------\n",
      "\n",
      " Total number of columns : 4\n"
     ]
    }
   ],
   "source": [
    "# load data\n",
    "df = pd.read_csv(df_path).drop(columns=\"Unnamed: 0\")\n",
    "\n",
    "# Get some basic information \n",
    "print(f\"Sample Data :{df.head()}\")\n",
    "print(f\"\\n--------------------------\\n\\n Columns : {[i for i in df.columns]}\")\n",
    "print(f\"\\n--------------------------\\n\\n Size of the dataset : {df.shape[0]}\")\n",
    "print(f\"\\n--------------------------\\n\\n Total number of columns : {df.shape[1]}\")"
   ]
  },
  {
   "cell_type": "code",
   "execution_count": 4,
   "id": "020cf07b",
   "metadata": {},
   "outputs": [],
   "source": [
    "# Drop unusefull columns\n",
    "df.drop(columns =[\"author\", \"des_word_count\"], inplace=True)"
   ]
  },
  {
   "cell_type": "code",
   "execution_count": 5,
   "id": "94163811",
   "metadata": {},
   "outputs": [],
   "source": [
    "# Create label column (target column)\n",
    "df[\"subreddit\"] = df[\"subreddit\"].map({\"GalaxyWatch\": 1, \"AppleWatch\":0})"
   ]
  },
  {
   "cell_type": "markdown",
   "id": "3d97aa63",
   "metadata": {},
   "source": [
    "## Functions"
   ]
  },
  {
   "cell_type": "code",
   "execution_count": 6,
   "id": "230865c9",
   "metadata": {},
   "outputs": [],
   "source": [
    "# cite: Got help form Katie Sylvia\n",
    "# a function for stemming\n",
    "def stem_words(text):\n",
    "    # Initialize the Porter stemmer\n",
    "    stemmer = PorterStemmer()\n",
    "    \n",
    "    # Tokenize the text into individual words\n",
    "    words = nltk.word_tokenize(text)\n",
    "    \n",
    "    # Stem each word and join them back into a string\n",
    "    stemmed_words = [stemmer.stem(word) for word in words]\n",
    "    stemmed_text = \" \".join(stemmed_words)\n",
    "    \n",
    "    return stemmed_text"
   ]
  },
  {
   "cell_type": "code",
   "execution_count": 7,
   "id": "d23ca963",
   "metadata": {},
   "outputs": [],
   "source": [
    "# Grid search over with pipeline estimator\n",
    "def gridsearching(estimator, param_grid, model_name, transformer_name):\n",
    "    \n",
    "    print(f\" Summary of {model_name} Model with {transformer_name} Transformer Evaluation \".center(115, \"=\"))\n",
    "    \n",
    "    # Instantiate a GridSearch model\n",
    "    gs = GridSearchCV(estimator=estimator, param_grid=param_grid, cv=5, n_jobs=5)\n",
    "\n",
    "    # Fit the model to traning data\n",
    "    gs.fit(X_train, y_train)\n",
    "\n",
    "    # Get to know wich params were the best ones\n",
    "    print(\" The Best Params \".center(34, \"=\"))\n",
    "    print(gs.best_params_)\n",
    "    print()\n",
    "\n",
    "    # Get to know the best score\n",
    "    print(\" The Best Score \".center(34, \"=\"))\n",
    "    print(gs.best_score_)\n",
    "    print()\n",
    "\n",
    "    # Train data score\n",
    "    print(\" Train Score \".center(34, \"=\"))\n",
    "    print(gs.score(X_train, y_train))\n",
    "    print()\n",
    "\n",
    "    # Test data score\n",
    "    print(\" Test Score \".center(34, \"=\"))\n",
    "    print(gs.score(X_test, y_test))\n",
    "    \n",
    "    # Get predictions\n",
    "    preds = gs.predict(X_test)\n",
    "\n",
    "    # Confusion matrix values\n",
    "    tn, fp, fn, tp = confusion_matrix(y_test, preds).ravel()\n",
    "\n",
    "    # Confusion matrix\n",
    "    plot_confusion_matrix(gs, X_test, y_test, cmap=\"Purples\", values_format=\"d\")\n",
    "\n",
    "    plt.title(f\"The Confusion Matrix of {model_name} with {transformer_name}\");\n",
    "\n",
    "    # Evaluate a model\n",
    "    print(f\" Evaluation Metrics \".center(34, \"=\"))\n",
    "    print(f\"Accuracy  ---------- {accuracy_score(y_test, preds)}\")\n",
    "    print(f\"Precision  --------- {precision_score(y_test, preds)}\")\n",
    "    print(f\"Sensitivity  ------- {recall_score(y_test, preds)}\")\n",
    "    print(f\"Specifity  --------- {tn/(tn + fp)}\")"
   ]
  },
  {
   "cell_type": "markdown",
   "id": "fc3d6410",
   "metadata": {},
   "source": [
    "## Baselin Score"
   ]
  },
  {
   "cell_type": "code",
   "execution_count": 8,
   "id": "e62cae5d",
   "metadata": {},
   "outputs": [
    {
     "name": "stdout",
     "output_type": "stream",
     "text": [
      "X shape ---------- (5270,)\n",
      "y shape ---------- (5270,)\n"
     ]
    }
   ],
   "source": [
    "# Define X (features) and y(target)\n",
    "X = df[\"description\"]\n",
    "y = df[\"subreddit\"]\n",
    "X_train, X_test, y_train, y_test = train_test_split(X, y, random_state=42, stratify=y)\n",
    "print(f\"X shape ---------- {X.shape}\")\n",
    "print(f\"y shape ---------- {y.shape}\")"
   ]
  },
  {
   "cell_type": "markdown",
   "id": "5a8f989e",
   "metadata": {},
   "source": [
    "### Baseline accuracy"
   ]
  },
  {
   "cell_type": "code",
   "execution_count": 9,
   "id": "13a2120c",
   "metadata": {},
   "outputs": [
    {
     "data": {
      "text/plain": [
       "0    0.534143\n",
       "1    0.465857\n",
       "Name: subreddit, dtype: float64"
      ]
     },
     "execution_count": 9,
     "metadata": {},
     "output_type": "execute_result"
    }
   ],
   "source": [
    "# Get the ratio of classes\n",
    "y_test.value_counts(normalize=True)"
   ]
  },
  {
   "cell_type": "markdown",
   "id": "ffe4562b",
   "metadata": {},
   "source": [
    "**Baseline accuracy score is 0.53 which is the majority class**"
   ]
  },
  {
   "cell_type": "markdown",
   "id": "6b3a10b7",
   "metadata": {},
   "source": [
    "## AdaBoost Model"
   ]
  },
  {
   "cell_type": "code",
   "execution_count": 10,
   "id": "c8297922",
   "metadata": {},
   "outputs": [],
   "source": [
    "# Instantiate a high biased Decision Tree\n",
    "tree = DecisionTreeClassifier(max_depth=1, random_state=111)"
   ]
  },
  {
   "cell_type": "markdown",
   "id": "ca29a208",
   "metadata": {},
   "source": [
    "### AdaBoost with CountVectorizer"
   ]
  },
  {
   "cell_type": "code",
   "execution_count": 11,
   "id": "e8004084",
   "metadata": {},
   "outputs": [],
   "source": [
    "# Instantiate the pipeline with Logistic Regression and CountVectorizer transformer\n",
    "pipe = Pipeline([\n",
    "    (\"cvec\", CountVectorizer()),\n",
    "    (\"ada\", AdaBoostClassifier(base_estimator=tree, algorithm='SAMME.R'))\n",
    "])"
   ]
  },
  {
   "cell_type": "code",
   "execution_count": 12,
   "id": "fdf73718",
   "metadata": {},
   "outputs": [
    {
     "data": {
      "text/plain": [
       "{'memory': None,\n",
       " 'steps': [('cvec', CountVectorizer()),\n",
       "  ('ada',\n",
       "   AdaBoostClassifier(base_estimator=DecisionTreeClassifier(max_depth=1,\n",
       "                                                            random_state=111)))],\n",
       " 'verbose': False,\n",
       " 'cvec': CountVectorizer(),\n",
       " 'ada': AdaBoostClassifier(base_estimator=DecisionTreeClassifier(max_depth=1,\n",
       "                                                          random_state=111)),\n",
       " 'cvec__analyzer': 'word',\n",
       " 'cvec__binary': False,\n",
       " 'cvec__decode_error': 'strict',\n",
       " 'cvec__dtype': numpy.int64,\n",
       " 'cvec__encoding': 'utf-8',\n",
       " 'cvec__input': 'content',\n",
       " 'cvec__lowercase': True,\n",
       " 'cvec__max_df': 1.0,\n",
       " 'cvec__max_features': None,\n",
       " 'cvec__min_df': 1,\n",
       " 'cvec__ngram_range': (1, 1),\n",
       " 'cvec__preprocessor': None,\n",
       " 'cvec__stop_words': None,\n",
       " 'cvec__strip_accents': None,\n",
       " 'cvec__token_pattern': '(?u)\\\\b\\\\w\\\\w+\\\\b',\n",
       " 'cvec__tokenizer': None,\n",
       " 'cvec__vocabulary': None,\n",
       " 'ada__algorithm': 'SAMME.R',\n",
       " 'ada__base_estimator__ccp_alpha': 0.0,\n",
       " 'ada__base_estimator__class_weight': None,\n",
       " 'ada__base_estimator__criterion': 'gini',\n",
       " 'ada__base_estimator__max_depth': 1,\n",
       " 'ada__base_estimator__max_features': None,\n",
       " 'ada__base_estimator__max_leaf_nodes': None,\n",
       " 'ada__base_estimator__min_impurity_decrease': 0.0,\n",
       " 'ada__base_estimator__min_samples_leaf': 1,\n",
       " 'ada__base_estimator__min_samples_split': 2,\n",
       " 'ada__base_estimator__min_weight_fraction_leaf': 0.0,\n",
       " 'ada__base_estimator__random_state': 111,\n",
       " 'ada__base_estimator__splitter': 'best',\n",
       " 'ada__base_estimator': DecisionTreeClassifier(max_depth=1, random_state=111),\n",
       " 'ada__learning_rate': 1.0,\n",
       " 'ada__n_estimators': 50,\n",
       " 'ada__random_state': None}"
      ]
     },
     "execution_count": 12,
     "metadata": {},
     "output_type": "execute_result"
    }
   ],
   "source": [
    "# Get pipeline params\n",
    "pipe.get_params()"
   ]
  },
  {
   "cell_type": "code",
   "execution_count": 14,
   "id": "146d425a",
   "metadata": {},
   "outputs": [],
   "source": [
    "# Set pipeline params by cvec\n",
    "pipe_params = {\n",
    "    \"cvec__tokenizer\": [None, stem_words],\n",
    "    \"cvec__max_features\": [5_000, 10_000, 20_000, 30_000],\n",
    "    \"cvec__min_df\": [2, 3],\n",
    "    \"cvec__max_df\": [.9, .95],\n",
    "    \"cvec__stop_words\": [None, \"english\"],\n",
    "    \"cvec__ngram_range\": [(1, 1), (1, 2)],\n",
    "    \"ada__learning_rate\": [0.1, 1, 10],\n",
    "    \"ada__n_estimators\": [100]\n",
    "}"
   ]
  },
  {
   "cell_type": "code",
   "execution_count": 15,
   "id": "03995570",
   "metadata": {},
   "outputs": [
    {
     "name": "stdout",
     "output_type": "stream",
     "text": [
      "====================== Summary of AdaBoost Model with CountVectorizer Transformer Evaluation ======================\n",
      "======== The Best Params =========\n",
      "{'ada__learning_rate': 1, 'ada__n_estimators': 100, 'cvec__max_df': 0.9, 'cvec__max_features': 5000, 'cvec__min_df': 2, 'cvec__ngram_range': (1, 2), 'cvec__stop_words': None, 'cvec__tokenizer': <function stem_words at 0x00000216422D1CA0>}\n",
      "\n",
      "========= The Best Score =========\n",
      "0.8747408343868521\n",
      "\n",
      "========== Train Score ===========\n",
      "0.9078947368421053\n",
      "\n",
      "=========== Test Score ===========\n",
      "0.8846737481031867\n"
     ]
    },
    {
     "name": "stderr",
     "output_type": "stream",
     "text": [
      "C:\\Users\\sarvin.farhad\\anaconda3\\lib\\site-packages\\sklearn\\utils\\deprecation.py:87: FutureWarning: Function plot_confusion_matrix is deprecated; Function `plot_confusion_matrix` is deprecated in 1.0 and will be removed in 1.2. Use one of the class methods: ConfusionMatrixDisplay.from_predictions or ConfusionMatrixDisplay.from_estimator.\n",
      "  warnings.warn(msg, category=FutureWarning)\n"
     ]
    },
    {
     "name": "stdout",
     "output_type": "stream",
     "text": [
      "======= Evaluation Metrics =======\n",
      "Accuracy  ---------- 0.8846737481031867\n",
      "Precision  --------- 0.8996539792387543\n",
      "Sensitivity  ------- 0.8469055374592834\n",
      "Specifity  --------- 0.9176136363636364\n"
     ]
    },
    {
     "data": {
      "image/png": "[encoded data removed]",
      "text/plain": [
       "<Figure size 640x480 with 2 Axes>"
      ]
     },
     "metadata": {},
     "output_type": "display_data"
    }
   ],
   "source": [
    "# Get the result of the model with defined parameters in GreadSearch\n",
    "gridsearching(estimator=pipe, param_grid=pipe_params, model_name=\"AdaBoost\", transformer_name=\"CountVectorizer\")"
   ]
  },
  {
   "cell_type": "code",
   "execution_count": 17,
   "id": "a6059dbe",
   "metadata": {},
   "outputs": [
    {
     "name": "stdout",
     "output_type": "stream",
     "text": [
      " Best AdaBoost with CountVectorizer Train Score: 0.9078947368421053\n",
      " Best AdaBoost with CountVectorizer Test Score:  0.8846737481031867\n"
     ]
    }
   ],
   "source": [
    "# Instantiate Countvectorizer with best params \n",
    "cvec = CountVectorizer(max_df=0.9, max_features=5000, min_df=2, ngram_range=(1,2),\n",
    "                       stop_words=None, tokenizer=stem_words)\n",
    "\n",
    "# Fit and transform train data with countvectorizer\n",
    "X_train_cvec = cvec.fit_transform(X_train)\n",
    "\n",
    "# Transform test data with countvectorizer\n",
    "X_test_cvec = cvec.transform(X_test)\n",
    "\n",
    "\n",
    "# Instantiate a high biased Decision Tree\n",
    "tree_cvec = DecisionTreeClassifier(max_depth=1, random_state=111)\n",
    "\n",
    "# Instantiate AdaBoost and fit the model with best params\n",
    "ada_cvec = AdaBoostClassifier(base_estimator=tree_cvec, algorithm='SAMME.R', learning_rate=1, n_estimators=100)\n",
    "ada_cvec.fit(X_train_cvec, y_train)\n",
    "\n",
    "# Check the the accuracy scores again\n",
    "print(f\" Best AdaBoost with CountVectorizer Train Score: {ada_cvec.score(X_train_cvec, y_train)}\")\n",
    "print(f\" Best AdaBoost with CountVectorizer Test Score:  {ada_cvec.score(X_test_cvec, y_test)}\")"
   ]
  },
  {
   "cell_type": "markdown",
   "id": "3ed59e32",
   "metadata": {},
   "source": [
    "### AdaBoost with TfidfVectorizer"
   ]
  },
  {
   "cell_type": "code",
   "execution_count": 16,
   "id": "c6eca157",
   "metadata": {},
   "outputs": [],
   "source": [
    "# Instantiate the pipeline with Logistic Regression and CountVectorizer transformer\n",
    "pipe = Pipeline([\n",
    "    (\"tvec\", TfidfVectorizer()),\n",
    "    (\"ada\", AdaBoostClassifier(base_estimator=tree, algorithm='SAMME.R'))\n",
    "])"
   ]
  },
  {
   "cell_type": "code",
   "execution_count": 17,
   "id": "98dbbbfc",
   "metadata": {},
   "outputs": [
    {
     "data": {
      "text/plain": [
       "{'memory': None,\n",
       " 'steps': [('tvec', TfidfVectorizer()),\n",
       "  ('ada',\n",
       "   AdaBoostClassifier(base_estimator=DecisionTreeClassifier(max_depth=1,\n",
       "                                                            random_state=111)))],\n",
       " 'verbose': False,\n",
       " 'tvec': TfidfVectorizer(),\n",
       " 'ada': AdaBoostClassifier(base_estimator=DecisionTreeClassifier(max_depth=1,\n",
       "                                                          random_state=111)),\n",
       " 'tvec__analyzer': 'word',\n",
       " 'tvec__binary': False,\n",
       " 'tvec__decode_error': 'strict',\n",
       " 'tvec__dtype': numpy.float64,\n",
       " 'tvec__encoding': 'utf-8',\n",
       " 'tvec__input': 'content',\n",
       " 'tvec__lowercase': True,\n",
       " 'tvec__max_df': 1.0,\n",
       " 'tvec__max_features': None,\n",
       " 'tvec__min_df': 1,\n",
       " 'tvec__ngram_range': (1, 1),\n",
       " 'tvec__norm': 'l2',\n",
       " 'tvec__preprocessor': None,\n",
       " 'tvec__smooth_idf': True,\n",
       " 'tvec__stop_words': None,\n",
       " 'tvec__strip_accents': None,\n",
       " 'tvec__sublinear_tf': False,\n",
       " 'tvec__token_pattern': '(?u)\\\\b\\\\w\\\\w+\\\\b',\n",
       " 'tvec__tokenizer': None,\n",
       " 'tvec__use_idf': True,\n",
       " 'tvec__vocabulary': None,\n",
       " 'ada__algorithm': 'SAMME.R',\n",
       " 'ada__base_estimator__ccp_alpha': 0.0,\n",
       " 'ada__base_estimator__class_weight': None,\n",
       " 'ada__base_estimator__criterion': 'gini',\n",
       " 'ada__base_estimator__max_depth': 1,\n",
       " 'ada__base_estimator__max_features': None,\n",
       " 'ada__base_estimator__max_leaf_nodes': None,\n",
       " 'ada__base_estimator__min_impurity_decrease': 0.0,\n",
       " 'ada__base_estimator__min_samples_leaf': 1,\n",
       " 'ada__base_estimator__min_samples_split': 2,\n",
       " 'ada__base_estimator__min_weight_fraction_leaf': 0.0,\n",
       " 'ada__base_estimator__random_state': 111,\n",
       " 'ada__base_estimator__splitter': 'best',\n",
       " 'ada__base_estimator': DecisionTreeClassifier(max_depth=1, random_state=111),\n",
       " 'ada__learning_rate': 1.0,\n",
       " 'ada__n_estimators': 50,\n",
       " 'ada__random_state': None}"
      ]
     },
     "execution_count": 17,
     "metadata": {},
     "output_type": "execute_result"
    }
   ],
   "source": [
    "# Get pipeline params\n",
    "pipe.get_params()"
   ]
  },
  {
   "cell_type": "code",
   "execution_count": 18,
   "id": "3a3342b1",
   "metadata": {},
   "outputs": [],
   "source": [
    "# Set pipeline params by cvec\n",
    "pipe_params = {\n",
    "    \"tvec__tokenizer\": [None, stem_words],\n",
    "    \"tvec__max_features\": [5_000, 10_000, 20_000, 30_000],\n",
    "    \"tvec__min_df\": [2, 3],\n",
    "    \"tvec__max_df\": [.9, .95],\n",
    "    \"tvec__stop_words\": [None, \"english\"],\n",
    "    \"tvec__ngram_range\": [(1, 1), (1, 2)],\n",
    "    \"ada__learning_rate\": [0.1, 1, 10],\n",
    "    \"ada__n_estimators\": [100]\n",
    "}"
   ]
  },
  {
   "cell_type": "code",
   "execution_count": 19,
   "id": "b5e21868",
   "metadata": {},
   "outputs": [
    {
     "name": "stdout",
     "output_type": "stream",
     "text": [
      "====================== Summary of AdaBoost Model with TfidfVectorizer Transformer Evaluation ======================\n",
      "======== The Best Params =========\n",
      "{'ada__learning_rate': 1, 'ada__n_estimators': 100, 'tvec__max_df': 0.95, 'tvec__max_features': 5000, 'tvec__min_df': 3, 'tvec__ngram_range': (1, 2), 'tvec__stop_words': 'english', 'tvec__tokenizer': None}\n",
      "\n",
      "========= The Best Score =========\n",
      "0.8694259789722991\n",
      "\n",
      "========== Train Score ===========\n",
      "0.9192813765182186\n",
      "\n",
      "=========== Test Score ===========\n",
      "0.8937784522003035\n"
     ]
    },
    {
     "name": "stderr",
     "output_type": "stream",
     "text": [
      "C:\\Users\\sarvin.farhad\\anaconda3\\lib\\site-packages\\sklearn\\utils\\deprecation.py:87: FutureWarning: Function plot_confusion_matrix is deprecated; Function `plot_confusion_matrix` is deprecated in 1.0 and will be removed in 1.2. Use one of the class methods: ConfusionMatrixDisplay.from_predictions or ConfusionMatrixDisplay.from_estimator.\n",
      "  warnings.warn(msg, category=FutureWarning)\n"
     ]
    },
    {
     "name": "stdout",
     "output_type": "stream",
     "text": [
      "======= Evaluation Metrics =======\n",
      "Accuracy  ---------- 0.8937784522003035\n",
      "Precision  --------- 0.895\n",
      "Sensitivity  ------- 0.8745928338762216\n",
      "Specifity  --------- 0.9105113636363636\n"
     ]
    },
    {
     "data": {
      "image/png": "[encoded data removed]",
      "text/plain": [
       "<Figure size 640x480 with 2 Axes>"
      ]
     },
     "metadata": {},
     "output_type": "display_data"
    }
   ],
   "source": [
    "# Get the result of the model with defined parameters in GreadSearch\n",
    "gridsearching(estimator=pipe, param_grid=pipe_params, model_name=\"AdaBoost\", transformer_name=\"TfidfVectorizer\")"
   ]
  },
  {
   "cell_type": "code",
   "execution_count": 18,
   "id": "e198da45",
   "metadata": {},
   "outputs": [
    {
     "name": "stdout",
     "output_type": "stream",
     "text": [
      " Best AdaBoost with TfidfVectorizer Train Score: 0.9192813765182186\n",
      " Best AdaBoost with TfidfVectorizer Test Score:  0.8937784522003035\n"
     ]
    }
   ],
   "source": [
    "# Instantiate Countvectorizer with best params \n",
    "tvec = TfidfVectorizer(max_df=0.95, max_features=5000, min_df=3, ngram_range=(1,2),\n",
    "                       stop_words=\"english\", tokenizer=None)\n",
    "\n",
    "# Fit and transform train data with countvectorizer\n",
    "X_train_tvec = tvec.fit_transform(X_train)\n",
    "\n",
    "# Transform test data with countvectorizer\n",
    "X_test_tvec = tvec.transform(X_test)\n",
    "\n",
    "# Instantiate a high biased Decision Tree\n",
    "tree_tvec = DecisionTreeClassifier(max_depth=1, random_state=111)\n",
    "\n",
    "# Instantiate AdaBoost and fit the model with best params\n",
    "ada_tvec = AdaBoostClassifier(base_estimator=tree_tvec, algorithm='SAMME.R', learning_rate=1, n_estimators=100)\n",
    "ada_tvec.fit(X_train_tvec, y_train)\n",
    "\n",
    "# Check the the accuracy scores again\n",
    "print(f\" Best AdaBoost with TfidfVectorizer Train Score: {ada_tvec.score(X_train_tvec, y_train)}\")\n",
    "print(f\" Best AdaBoost with TfidfVectorizer Test Score:  {ada_tvec.score(X_test_tvec, y_test)}\")"
   ]
  },
  {
   "cell_type": "markdown",
   "id": "bf987c1a",
   "metadata": {},
   "source": [
    "## GradientBoost Model"
   ]
  },
  {
   "cell_type": "markdown",
   "id": "d0e5b6d6",
   "metadata": {},
   "source": [
    "### GradientBoost with CountVectorizer"
   ]
  },
  {
   "cell_type": "code",
   "execution_count": 10,
   "id": "d38448fd",
   "metadata": {},
   "outputs": [],
   "source": [
    "# Instantiate the pipeline with Logistic Regression and CountVectorizer transformer\n",
    "pipe = Pipeline([\n",
    "    (\"cvec\", CountVectorizer()),\n",
    "    (\"gb\", GradientBoostingClassifier(random_state=111))\n",
    "])"
   ]
  },
  {
   "cell_type": "code",
   "execution_count": 11,
   "id": "5e08a76e",
   "metadata": {},
   "outputs": [
    {
     "data": {
      "text/plain": [
       "{'memory': None,\n",
       " 'steps': [('cvec', CountVectorizer()),\n",
       "  ('gb', GradientBoostingClassifier(random_state=111))],\n",
       " 'verbose': False,\n",
       " 'cvec': CountVectorizer(),\n",
       " 'gb': GradientBoostingClassifier(random_state=111),\n",
       " 'cvec__analyzer': 'word',\n",
       " 'cvec__binary': False,\n",
       " 'cvec__decode_error': 'strict',\n",
       " 'cvec__dtype': numpy.int64,\n",
       " 'cvec__encoding': 'utf-8',\n",
       " 'cvec__input': 'content',\n",
       " 'cvec__lowercase': True,\n",
       " 'cvec__max_df': 1.0,\n",
       " 'cvec__max_features': None,\n",
       " 'cvec__min_df': 1,\n",
       " 'cvec__ngram_range': (1, 1),\n",
       " 'cvec__preprocessor': None,\n",
       " 'cvec__stop_words': None,\n",
       " 'cvec__strip_accents': None,\n",
       " 'cvec__token_pattern': '(?u)\\\\b\\\\w\\\\w+\\\\b',\n",
       " 'cvec__tokenizer': None,\n",
       " 'cvec__vocabulary': None,\n",
       " 'gb__ccp_alpha': 0.0,\n",
       " 'gb__criterion': 'friedman_mse',\n",
       " 'gb__init': None,\n",
       " 'gb__learning_rate': 0.1,\n",
       " 'gb__loss': 'deviance',\n",
       " 'gb__max_depth': 3,\n",
       " 'gb__max_features': None,\n",
       " 'gb__max_leaf_nodes': None,\n",
       " 'gb__min_impurity_decrease': 0.0,\n",
       " 'gb__min_samples_leaf': 1,\n",
       " 'gb__min_samples_split': 2,\n",
       " 'gb__min_weight_fraction_leaf': 0.0,\n",
       " 'gb__n_estimators': 100,\n",
       " 'gb__n_iter_no_change': None,\n",
       " 'gb__random_state': 111,\n",
       " 'gb__subsample': 1.0,\n",
       " 'gb__tol': 0.0001,\n",
       " 'gb__validation_fraction': 0.1,\n",
       " 'gb__verbose': 0,\n",
       " 'gb__warm_start': False}"
      ]
     },
     "execution_count": 11,
     "metadata": {},
     "output_type": "execute_result"
    }
   ],
   "source": [
    "# Get pipeline params\n",
    "pipe.get_params()"
   ]
  },
  {
   "cell_type": "code",
   "execution_count": 12,
   "id": "da69011f",
   "metadata": {},
   "outputs": [],
   "source": [
    "# Set pipeline params by cvec\n",
    "pipe_params = {\n",
    "    \"cvec__tokenizer\": [None, stem_words],\n",
    "    \"cvec__max_features\": [5_000, 10_000, 20_000, 30_000],\n",
    "    \"cvec__min_df\": [2, 3],\n",
    "    \"cvec__max_df\": [.9, .95],\n",
    "    \"cvec__stop_words\": [None, \"english\"],\n",
    "    \"cvec__ngram_range\": [(1, 1), (1, 2)],\n",
    "    \"gb__learning_rate\": [0.1, 1, 10],\n",
    "    \"gb__max_depth\": [None, 1, 2, 3, 4],\n",
    "    \"gb__n_estimators\": [100]\n",
    "}"
   ]
  },
  {
   "cell_type": "code",
   "execution_count": 13,
   "id": "37bd09b2",
   "metadata": {},
   "outputs": [
    {
     "name": "stdout",
     "output_type": "stream",
     "text": [
      "==================== Summary of GradientBoost Model with CountVectorizer Transformer Evaluation ===================\n",
      "======== The Best Params =========\n",
      "{'cvec__max_df': 0.9, 'cvec__max_features': 5000, 'cvec__min_df': 2, 'cvec__ngram_range': (1, 2), 'cvec__stop_words': None, 'cvec__tokenizer': <function stem_words at 0x000001E7773D1DC0>, 'gb__learning_rate': 0.1, 'gb__max_depth': 3, 'gb__n_estimators': 100}\n",
      "\n",
      "========= The Best Score =========\n",
      "0.885371185328618\n",
      "\n",
      "========== Train Score ===========\n",
      "0.9139676113360324\n",
      "\n",
      "=========== Test Score ===========\n",
      "0.8983308042488619\n"
     ]
    },
    {
     "name": "stderr",
     "output_type": "stream",
     "text": [
      "C:\\Users\\sarvin.farhad\\anaconda3\\lib\\site-packages\\sklearn\\utils\\deprecation.py:87: FutureWarning: Function plot_confusion_matrix is deprecated; Function `plot_confusion_matrix` is deprecated in 1.0 and will be removed in 1.2. Use one of the class methods: ConfusionMatrixDisplay.from_predictions or ConfusionMatrixDisplay.from_estimator.\n",
      "  warnings.warn(msg, category=FutureWarning)\n"
     ]
    },
    {
     "name": "stdout",
     "output_type": "stream",
     "text": [
      "======= Evaluation Metrics =======\n",
      "Accuracy  ---------- 0.8983308042488619\n",
      "Precision  --------- 0.9166666666666666\n",
      "Sensitivity  ------- 0.8599348534201955\n",
      "Specifity  --------- 0.9318181818181818\n"
     ]
    },
    {
     "data": {
      "image/png": "[encoded data removed]",
      "text/plain": [
       "<Figure size 640x480 with 2 Axes>"
      ]
     },
     "metadata": {},
     "output_type": "display_data"
    }
   ],
   "source": [
    "# Get the result of the model with defined parameters in GreadSearch\n",
    "gridsearching(estimator=pipe, param_grid=pipe_params, model_name=\"GradientBoost\", transformer_name=\"CountVectorizer\")"
   ]
  },
  {
   "cell_type": "code",
   "execution_count": 28,
   "id": "612f2f5c",
   "metadata": {},
   "outputs": [
    {
     "name": "stdout",
     "output_type": "stream",
     "text": [
      " Best GradientBoost with CountVectorizer Train Score: 0.9139676113360324\n",
      " Best GradientBoost with CountVectorizer Test Score:  0.8983308042488619\n"
     ]
    }
   ],
   "source": [
    "# Instantiate Countvectorizer with best params \n",
    "cvec = CountVectorizer(max_df=0.9, max_features=5000, min_df=2, ngram_range=(1,2),\n",
    "                       stop_words=None, tokenizer=stem_words)\n",
    "\n",
    "# Fit and transform train data with countvectorizer\n",
    "X_train_cvec = cvec.fit_transform(X_train)\n",
    "\n",
    "# Transform test data with countvectorizer\n",
    "X_test_cvec = cvec.transform(X_test)\n",
    "\n",
    "# Instantiate GradientBoost and fit the model with best params\n",
    "gb_cvec = GradientBoostingClassifier(random_state=111, learning_rate=0.1, max_depth=3, n_estimators=100)\n",
    "gb_cvec.fit(X_train_cvec, y_train)\n",
    "\n",
    "# Check the the accuracy scores again\n",
    "print(f\" Best GradientBoost with CountVectorizer Train Score: {gb_cvec.score(X_train_cvec, y_train)}\")\n",
    "print(f\" Best GradientBoost with CountVectorizer Test Score:  {gb_cvec.score(X_test_cvec, y_test)}\")"
   ]
  },
  {
   "cell_type": "markdown",
   "id": "e5d40b02",
   "metadata": {},
   "source": [
    "### GradientBoost with TfidfVectorizer"
   ]
  },
  {
   "cell_type": "code",
   "execution_count": 10,
   "id": "5f5e85a8",
   "metadata": {},
   "outputs": [],
   "source": [
    "# Instantiate the pipeline with Logistic Regression and CountVectorizer transformer\n",
    "pipe = Pipeline([\n",
    "    (\"cvec\", TfidfVectorizer()),\n",
    "    (\"gb\", GradientBoostingClassifier(random_state=111))\n",
    "])"
   ]
  },
  {
   "cell_type": "code",
   "execution_count": 11,
   "id": "10993a66",
   "metadata": {},
   "outputs": [
    {
     "data": {
      "text/plain": [
       "{'memory': None,\n",
       " 'steps': [('tvec', TfidfVectorizer()),\n",
       "  ('gb', GradientBoostingClassifier(random_state=111))],\n",
       " 'verbose': False,\n",
       " 'tvec': TfidfVectorizer(),\n",
       " 'gb': GradientBoostingClassifier(random_state=111),\n",
       " 'tvec__analyzer': 'word',\n",
       " 'tvec__binary': False,\n",
       " 'tvec__decode_error': 'strict',\n",
       " 'tvec__dtype': numpy.float64,\n",
       " 'tvec__encoding': 'utf-8',\n",
       " 'tvec__input': 'content',\n",
       " 'tvec__lowercase': True,\n",
       " 'tvec__max_df': 1.0,\n",
       " 'tvec__max_features': None,\n",
       " 'tvec__min_df': 1,\n",
       " 'tvec__ngram_range': (1, 1),\n",
       " 'tvec__norm': 'l2',\n",
       " 'tvec__preprocessor': None,\n",
       " 'tvec__smooth_idf': True,\n",
       " 'tvec__stop_words': None,\n",
       " 'tvec__strip_accents': None,\n",
       " 'tvec__sublinear_tf': False,\n",
       " 'tvec__token_pattern': '(?u)\\\\b\\\\w\\\\w+\\\\b',\n",
       " 'tvec__tokenizer': None,\n",
       " 'tvec__use_idf': True,\n",
       " 'tvec__vocabulary': None,\n",
       " 'gb__ccp_alpha': 0.0,\n",
       " 'gb__criterion': 'friedman_mse',\n",
       " 'gb__init': None,\n",
       " 'gb__learning_rate': 0.1,\n",
       " 'gb__loss': 'deviance',\n",
       " 'gb__max_depth': 3,\n",
       " 'gb__max_features': None,\n",
       " 'gb__max_leaf_nodes': None,\n",
       " 'gb__min_impurity_decrease': 0.0,\n",
       " 'gb__min_samples_leaf': 1,\n",
       " 'gb__min_samples_split': 2,\n",
       " 'gb__min_weight_fraction_leaf': 0.0,\n",
       " 'gb__n_estimators': 100,\n",
       " 'gb__n_iter_no_change': None,\n",
       " 'gb__random_state': 111,\n",
       " 'gb__subsample': 1.0,\n",
       " 'gb__tol': 0.0001,\n",
       " 'gb__validation_fraction': 0.1,\n",
       " 'gb__verbose': 0,\n",
       " 'gb__warm_start': False}"
      ]
     },
     "execution_count": 11,
     "metadata": {},
     "output_type": "execute_result"
    }
   ],
   "source": [
    "# Get pipeline params\n",
    "pipe.get_params()"
   ]
  },
  {
   "cell_type": "code",
   "execution_count": 12,
   "id": "f756c961",
   "metadata": {},
   "outputs": [],
   "source": [
    "# Set pipeline params by cvec\n",
    "pipe_params = {\n",
    "    \"tvec__tokenizer\": [None, stem_words],\n",
    "    \"tvec__max_features\": [5_000, 10_000, 20_000, 30_000],\n",
    "    \"tvec__min_df\": [2, 3],\n",
    "    \"tvec__max_df\": [.9, .95],\n",
    "    \"tvec__stop_words\": [None, \"english\"],\n",
    "    \"tvec__ngram_range\": [(1, 1), (1, 2)],\n",
    "    \"gb__learning_rate\": [0.1, 1, 10],\n",
    "    \"gb__max_depth\": [None, 1, 2, 3, 4],\n",
    "    \"gb__n_estimators\": [100]\n",
    "}"
   ]
  },
  {
   "cell_type": "code",
   "execution_count": 13,
   "id": "2a8f68aa",
   "metadata": {},
   "outputs": [
    {
     "name": "stdout",
     "output_type": "stream",
     "text": [
      "==================== Summary of GradientBoost Model with TfidfVectorizer Transformer Evaluation ===================\n",
      "======== The Best Params =========\n",
      "{'gb__learning_rate': 0.1, 'gb__max_depth': 4, 'gb__n_estimators': 100, 'tvec__max_df': 0.95, 'tvec__max_features': 5000, 'tvec__min_df': 3, 'tvec__ngram_range': (1, 2), 'tvec__stop_words': None, 'tvec__tokenizer': <function stem_words at 0x000002659ED0C940>}\n",
      "\n",
      "========= The Best Score =========\n",
      "0.8805671398166076\n",
      "\n",
      "========== Train Score ===========\n",
      "0.9552125506072875\n",
      "\n",
      "=========== Test Score ===========\n",
      "0.8952959028831563\n"
     ]
    },
    {
     "name": "stderr",
     "output_type": "stream",
     "text": [
      "C:\\Users\\sarvin.farhad\\anaconda3\\lib\\site-packages\\sklearn\\utils\\deprecation.py:87: FutureWarning: Function plot_confusion_matrix is deprecated; Function `plot_confusion_matrix` is deprecated in 1.0 and will be removed in 1.2. Use one of the class methods: ConfusionMatrixDisplay.from_predictions or ConfusionMatrixDisplay.from_estimator.\n",
      "  warnings.warn(msg, category=FutureWarning)\n"
     ]
    },
    {
     "name": "stdout",
     "output_type": "stream",
     "text": [
      "======= Evaluation Metrics =======\n",
      "Accuracy  ---------- 0.8952959028831563\n",
      "Precision  --------- 0.9204946996466431\n",
      "Sensitivity  ------- 0.8485342019543974\n",
      "Specifity  --------- 0.9360795454545454\n"
     ]
    },
    {
     "data": {
      "image/png": "[encoded data removed]",
      "text/plain": [
       "<Figure size 640x480 with 2 Axes>"
      ]
     },
     "metadata": {},
     "output_type": "display_data"
    }
   ],
   "source": [
    "# Get the result of the model with defined parameters in GreadSearch\n",
    "gridsearching(estimator=pipe, param_grid=pipe_params, model_name=\"GradientBoost\", transformer_name=\"TfidfVectorizer\")"
   ]
  },
  {
   "cell_type": "code",
   "execution_count": 29,
   "id": "16cb5ea7",
   "metadata": {},
   "outputs": [
    {
     "name": "stdout",
     "output_type": "stream",
     "text": [
      " Best GradientBoost with TfidfVectorizer Train Score: 0.9552125506072875\n",
      " Best GradientBoost with TfidfVectorizer Test Score:  0.8952959028831563\n"
     ]
    }
   ],
   "source": [
    "# Instantiate Countvectorizer with best params \n",
    "tvec = TfidfVectorizer(max_df=0.95, max_features=5000, min_df=3, ngram_range=(1,2),\n",
    "                       stop_words=None, tokenizer=stem_words)\n",
    "\n",
    "# Fit and transform train data with countvectorizer\n",
    "X_train_tvec = tvec.fit_transform(X_train)\n",
    "\n",
    "# Transform test data with countvectorizer\n",
    "X_test_tvec = tvec.transform(X_test)\n",
    "\n",
    "# Instantiate a high biased Decision Tree\n",
    "tree_tvec = DecisionTreeClassifier(max_depth=1, random_state=111)\n",
    "\n",
    "# Instantiate GradientBoost and fit the model with best params\n",
    "gb_tvec = GradientBoostingClassifier(random_state=111, learning_rate=0.1, max_depth=4, n_estimators=100)\n",
    "gb_tvec.fit(X_train_tvec, y_train)\n",
    "\n",
    "# Check the the accuracy scores again\n",
    "print(f\" Best GradientBoost with TfidfVectorizer Train Score: {gb_tvec.score(X_train_tvec, y_train)}\")\n",
    "print(f\" Best GradientBoost with TfidfVectorizer Test Score:  {gb_tvec.score(X_test_tvec, y_test)}\")"
   ]
  },
  {
   "cell_type": "markdown",
   "id": "0599c558",
   "metadata": {},
   "source": [
    "## XGBoost Model"
   ]
  },
  {
   "cell_type": "markdown",
   "id": "c29dd0c4",
   "metadata": {},
   "source": [
    "### XGBoost with CountVectorizer"
   ]
  },
  {
   "cell_type": "code",
   "execution_count": 11,
   "id": "3f7ad1f8",
   "metadata": {},
   "outputs": [],
   "source": [
    "# Instantiate the pipeline with Logistic Regression and CountVectorizer transformer\n",
    "pipe = Pipeline([\n",
    "    (\"cvec\", CountVectorizer()),\n",
    "    (\"xgb\", xgb.XGBClassifier(random_state=111))\n",
    "])"
   ]
  },
  {
   "cell_type": "code",
   "execution_count": 12,
   "id": "b2164a0c",
   "metadata": {},
   "outputs": [
    {
     "data": {
      "text/plain": [
       "{'memory': None,\n",
       " 'steps': [('cvec', CountVectorizer()),\n",
       "  ('xgb',\n",
       "   XGBClassifier(base_score=None, booster=None, callbacks=None,\n",
       "                 colsample_bylevel=None, colsample_bynode=None,\n",
       "                 colsample_bytree=None, early_stopping_rounds=None,\n",
       "                 enable_categorical=False, eval_metric=None, feature_types=None,\n",
       "                 gamma=None, gpu_id=None, grow_policy=None, importance_type=None,\n",
       "                 interaction_constraints=None, learning_rate=None, max_bin=None,\n",
       "                 max_cat_threshold=None, max_cat_to_onehot=None,\n",
       "                 max_delta_step=None, max_depth=None, max_leaves=None,\n",
       "                 min_child_weight=None, missing=nan, monotone_constraints=None,\n",
       "                 n_estimators=100, n_jobs=None, num_parallel_tree=None,\n",
       "                 predictor=None, random_state=111, ...))],\n",
       " 'verbose': False,\n",
       " 'cvec': CountVectorizer(),\n",
       " 'xgb': XGBClassifier(base_score=None, booster=None, callbacks=None,\n",
       "               colsample_bylevel=None, colsample_bynode=None,\n",
       "               colsample_bytree=None, early_stopping_rounds=None,\n",
       "               enable_categorical=False, eval_metric=None, feature_types=None,\n",
       "               gamma=None, gpu_id=None, grow_policy=None, importance_type=None,\n",
       "               interaction_constraints=None, learning_rate=None, max_bin=None,\n",
       "               max_cat_threshold=None, max_cat_to_onehot=None,\n",
       "               max_delta_step=None, max_depth=None, max_leaves=None,\n",
       "               min_child_weight=None, missing=nan, monotone_constraints=None,\n",
       "               n_estimators=100, n_jobs=None, num_parallel_tree=None,\n",
       "               predictor=None, random_state=111, ...),\n",
       " 'cvec__analyzer': 'word',\n",
       " 'cvec__binary': False,\n",
       " 'cvec__decode_error': 'strict',\n",
       " 'cvec__dtype': numpy.int64,\n",
       " 'cvec__encoding': 'utf-8',\n",
       " 'cvec__input': 'content',\n",
       " 'cvec__lowercase': True,\n",
       " 'cvec__max_df': 1.0,\n",
       " 'cvec__max_features': None,\n",
       " 'cvec__min_df': 1,\n",
       " 'cvec__ngram_range': (1, 1),\n",
       " 'cvec__preprocessor': None,\n",
       " 'cvec__stop_words': None,\n",
       " 'cvec__strip_accents': None,\n",
       " 'cvec__token_pattern': '(?u)\\\\b\\\\w\\\\w+\\\\b',\n",
       " 'cvec__tokenizer': None,\n",
       " 'cvec__vocabulary': None,\n",
       " 'xgb__objective': 'binary:logistic',\n",
       " 'xgb__use_label_encoder': None,\n",
       " 'xgb__base_score': None,\n",
       " 'xgb__booster': None,\n",
       " 'xgb__callbacks': None,\n",
       " 'xgb__colsample_bylevel': None,\n",
       " 'xgb__colsample_bynode': None,\n",
       " 'xgb__colsample_bytree': None,\n",
       " 'xgb__early_stopping_rounds': None,\n",
       " 'xgb__enable_categorical': False,\n",
       " 'xgb__eval_metric': None,\n",
       " 'xgb__feature_types': None,\n",
       " 'xgb__gamma': None,\n",
       " 'xgb__gpu_id': None,\n",
       " 'xgb__grow_policy': None,\n",
       " 'xgb__importance_type': None,\n",
       " 'xgb__interaction_constraints': None,\n",
       " 'xgb__learning_rate': None,\n",
       " 'xgb__max_bin': None,\n",
       " 'xgb__max_cat_threshold': None,\n",
       " 'xgb__max_cat_to_onehot': None,\n",
       " 'xgb__max_delta_step': None,\n",
       " 'xgb__max_depth': None,\n",
       " 'xgb__max_leaves': None,\n",
       " 'xgb__min_child_weight': None,\n",
       " 'xgb__missing': nan,\n",
       " 'xgb__monotone_constraints': None,\n",
       " 'xgb__n_estimators': 100,\n",
       " 'xgb__n_jobs': None,\n",
       " 'xgb__num_parallel_tree': None,\n",
       " 'xgb__predictor': None,\n",
       " 'xgb__random_state': 111,\n",
       " 'xgb__reg_alpha': None,\n",
       " 'xgb__reg_lambda': None,\n",
       " 'xgb__sampling_method': None,\n",
       " 'xgb__scale_pos_weight': None,\n",
       " 'xgb__subsample': None,\n",
       " 'xgb__tree_method': None,\n",
       " 'xgb__validate_parameters': None,\n",
       " 'xgb__verbosity': None}"
      ]
     },
     "execution_count": 12,
     "metadata": {},
     "output_type": "execute_result"
    }
   ],
   "source": [
    "# Get pipeline params\n",
    "pipe.get_params()"
   ]
  },
  {
   "cell_type": "code",
   "execution_count": 13,
   "id": "08073974",
   "metadata": {},
   "outputs": [],
   "source": [
    "# Set pipeline params by cvec\n",
    "pipe_params = {\n",
    "    \"cvec__tokenizer\": [None, stem_words],\n",
    "    \"cvec__max_features\": [5_000, 10_000, 20_000, 30_000],\n",
    "    \"cvec__min_df\": [2, 3],\n",
    "    \"cvec__max_df\": [.9, .95],\n",
    "    \"cvec__stop_words\": [None, \"english\"],\n",
    "    \"cvec__ngram_range\": [(1, 1), (1, 2)],\n",
    "    \"xgb__learning_rate\": [0.1, 1, 10],\n",
    "    \"xgb__max_depth\": [None, 1, 2, 3, 4],\n",
    "    \"xgb__n_estimators\": [100]\n",
    "}"
   ]
  },
  {
   "cell_type": "code",
   "execution_count": 15,
   "id": "3319d7f8",
   "metadata": {},
   "outputs": [
    {
     "name": "stdout",
     "output_type": "stream",
     "text": [
      "======================= Summary of XGBoost Model with CountVectorizer Transformer Evaluation ======================\n"
     ]
    },
    {
     "name": "stderr",
     "output_type": "stream",
     "text": [
      "C:\\Users\\sarvin.farhad\\anaconda3\\lib\\site-packages\\sklearn\\feature_extraction\\text.py:396: UserWarning: Your stop_words may be inconsistent with your preprocessing. Tokenizing the stop words generated tokens [' ', 'b', 'c', 'd', 'e', 'f', 'g', 'h', 'k', 'l', 'm', 'n', 'o', 'p', 'r', 's', 't', 'u', 'v', 'w', 'x', 'y'] not in stop_words.\n",
      "  warnings.warn(\n"
     ]
    },
    {
     "name": "stdout",
     "output_type": "stream",
     "text": [
      "======== The Best Params =========\n",
      "{'cvec__max_df': 0.9, 'cvec__max_features': 5000, 'cvec__min_df': 2, 'cvec__ngram_range': (1, 2), 'cvec__stop_words': 'english', 'cvec__tokenizer': <function stem_words at 0x000002C142F7CAF0>, 'xgb__learning_rate': 0.1, 'xgb__max_depth': 4, 'xgb__n_estimators': 100}\n",
      "\n",
      "========= The Best Score =========\n",
      "0.8813243930931843\n",
      "\n",
      "========== Train Score ===========\n",
      "0.9337044534412956\n",
      "\n",
      "=========== Test Score ===========\n",
      "0.8930197268588771\n"
     ]
    },
    {
     "name": "stderr",
     "output_type": "stream",
     "text": [
      "C:\\Users\\sarvin.farhad\\anaconda3\\lib\\site-packages\\sklearn\\utils\\deprecation.py:87: FutureWarning: Function plot_confusion_matrix is deprecated; Function `plot_confusion_matrix` is deprecated in 1.0 and will be removed in 1.2. Use one of the class methods: ConfusionMatrixDisplay.from_predictions or ConfusionMatrixDisplay.from_estimator.\n",
      "  warnings.warn(msg, category=FutureWarning)\n"
     ]
    },
    {
     "name": "stdout",
     "output_type": "stream",
     "text": [
      "======= Evaluation Metrics =======\n",
      "Accuracy  ---------- 0.8930197268588771\n",
      "Precision  --------- 0.9042735042735043\n",
      "Sensitivity  ------- 0.8615635179153095\n",
      "Specifity  --------- 0.9204545454545454\n"
     ]
    },
    {
     "data": {
      "image/png": "[encoded data removed]",
      "text/plain": [
       "<Figure size 640x480 with 2 Axes>"
      ]
     },
     "metadata": {},
     "output_type": "display_data"
    }
   ],
   "source": [
    "# Get the result of the model with defined parameters in GreadSearch\n",
    "gridsearching(estimator=pipe, param_grid=pipe_params, model_name=\"XGBoost\", transformer_name=\"CountVectorizer\")"
   ]
  },
  {
   "cell_type": "code",
   "execution_count": 16,
   "id": "9b8d472b",
   "metadata": {},
   "outputs": [
    {
     "name": "stderr",
     "output_type": "stream",
     "text": [
      "C:\\Users\\sarvin.farhad\\anaconda3\\lib\\site-packages\\sklearn\\feature_extraction\\text.py:396: UserWarning: Your stop_words may be inconsistent with your preprocessing. Tokenizing the stop words generated tokens [' ', 'b', 'c', 'd', 'e', 'f', 'g', 'h', 'k', 'l', 'm', 'n', 'o', 'p', 'r', 's', 't', 'u', 'v', 'w', 'x', 'y'] not in stop_words.\n",
      "  warnings.warn(\n"
     ]
    },
    {
     "name": "stdout",
     "output_type": "stream",
     "text": [
      "[22:26:11] WARNING: C:\\Users\\dev-admin\\croot2\\xgboost-split_1675461376218\\work\\src\\learner.cc:767: \n",
      "Parameters: { \"n_estimator\" } are not used.\n",
      "\n",
      " Best XGBoost with CountVectorizer Train Score: 0.9337044534412956\n",
      " Best XGBoost with CountVectorizer Test Score:  0.8930197268588771\n"
     ]
    }
   ],
   "source": [
    "# Instantiate Countvectorizer with best params \n",
    "cvec = CountVectorizer(max_df=0.9, max_features=5000, min_df=2, ngram_range=(1,2),\n",
    "                       stop_words=\"english\", tokenizer=stem_words)\n",
    "\n",
    "# Fit and transform train data with countvectorizer\n",
    "X_train_cvec = cvec.fit_transform(X_train)\n",
    "\n",
    "# Transform test data with countvectorizer\n",
    "X_test_cvec = cvec.transform(X_test)\n",
    "\n",
    "# Instantiate XGBoost and fit the model with best params\n",
    "xgb_cvec = xgb.XGBClassifier(random_state=111, learning_rate=0.1, max_depth=4, n_estimator=100)\n",
    "xgb_cvec.fit(X_train_cvec, y_train)\n",
    "\n",
    "# Check the the accuracy scores again\n",
    "print(f\" Best XGBoost with CountVectorizer Train Score: {xgb_cvec.score(X_train_cvec, y_train)}\")\n",
    "print(f\" Best XGBoost with CountVectorizer Test Score:  {xgb_cvec.score(X_test_cvec, y_test)}\")"
   ]
  },
  {
   "cell_type": "markdown",
   "id": "eaf39bd4",
   "metadata": {},
   "source": [
    "### XGBoost with TfidfVectorizer"
   ]
  },
  {
   "cell_type": "code",
   "execution_count": 23,
   "id": "41bad584",
   "metadata": {},
   "outputs": [],
   "source": [
    "# Instantiate the pipeline with Logistic Regression and CountVectorizer transformer\n",
    "pipe = Pipeline([\n",
    "    (\"tvec\", TfidfVectorizer()),\n",
    "    (\"xgb\", xgb.XGBClassifier(random_state=111))\n",
    "])"
   ]
  },
  {
   "cell_type": "code",
   "execution_count": 24,
   "id": "bcdbac29",
   "metadata": {},
   "outputs": [
    {
     "data": {
      "text/plain": [
       "{'memory': None,\n",
       " 'steps': [('tvec', TfidfVectorizer()),\n",
       "  ('xgb',\n",
       "   XGBClassifier(base_score=None, booster=None, callbacks=None,\n",
       "                 colsample_bylevel=None, colsample_bynode=None,\n",
       "                 colsample_bytree=None, early_stopping_rounds=None,\n",
       "                 enable_categorical=False, eval_metric=None, feature_types=None,\n",
       "                 gamma=None, gpu_id=None, grow_policy=None, importance_type=None,\n",
       "                 interaction_constraints=None, learning_rate=None, max_bin=None,\n",
       "                 max_cat_threshold=None, max_cat_to_onehot=None,\n",
       "                 max_delta_step=None, max_depth=None, max_leaves=None,\n",
       "                 min_child_weight=None, missing=nan, monotone_constraints=None,\n",
       "                 n_estimators=100, n_jobs=None, num_parallel_tree=None,\n",
       "                 predictor=None, random_state=111, ...))],\n",
       " 'verbose': False,\n",
       " 'tvec': TfidfVectorizer(),\n",
       " 'xgb': XGBClassifier(base_score=None, booster=None, callbacks=None,\n",
       "               colsample_bylevel=None, colsample_bynode=None,\n",
       "               colsample_bytree=None, early_stopping_rounds=None,\n",
       "               enable_categorical=False, eval_metric=None, feature_types=None,\n",
       "               gamma=None, gpu_id=None, grow_policy=None, importance_type=None,\n",
       "               interaction_constraints=None, learning_rate=None, max_bin=None,\n",
       "               max_cat_threshold=None, max_cat_to_onehot=None,\n",
       "               max_delta_step=None, max_depth=None, max_leaves=None,\n",
       "               min_child_weight=None, missing=nan, monotone_constraints=None,\n",
       "               n_estimators=100, n_jobs=None, num_parallel_tree=None,\n",
       "               predictor=None, random_state=111, ...),\n",
       " 'tvec__analyzer': 'word',\n",
       " 'tvec__binary': False,\n",
       " 'tvec__decode_error': 'strict',\n",
       " 'tvec__dtype': numpy.float64,\n",
       " 'tvec__encoding': 'utf-8',\n",
       " 'tvec__input': 'content',\n",
       " 'tvec__lowercase': True,\n",
       " 'tvec__max_df': 1.0,\n",
       " 'tvec__max_features': None,\n",
       " 'tvec__min_df': 1,\n",
       " 'tvec__ngram_range': (1, 1),\n",
       " 'tvec__norm': 'l2',\n",
       " 'tvec__preprocessor': None,\n",
       " 'tvec__smooth_idf': True,\n",
       " 'tvec__stop_words': None,\n",
       " 'tvec__strip_accents': None,\n",
       " 'tvec__sublinear_tf': False,\n",
       " 'tvec__token_pattern': '(?u)\\\\b\\\\w\\\\w+\\\\b',\n",
       " 'tvec__tokenizer': None,\n",
       " 'tvec__use_idf': True,\n",
       " 'tvec__vocabulary': None,\n",
       " 'xgb__objective': 'binary:logistic',\n",
       " 'xgb__use_label_encoder': None,\n",
       " 'xgb__base_score': None,\n",
       " 'xgb__booster': None,\n",
       " 'xgb__callbacks': None,\n",
       " 'xgb__colsample_bylevel': None,\n",
       " 'xgb__colsample_bynode': None,\n",
       " 'xgb__colsample_bytree': None,\n",
       " 'xgb__early_stopping_rounds': None,\n",
       " 'xgb__enable_categorical': False,\n",
       " 'xgb__eval_metric': None,\n",
       " 'xgb__feature_types': None,\n",
       " 'xgb__gamma': None,\n",
       " 'xgb__gpu_id': None,\n",
       " 'xgb__grow_policy': None,\n",
       " 'xgb__importance_type': None,\n",
       " 'xgb__interaction_constraints': None,\n",
       " 'xgb__learning_rate': None,\n",
       " 'xgb__max_bin': None,\n",
       " 'xgb__max_cat_threshold': None,\n",
       " 'xgb__max_cat_to_onehot': None,\n",
       " 'xgb__max_delta_step': None,\n",
       " 'xgb__max_depth': None,\n",
       " 'xgb__max_leaves': None,\n",
       " 'xgb__min_child_weight': None,\n",
       " 'xgb__missing': nan,\n",
       " 'xgb__monotone_constraints': None,\n",
       " 'xgb__n_estimators': 100,\n",
       " 'xgb__n_jobs': None,\n",
       " 'xgb__num_parallel_tree': None,\n",
       " 'xgb__predictor': None,\n",
       " 'xgb__random_state': 111,\n",
       " 'xgb__reg_alpha': None,\n",
       " 'xgb__reg_lambda': None,\n",
       " 'xgb__sampling_method': None,\n",
       " 'xgb__scale_pos_weight': None,\n",
       " 'xgb__subsample': None,\n",
       " 'xgb__tree_method': None,\n",
       " 'xgb__validate_parameters': None,\n",
       " 'xgb__verbosity': None}"
      ]
     },
     "execution_count": 24,
     "metadata": {},
     "output_type": "execute_result"
    }
   ],
   "source": [
    "# Get pipeline params\n",
    "pipe.get_params()"
   ]
  },
  {
   "cell_type": "code",
   "execution_count": 25,
   "id": "b8091ea2",
   "metadata": {},
   "outputs": [],
   "source": [
    "# Set pipeline params by cvec\n",
    "pipe_params = {\n",
    "    \"tvec__tokenizer\": [None, stem_words],\n",
    "    \"tvec__max_features\": [5_000, 10_000, 20_000, 30_000],\n",
    "    \"tvec__min_df\": [2, 3],\n",
    "    \"tvec__max_df\": [.9, .95],\n",
    "    \"tvec__stop_words\": [None, \"english\"],\n",
    "    \"tvec__ngram_range\": [(1, 1), (1, 2)],\n",
    "    \"xgb__learning_rate\": [0.1, 1, 10],\n",
    "    \"xgb__max_depth\": [None, 1, 2, 3, 4],\n",
    "    \"xgb__n_estimators\": [100]\n",
    "}"
   ]
  },
  {
   "cell_type": "code",
   "execution_count": 27,
   "id": "470203ad",
   "metadata": {},
   "outputs": [
    {
     "name": "stdout",
     "output_type": "stream",
     "text": [
      "======================= Summary of XGBoost Model with TfidfVectorizer Transformer Evaluation ======================\n",
      "======== The Best Params =========\n",
      "{'tvec__max_df': 0.95, 'tvec__max_features': 5000, 'tvec__min_df': 3, 'tvec__ngram_range': (1, 2), 'tvec__stop_words': None, 'tvec__tokenizer': <function stem_words at 0x000002C142F7CAF0>, 'xgb__learning_rate': 0.1, 'xgb__max_depth': 4, 'xgb__n_estimators': 100}\n",
      "\n",
      "========= The Best Score =========\n",
      "0.8805655395349582\n",
      "\n",
      "========== Train Score ===========\n",
      "0.9547064777327935\n",
      "\n",
      "=========== Test Score ===========\n",
      "0.8861911987860395\n"
     ]
    },
    {
     "name": "stderr",
     "output_type": "stream",
     "text": [
      "C:\\Users\\sarvin.farhad\\anaconda3\\lib\\site-packages\\sklearn\\utils\\deprecation.py:87: FutureWarning: Function plot_confusion_matrix is deprecated; Function `plot_confusion_matrix` is deprecated in 1.0 and will be removed in 1.2. Use one of the class methods: ConfusionMatrixDisplay.from_predictions or ConfusionMatrixDisplay.from_estimator.\n",
      "  warnings.warn(msg, category=FutureWarning)\n"
     ]
    },
    {
     "name": "stdout",
     "output_type": "stream",
     "text": [
      "======= Evaluation Metrics =======\n",
      "Accuracy  ---------- 0.8861911987860395\n",
      "Precision  --------- 0.8986254295532646\n",
      "Sensitivity  ------- 0.8517915309446255\n",
      "Specifity  --------- 0.9161931818181818\n"
     ]
    },
    {
     "data": {
      "image/png": "[encoded data removed]",
      "text/plain": [
       "<Figure size 640x480 with 2 Axes>"
      ]
     },
     "metadata": {},
     "output_type": "display_data"
    }
   ],
   "source": [
    "# Get the result of the model with defined parameters in GreadSearch\n",
    "gridsearching(estimator=pipe, param_grid=pipe_params, model_name=\"XGBoost\", transformer_name=\"TfidfVectorizer\")"
   ]
  },
  {
   "cell_type": "code",
   "execution_count": 32,
   "id": "dedbf243",
   "metadata": {},
   "outputs": [
    {
     "name": "stdout",
     "output_type": "stream",
     "text": [
      " Best XGBoost with TfidfVectorizer Train Score: 0.9547064777327935\n",
      " Best XGBoost with TfidfVectorizer Test Score:  0.8861911987860395\n"
     ]
    }
   ],
   "source": [
    "# Instantiate Countvectorizer with best params \n",
    "tvec = TfidfVectorizer(max_df=0.95, max_features=5000, min_df=3, ngram_range=(1,2),\n",
    "                       stop_words=None, tokenizer=stem_words)\n",
    "\n",
    "# Fit and transform train data with countvectorizer\n",
    "X_train_tvec = tvec.fit_transform(X_train)\n",
    "\n",
    "# Transform test data with countvectorizer\n",
    "X_test_tvec = tvec.transform(X_test)\n",
    "\n",
    "# Instantiate XGBoost and fit the model with best params\n",
    "xgb_tvec = xgb.XGBClassifier(random_state=111, learning_rate=0.1, max_depth=4, n_estimators=100)\n",
    "xgb_tvec.fit(X_train_tvec, y_train)\n",
    "\n",
    "# Check the the accuracy scores again\n",
    "print(f\" Best XGBoost with TfidfVectorizer Train Score: {xgb_tvec.score(X_train_tvec, y_train)}\")\n",
    "print(f\" Best XGBoost with TfidfVectorizer Test Score:  {xgb_tvec.score(X_test_tvec, y_test)}\")"
   ]
  },
  {
   "cell_type": "markdown",
   "id": "f195deb8",
   "metadata": {},
   "source": [
    "## Save The Best Models"
   ]
  },
  {
   "cell_type": "code",
   "execution_count": 35,
   "id": "70ce033b",
   "metadata": {},
   "outputs": [],
   "source": [
    "# Save the best AdaBoost model\n",
    "with open(\"../models/ada_tvec.pkl\", \"wb\") as pickle_out:\n",
    "    pickle_out = pickle.dump(ada_tvec, pickle_out)\n",
    "\n",
    "# Save the best GradientBoost model\n",
    "with open(\"../models/gb_cvec.pkl\", \"wb\") as pickle_out:\n",
    "    pickle_out = pickle.dump(gb_cvec, pickle_out)\n",
    "    \n",
    "# Save the best XGBoost model\n",
    "with open(\"../models/xgb_cvec.pkl\", \"wb\") as pickle_out:\n",
    "    pickle_out = pickle.dump(xgb_cvec, pickle_out)"
   ]
  },
  {
   "cell_type": "markdown",
   "id": "a98c6e5c",
   "metadata": {},
   "source": [
    "## Summary of Predicting Subreddits by AdaBoost, GradientBoost and XGBoost Models\n",
    "- Pipelines with GridSearch were employed to tune the transformer and model parameters, optimizing the performance of the Gradient Boosting model.\n",
    "- Both CountVectorizer and TfidfVectorizer were used to transform the text data before modeling, and it was observed that TfidfVectorizer performed better with Gradient Boosting.\n",
    "- Among the models tested, Gradient Boosting achieved the highest accuracy score of 0.8983 when predicting subreddits based on post texts."
   ]
  }
 ],
 "metadata": {
  "kernelspec": {
   "display_name": "Python 3 (ipykernel)",
   "language": "python",
   "name": "python3"
  },
  "language_info": {
   "codemirror_mode": {
    "name": "ipython",
    "version": 3
   },
   "file_extension": ".py",
   "mimetype": "text/x-python",
   "name": "python",
   "nbconvert_exporter": "python",
   "pygments_lexer": "ipython3",
   "version": "3.9.13"
  }
 },
 "nbformat": 4,
 "nbformat_minor": 5
}

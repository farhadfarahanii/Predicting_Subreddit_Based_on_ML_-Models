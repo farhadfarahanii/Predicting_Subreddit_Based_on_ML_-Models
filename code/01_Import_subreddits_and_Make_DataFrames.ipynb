{
 "cells": [
  {
   "cell_type": "code",
   "execution_count": 6,
   "id": "4f0c1856",
   "metadata": {},
   "outputs": [],
   "source": [
    "import pandas as pd\n",
    "import numpy as np\n",
    "import requests\n"
   ]
  },
  {
   "cell_type": "code",
   "execution_count": 7,
   "id": "5b4e08d7",
   "metadata": {},
   "outputs": [],
   "source": [
    "url = 'https://api.pushshift.io/reddit/search/submission'"
   ]
  },
  {
   "cell_type": "code",
   "execution_count": 8,
   "id": "932b9f6a",
   "metadata": {},
   "outputs": [],
   "source": [
    "params = {\n",
    "    'subreddit': 'galaxywatch',\n",
    "    'size': 500\n",
    "}\n",
    "res = requests.get(url, params)\n",
    "data = res.json()\n",
    "posts = data['data']\n",
    "df_first_500 = pd.DataFrame(posts)"
   ]
  },
  {
   "cell_type": "code",
   "execution_count": 9,
   "id": "b090988d",
   "metadata": {},
   "outputs": [
    {
     "data": {
      "text/plain": [
       "1676560087"
      ]
     },
     "execution_count": 9,
     "metadata": {},
     "output_type": "execute_result"
    }
   ],
   "source": [
    "posts[-1]['created_utc']"
   ]
  },
  {
   "cell_type": "code",
   "execution_count": 10,
   "id": "262a0fb0",
   "metadata": {},
   "outputs": [],
   "source": [
    "params = {\n",
    "    'subreddit': 'galaxywatch',\n",
    "    'size': 500,\n",
    "    'before': 1676560087\n",
    "}\n",
    "res = requests.get(url, params)\n",
    "data = res.json()\n",
    "posts2 = data['data']\n",
    "df_second_500 = pd.DataFrame(posts2)"
   ]
  },
  {
   "cell_type": "code",
   "execution_count": 13,
   "id": "ca0b9567",
   "metadata": {},
   "outputs": [
    {
     "data": {
      "text/plain": [
       "1675299169"
      ]
     },
     "execution_count": 13,
     "metadata": {},
     "output_type": "execute_result"
    }
   ],
   "source": [
    "posts2[-1]['created_utc']"
   ]
  },
  {
   "cell_type": "code",
   "execution_count": 14,
   "id": "66009c5b",
   "metadata": {},
   "outputs": [],
   "source": [
    "params = {\n",
    "    'subreddit': 'galaxywatch',\n",
    "    'size': 500,\n",
    "    'before': 1675299169\n",
    "}\n",
    "res = requests.get(url, params)\n",
    "data = res.json()\n",
    "posts3 = data['data']\n",
    "df_third_500 = pd.DataFrame(posts3)"
   ]
  },
  {
   "cell_type": "code",
   "execution_count": 15,
   "id": "8839037a",
   "metadata": {},
   "outputs": [
    {
     "data": {
      "text/plain": [
       "1673937305"
      ]
     },
     "execution_count": 15,
     "metadata": {},
     "output_type": "execute_result"
    }
   ],
   "source": [
    "posts3[-1]['created_utc']"
   ]
  },
  {
   "cell_type": "code",
   "execution_count": 16,
   "id": "f62ae82f",
   "metadata": {},
   "outputs": [],
   "source": [
    "params = {\n",
    "    'subreddit': 'galaxywatch',\n",
    "    'size': 500,\n",
    "    'before': 1673937305\n",
    "}\n",
    "res = requests.get(url, params)\n",
    "data = res.json()\n",
    "posts4 = data['data']\n",
    "df_fourth_500 = pd.DataFrame(posts4)"
   ]
  },
  {
   "cell_type": "code",
   "execution_count": 17,
   "id": "f8795784",
   "metadata": {},
   "outputs": [],
   "source": [
    "galaxy_df = pd.concat([df_first_500, df_second_500, df_third_500, df_fourth_500], axis=0)"
   ]
  },
  {
   "cell_type": "code",
   "execution_count": 18,
   "id": "6e09fae3",
   "metadata": {},
   "outputs": [
    {
     "data": {
      "text/plain": [
       "(1999, 98)"
      ]
     },
     "execution_count": 18,
     "metadata": {},
     "output_type": "execute_result"
    }
   ],
   "source": [
    "galaxy_df.shape"
   ]
  },
  {
   "cell_type": "code",
   "execution_count": 19,
   "id": "2508769f",
   "metadata": {},
   "outputs": [],
   "source": [
    "galaxy_df.to_csv('../data/samsung.csv')"
   ]
  },
  {
   "cell_type": "code",
   "execution_count": 20,
   "id": "e7682123",
   "metadata": {},
   "outputs": [],
   "source": [
    "params = {\n",
    "    'subreddit': 'applewatch',\n",
    "    'size': 500\n",
    "}\n",
    "res = requests.get(url, params)\n",
    "data = res.json()\n",
    "posts = data['data']\n",
    "df_first_500 = pd.DataFrame(posts)"
   ]
  },
  {
   "cell_type": "code",
   "execution_count": 21,
   "id": "4dbfda5e",
   "metadata": {},
   "outputs": [
    {
     "data": {
      "text/plain": [
       "1677266136"
      ]
     },
     "execution_count": 21,
     "metadata": {},
     "output_type": "execute_result"
    }
   ],
   "source": [
    "posts[-1]['created_utc']"
   ]
  },
  {
   "cell_type": "code",
   "execution_count": 24,
   "id": "0edb6e9f",
   "metadata": {},
   "outputs": [],
   "source": [
    "params = {\n",
    "    'subreddit': 'applewatch',\n",
    "    'size': 500,\n",
    "    'before': 1677266136\n",
    "}\n",
    "res = requests.get(url, params)\n",
    "data = res.json()\n",
    "posts2 = data['data']\n",
    "df_second_500 = pd.DataFrame(posts2)"
   ]
  },
  {
   "cell_type": "code",
   "execution_count": 25,
   "id": "cbc6f125",
   "metadata": {},
   "outputs": [
    {
     "data": {
      "text/plain": [
       "1676655304"
      ]
     },
     "execution_count": 25,
     "metadata": {},
     "output_type": "execute_result"
    }
   ],
   "source": [
    "posts2[-1]['created_utc']"
   ]
  },
  {
   "cell_type": "code",
   "execution_count": 26,
   "id": "1fafb8cc",
   "metadata": {},
   "outputs": [],
   "source": [
    "params = {\n",
    "    'subreddit': 'applewatch',\n",
    "    'size': 500,\n",
    "    'before': 1676655304\n",
    "}\n",
    "res = requests.get(url, params)\n",
    "data = res.json()\n",
    "posts3 = data['data']\n",
    "df_third_500 = pd.DataFrame(posts3)"
   ]
  },
  {
   "cell_type": "code",
   "execution_count": 27,
   "id": "3442db9f",
   "metadata": {},
   "outputs": [
    {
     "data": {
      "text/plain": [
       "1676052221"
      ]
     },
     "execution_count": 27,
     "metadata": {},
     "output_type": "execute_result"
    }
   ],
   "source": [
    "posts3[-1]['created_utc']"
   ]
  },
  {
   "cell_type": "code",
   "execution_count": 28,
   "id": "f4ca1aee",
   "metadata": {},
   "outputs": [],
   "source": [
    "params = {\n",
    "    'subreddit': 'applewatch',\n",
    "    'size': 500,\n",
    "    'before': 1676052221\n",
    "}\n",
    "res = requests.get(url, params)\n",
    "data = res.json()\n",
    "posts4 = data['data']\n",
    "df_fourth_500 = pd.DataFrame(posts4)"
   ]
  },
  {
   "cell_type": "code",
   "execution_count": 29,
   "id": "2c1c75d6",
   "metadata": {},
   "outputs": [],
   "source": [
    "apple_df = pd.concat([df_first_500, df_second_500, df_third_500, df_fourth_500], axis=0)"
   ]
  },
  {
   "cell_type": "code",
   "execution_count": 32,
   "id": "b23e426c",
   "metadata": {},
   "outputs": [],
   "source": [
    "apple_df.to_csv('../data/apple.csv')"
   ]
  },
  {
   "cell_type": "code",
   "execution_count": 30,
   "id": "7c66abb1",
   "metadata": {},
   "outputs": [],
   "source": [
    "#def api_push(subreddit, number):\n",
    "#    params = {\n",
    "#   'subreddit': subreddit,\n",
    "#    'size': 500\n",
    "#}\n",
    "#    res = requests.get(url, params)\n",
    "#    data = res.json()\n",
    "#    posts= data['data']\n",
    "    \n",
    "#    for i in range (number):    \n",
    "#        params = {\n",
    "#            'subreddit': subreddit,\n",
    "#            'size': 500,\n",
    "#            'before': posts[-1]['created_utc']\n",
    "#        }\n",
    "#        res = requests.get(url, params)\n",
    "#        data = res.json()\n",
    "#        posts.append(data['data'])\n",
    "        \n",
    "        \n",
    "#    return pd.DataFrame(posts)\n",
    "#api_push('applewatch', 4)"
   ]
  }
 ],
 "metadata": {
  "kernelspec": {
   "display_name": "Python 3 (ipykernel)",
   "language": "python",
   "name": "python3"
  },
  "language_info": {
   "codemirror_mode": {
    "name": "ipython",
    "version": 3
   },
   "file_extension": ".py",
   "mimetype": "text/x-python",
   "name": "python",
   "nbconvert_exporter": "python",
   "pygments_lexer": "ipython3",
   "version": "3.9.13"
  }
 },
 "nbformat": 4,
 "nbformat_minor": 5
}

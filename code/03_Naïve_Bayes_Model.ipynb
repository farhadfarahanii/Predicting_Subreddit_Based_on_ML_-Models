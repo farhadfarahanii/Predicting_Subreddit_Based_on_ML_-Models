{
 "cells": [
  {
   "cell_type": "code",
   "execution_count": 135,
   "id": "b6b666a7",
   "metadata": {},
   "outputs": [],
   "source": [
    "# imports\n",
    "import pandas as pd\n",
    "import matplotlib.pyplot as plt\n",
    "import numpy as np\n",
    "import seaborn as sns\n",
    "import nltk\n",
    "\n",
    "from sklearn.model_selection import train_test_split, GridSearchCV\n",
    "from sklearn.pipeline import Pipeline\n",
    "from sklearn.naive_bayes import MultinomialNB\n",
    "from sklearn.metrics import confusion_matrix, plot_confusion_matrix, accuracy_score, recall_score, precision_score\n",
    "from sklearn.feature_extraction.text import CountVectorizer, TfidfVectorizer\n",
    "\n",
    "from nltk.tokenize import word_tokenize, sent_tokenize, RegexpTokenizer, wordpunct_tokenize\n",
    "from nltk.stem import PorterStemmer, WordNetLemmatizer\n",
    "from nltk.corpus import stopwords, wordnet"
   ]
  },
  {
   "cell_type": "code",
   "execution_count": 136,
   "id": "8eb0c31e",
   "metadata": {},
   "outputs": [
    {
     "name": "stdout",
     "output_type": "stream",
     "text": [
      "apple watch dataframe shape ------------- (1996, 5)\n",
      "galaxy watch dataframe shape ------------ (1999, 5)\n",
      "final (combined) data frame shape ------- (3995, 5)\n"
     ]
    }
   ],
   "source": [
    "# Load dataframes and make a cobined dataframe for making models\n",
    "df_appwatch = pd.read_csv('../data/apple_watch.csv')\n",
    "df_galaxy = pd.read_csv('../data/galaxy_watch.csv')\n",
    "df = pd.concat([df_appwatch, df_galaxy], axis=0)\n",
    "print(f'apple watch dataframe shape ------------- {df_appwatch.shape}')\n",
    "print(f'galaxy watch dataframe shape ------------ {df_galaxy.shape}')\n",
    "print(f'final (combined) data frame shape ------- {df.shape}')"
   ]
  },
  {
   "cell_type": "code",
   "execution_count": 137,
   "id": "6ac58d9c",
   "metadata": {},
   "outputs": [
    {
     "data": {
      "text/html": [
       "<div>\n",
       "<style scoped>\n",
       "    .dataframe tbody tr th:only-of-type {\n",
       "        vertical-align: middle;\n",
       "    }\n",
       "\n",
       "    .dataframe tbody tr th {\n",
       "        vertical-align: top;\n",
       "    }\n",
       "\n",
       "    .dataframe thead th {\n",
       "        text-align: right;\n",
       "    }\n",
       "</style>\n",
       "<table border=\"1\" class=\"dataframe\">\n",
       "  <thead>\n",
       "    <tr style=\"text-align: right;\">\n",
       "      <th></th>\n",
       "      <th>Unnamed: 0</th>\n",
       "      <th>author</th>\n",
       "      <th>description</th>\n",
       "      <th>num_comments</th>\n",
       "      <th>subreddit</th>\n",
       "    </tr>\n",
       "  </thead>\n",
       "  <tbody>\n",
       "    <tr>\n",
       "      <th>0</th>\n",
       "      <td>0</td>\n",
       "      <td>Mnml_Id</td>\n",
       "      <td>Those Apple Watch Ultra Mod kit are looking go...</td>\n",
       "      <td>0</td>\n",
       "      <td>AppleWatch</td>\n",
       "    </tr>\n",
       "    <tr>\n",
       "      <th>1</th>\n",
       "      <td>1</td>\n",
       "      <td>BigMasterDingDong</td>\n",
       "      <td>Is there a way to increase the time between a ...</td>\n",
       "      <td>0</td>\n",
       "      <td>AppleWatch</td>\n",
       "    </tr>\n",
       "    <tr>\n",
       "      <th>2</th>\n",
       "      <td>2</td>\n",
       "      <td>Cedar_Wood_State</td>\n",
       "      <td>Just want an app that I can use the record my ...</td>\n",
       "      <td>0</td>\n",
       "      <td>AppleWatch</td>\n",
       "    </tr>\n",
       "    <tr>\n",
       "      <th>3</th>\n",
       "      <td>3</td>\n",
       "      <td>clarebear-82</td>\n",
       "      <td>[removed]Fitness recovery app that monitors HR...</td>\n",
       "      <td>0</td>\n",
       "      <td>AppleWatch</td>\n",
       "    </tr>\n",
       "    <tr>\n",
       "      <th>4</th>\n",
       "      <td>4</td>\n",
       "      <td>tomo128</td>\n",
       "      <td>Move goal 300%</td>\n",
       "      <td>0</td>\n",
       "      <td>AppleWatch</td>\n",
       "    </tr>\n",
       "  </tbody>\n",
       "</table>\n",
       "</div>"
      ],
      "text/plain": [
       "   Unnamed: 0             author  \\\n",
       "0           0            Mnml_Id   \n",
       "1           1  BigMasterDingDong   \n",
       "2           2   Cedar_Wood_State   \n",
       "3           3       clarebear-82   \n",
       "4           4            tomo128   \n",
       "\n",
       "                                         description  num_comments   subreddit  \n",
       "0  Those Apple Watch Ultra Mod kit are looking go...             0  AppleWatch  \n",
       "1  Is there a way to increase the time between a ...             0  AppleWatch  \n",
       "2  Just want an app that I can use the record my ...             0  AppleWatch  \n",
       "3  [removed]Fitness recovery app that monitors HR...             0  AppleWatch  \n",
       "4                                     Move goal 300%             0  AppleWatch  "
      ]
     },
     "execution_count": 137,
     "metadata": {},
     "output_type": "execute_result"
    }
   ],
   "source": [
    "df.head()"
   ]
  },
  {
   "cell_type": "code",
   "execution_count": 138,
   "id": "c08f5c09",
   "metadata": {},
   "outputs": [],
   "source": [
    "# drop unusefull columns\n",
    "df.drop(columns =['Unnamed: 0', 'author', 'num_comments'], inplace=True)"
   ]
  },
  {
   "cell_type": "code",
   "execution_count": 139,
   "id": "ddc85d26",
   "metadata": {},
   "outputs": [
    {
     "data": {
      "text/plain": [
       "GalaxyWatch    1999\n",
       "AppleWatch     1996\n",
       "Name: subreddit, dtype: int64"
      ]
     },
     "execution_count": 139,
     "metadata": {},
     "output_type": "execute_result"
    }
   ],
   "source": [
    "df['subreddit'].value_counts()"
   ]
  },
  {
   "cell_type": "code",
   "execution_count": 140,
   "id": "2571a203",
   "metadata": {},
   "outputs": [],
   "source": [
    "# create label column (target column)\n",
    "df['subreddit'] = df['subreddit'].map({'GalaxyWatch': 1, 'AppleWatch':0})"
   ]
  },
  {
   "cell_type": "code",
   "execution_count": 141,
   "id": "bdb3cdd1",
   "metadata": {},
   "outputs": [
    {
     "data": {
      "text/plain": [
       "description    0\n",
       "subreddit      0\n",
       "dtype: int64"
      ]
     },
     "execution_count": 141,
     "metadata": {},
     "output_type": "execute_result"
    }
   ],
   "source": [
    "df.isna().sum()"
   ]
  },
  {
   "cell_type": "code",
   "execution_count": 142,
   "id": "08a875cf",
   "metadata": {},
   "outputs": [
    {
     "data": {
      "text/plain": [
       "description    object\n",
       "subreddit       int64\n",
       "dtype: object"
      ]
     },
     "execution_count": 142,
     "metadata": {},
     "output_type": "execute_result"
    }
   ],
   "source": [
    "df.dtypes"
   ]
  },
  {
   "cell_type": "code",
   "execution_count": 143,
   "id": "42528484",
   "metadata": {},
   "outputs": [],
   "source": [
    "df.to_csv('../data/final.csv')"
   ]
  },
  {
   "cell_type": "markdown",
   "id": "fbabf0e9",
   "metadata": {},
   "source": [
    "## Function"
   ]
  },
  {
   "cell_type": "markdown",
   "id": "a7392dc7",
   "metadata": {},
   "source": [
    "#### Before starting modeling, I just made a funtion for stemming texts, which might be usefull for my models"
   ]
  },
  {
   "cell_type": "code",
   "execution_count": 144,
   "id": "776576f3",
   "metadata": {},
   "outputs": [],
   "source": [
    "# cite: Got help form Katie Sylvia\n",
    "# a function for stemming\n",
    "def stem_words(text):\n",
    "    # Initialize the Porter stemmer\n",
    "    stemmer = PorterStemmer()\n",
    "    \n",
    "    # Tokenize the text into individual words\n",
    "    words = nltk.word_tokenize(text)\n",
    "    \n",
    "    # Stem each word and join them back into a string\n",
    "    stemmed_words = [stemmer.stem(word) for word in words]\n",
    "    stemmed_text = ' '.join(stemmed_words)\n",
    "    \n",
    "    return stemmed_text"
   ]
  },
  {
   "cell_type": "markdown",
   "id": "3830d974",
   "metadata": {},
   "source": [
    "## Modeling"
   ]
  },
  {
   "cell_type": "code",
   "execution_count": 145,
   "id": "64e9f1ac",
   "metadata": {},
   "outputs": [
    {
     "name": "stdout",
     "output_type": "stream",
     "text": [
      "X shape ---------- (3995,)\n",
      "y shape ---------- (3995,)\n"
     ]
    }
   ],
   "source": [
    "# define X (features) and y(target)\n",
    "X = df['description']\n",
    "y = df['subreddit']\n",
    "X_train, X_test, y_train, y_test = train_test_split(X, y, random_state=42, stratify=y)\n",
    "print(f'X shape ---------- {X.shape}')\n",
    "print(f'y shape ---------- {y.shape}')"
   ]
  },
  {
   "cell_type": "markdown",
   "id": "c59d267a",
   "metadata": {},
   "source": [
    "### Baseline accuracy"
   ]
  },
  {
   "cell_type": "code",
   "execution_count": 146,
   "id": "8dfecd52",
   "metadata": {},
   "outputs": [
    {
     "data": {
      "text/plain": [
       "1    0.500501\n",
       "0    0.499499\n",
       "Name: subreddit, dtype: float64"
      ]
     },
     "execution_count": 146,
     "metadata": {},
     "output_type": "execute_result"
    }
   ],
   "source": [
    "y_test.value_counts(normalize=True)"
   ]
  },
  {
   "cell_type": "markdown",
   "id": "2d96854e",
   "metadata": {},
   "source": [
    "Baseline accuracy score is 0.50"
   ]
  },
  {
   "cell_type": "markdown",
   "id": "7bce5dc6",
   "metadata": {},
   "source": [
    "## Naïve Bayes Algorithm with CountVectorizer"
   ]
  },
  {
   "cell_type": "code",
   "execution_count": 147,
   "id": "cd74d7bc",
   "metadata": {},
   "outputs": [],
   "source": [
    "# describe pipeline with multinomial Naïve Bayes algorithm with countvectorizer transformer\n",
    "pipe = Pipeline([\n",
    "    ('cvec', CountVectorizer()),\n",
    "    ('nb', MultinomialNB())\n",
    "])"
   ]
  },
  {
   "cell_type": "code",
   "execution_count": 148,
   "id": "211d00ec",
   "metadata": {},
   "outputs": [
    {
     "data": {
      "text/plain": [
       "{'memory': None,\n",
       " 'steps': [('cvec', CountVectorizer()), ('nb', MultinomialNB())],\n",
       " 'verbose': False,\n",
       " 'cvec': CountVectorizer(),\n",
       " 'nb': MultinomialNB(),\n",
       " 'cvec__analyzer': 'word',\n",
       " 'cvec__binary': False,\n",
       " 'cvec__decode_error': 'strict',\n",
       " 'cvec__dtype': numpy.int64,\n",
       " 'cvec__encoding': 'utf-8',\n",
       " 'cvec__input': 'content',\n",
       " 'cvec__lowercase': True,\n",
       " 'cvec__max_df': 1.0,\n",
       " 'cvec__max_features': None,\n",
       " 'cvec__min_df': 1,\n",
       " 'cvec__ngram_range': (1, 1),\n",
       " 'cvec__preprocessor': None,\n",
       " 'cvec__stop_words': None,\n",
       " 'cvec__strip_accents': None,\n",
       " 'cvec__token_pattern': '(?u)\\\\b\\\\w\\\\w+\\\\b',\n",
       " 'cvec__tokenizer': None,\n",
       " 'cvec__vocabulary': None,\n",
       " 'nb__alpha': 1.0,\n",
       " 'nb__class_prior': None,\n",
       " 'nb__fit_prior': True}"
      ]
     },
     "execution_count": 148,
     "metadata": {},
     "output_type": "execute_result"
    }
   ],
   "source": [
    "# get to know pipeline params\n",
    "pipe.get_params()"
   ]
  },
  {
   "cell_type": "code",
   "execution_count": 149,
   "id": "54110d5f",
   "metadata": {},
   "outputs": [],
   "source": [
    "# set pipeline params by cvec\n",
    "pipe_params = {\n",
    "    'cvec__tokenizer': [None, stem_words],\n",
    "    'cvec__max_features': [5_000, 10_000, 20_000, 30_000],\n",
    "    'cvec__min_df': [2, 3],\n",
    "    'cvec__max_df': [.9, .95],\n",
    "    'cvec__stop_words': [None, 'english'],\n",
    "    'cvec__ngram_range': [(1, 1), (1, 2)]\n",
    "}"
   ]
  },
  {
   "cell_type": "code",
   "execution_count": 150,
   "id": "8200ecc3",
   "metadata": {},
   "outputs": [
    {
     "name": "stdout",
     "output_type": "stream",
     "text": [
      "The best params  ---------- {'cvec__max_df': 0.9, 'cvec__max_features': 10000, 'cvec__min_df': 2, 'cvec__ngram_range': (1, 2), 'cvec__stop_words': 'english', 'cvec__tokenizer': None}\n",
      "The best score  ----------- 0.886848080133556\n"
     ]
    }
   ],
   "source": [
    "# Grid search over with pipeline estimator\n",
    "gs = GridSearchCV(pipe, param_grid=pipe_params, cv=5, n_jobs=5)\n",
    "\n",
    "# fit the model to traning data\n",
    "gs.fit(X_train, y_train)\n",
    "\n",
    "# get to know wich params were best ones\n",
    "print(f'The best params  ---------- {gs.best_params_}')\n",
    "\n",
    "# get to know the best score\n",
    "print(f'The best score  ----------- {gs.best_score_}')"
   ]
  },
  {
   "cell_type": "code",
   "execution_count": 151,
   "id": "ed937806",
   "metadata": {},
   "outputs": [
    {
     "data": {
      "text/plain": [
       "0.9516021361815754"
      ]
     },
     "execution_count": 151,
     "metadata": {},
     "output_type": "execute_result"
    }
   ],
   "source": [
    "# train data score\n",
    "gs.score(X_train, y_train)"
   ]
  },
  {
   "cell_type": "code",
   "execution_count": 152,
   "id": "bb4336cd",
   "metadata": {},
   "outputs": [
    {
     "data": {
      "text/plain": [
       "0.8928928928928929"
      ]
     },
     "execution_count": 152,
     "metadata": {},
     "output_type": "execute_result"
    }
   ],
   "source": [
    "# test data score\n",
    "gs.score(X_test, y_test)"
   ]
  },
  {
   "cell_type": "code",
   "execution_count": 153,
   "id": "8f96c3a6",
   "metadata": {},
   "outputs": [
    {
     "name": "stderr",
     "output_type": "stream",
     "text": [
      "C:\\Users\\sarvin.farhad\\anaconda3\\lib\\site-packages\\sklearn\\utils\\deprecation.py:87: FutureWarning: Function plot_confusion_matrix is deprecated; Function `plot_confusion_matrix` is deprecated in 1.0 and will be removed in 1.2. Use one of the class methods: ConfusionMatrixDisplay.from_predictions or ConfusionMatrixDisplay.from_estimator.\n",
      "  warnings.warn(msg, category=FutureWarning)\n"
     ]
    },
    {
     "data": {
      "image/png": "[encoded data removed]",
      "text/plain": [
       "<Figure size 640x480 with 2 Axes>"
      ]
     },
     "metadata": {},
     "output_type": "display_data"
    }
   ],
   "source": [
    "# Get predictions\n",
    "preds = gs.predict(X_test)\n",
    "\n",
    "#confusion matrix values\n",
    "tn, fp, fn, tp = confusion_matrix(y_test, preds).ravel()\n",
    "\n",
    "# confusion matrix\n",
    "plot_confusion_matrix(gs, X_test, y_test, cmap='Blues', values_format='d')\n",
    "\n",
    "plt.title('The Confusion Matrix of Naïve Bayes with CountVectorizer');"
   ]
  },
  {
   "cell_type": "markdown",
   "id": "a360af38",
   "metadata": {},
   "source": [
    "### Evaluation for Model with Multinomial Naïve Bayes Algorithm and CountVectorizer Transformer"
   ]
  },
  {
   "cell_type": "code",
   "execution_count": 154,
   "id": "976b8164",
   "metadata": {},
   "outputs": [
    {
     "name": "stdout",
     "output_type": "stream",
     "text": [
      "The accuracy score  ---------- 0.8928928928928929\n",
      "The precision score  --------- 0.8906560636182903\n",
      "The sensitivity score  ------- 0.896\n",
      "The specifity score  --------- 0.8897795591182365\n"
     ]
    }
   ],
   "source": [
    "print(f'The accuracy score  ---------- {accuracy_score(y_test, preds)}')\n",
    "print(f'The precision score  --------- {precision_score(y_test, preds)}')\n",
    "print(f'The sensitivity score  ------- {recall_score(y_test, preds)}')\n",
    "print(f'The specifity score  --------- {tn/(tn + fp)}')"
   ]
  },
  {
   "cell_type": "markdown",
   "id": "ad7bcfda",
   "metadata": {},
   "source": [
    "## Naïve Bayes Algorithm with TfidVectorizer"
   ]
  },
  {
   "cell_type": "code",
   "execution_count": 155,
   "id": "2aed4c55",
   "metadata": {},
   "outputs": [],
   "source": [
    "# redifine training and testing split\n",
    "X_train, X_test, y_train, y_test = train_test_split(X, y, random_state=42, stratify=y)"
   ]
  },
  {
   "cell_type": "code",
   "execution_count": 156,
   "id": "b5af2ec2",
   "metadata": {},
   "outputs": [],
   "source": [
    "# describe pipeline with multinomial Naïve Bayes algorithm with tfidvectorizer transformer\n",
    "pipe_tvec = Pipeline([\n",
    "    ('tvec', TfidfVectorizer()),\n",
    "    ('nb', MultinomialNB())\n",
    "])"
   ]
  },
  {
   "cell_type": "code",
   "execution_count": 157,
   "id": "0a4b1a1a",
   "metadata": {},
   "outputs": [
    {
     "data": {
      "text/plain": [
       "{'memory': None,\n",
       " 'steps': [('tvec', TfidfVectorizer()), ('nb', MultinomialNB())],\n",
       " 'verbose': False,\n",
       " 'tvec': TfidfVectorizer(),\n",
       " 'nb': MultinomialNB(),\n",
       " 'tvec__analyzer': 'word',\n",
       " 'tvec__binary': False,\n",
       " 'tvec__decode_error': 'strict',\n",
       " 'tvec__dtype': numpy.float64,\n",
       " 'tvec__encoding': 'utf-8',\n",
       " 'tvec__input': 'content',\n",
       " 'tvec__lowercase': True,\n",
       " 'tvec__max_df': 1.0,\n",
       " 'tvec__max_features': None,\n",
       " 'tvec__min_df': 1,\n",
       " 'tvec__ngram_range': (1, 1),\n",
       " 'tvec__norm': 'l2',\n",
       " 'tvec__preprocessor': None,\n",
       " 'tvec__smooth_idf': True,\n",
       " 'tvec__stop_words': None,\n",
       " 'tvec__strip_accents': None,\n",
       " 'tvec__sublinear_tf': False,\n",
       " 'tvec__token_pattern': '(?u)\\\\b\\\\w\\\\w+\\\\b',\n",
       " 'tvec__tokenizer': None,\n",
       " 'tvec__use_idf': True,\n",
       " 'tvec__vocabulary': None,\n",
       " 'nb__alpha': 1.0,\n",
       " 'nb__class_prior': None,\n",
       " 'nb__fit_prior': True}"
      ]
     },
     "execution_count": 157,
     "metadata": {},
     "output_type": "execute_result"
    }
   ],
   "source": [
    "# get to know pipeline params\n",
    "pipe_tvec.get_params()"
   ]
  },
  {
   "cell_type": "code",
   "execution_count": 158,
   "id": "ff618333",
   "metadata": {},
   "outputs": [],
   "source": [
    "# set pipeline params by tvec\n",
    "pipe_tvec_params = {\n",
    "    'tvec__tokenizer': [None, stem_words],\n",
    "    'tvec__max_features': [5_000, 10_000, 20_000, 30_000],\n",
    "    'tvec__min_df': [2, 3],\n",
    "    'tvec__max_df': [.9, .95],\n",
    "    'tvec__stop_words': [None, 'english'],\n",
    "    'tvec__ngram_range': [(1, 1), (1, 2)]\n",
    "}"
   ]
  },
  {
   "cell_type": "code",
   "execution_count": 159,
   "id": "bd862abb",
   "metadata": {},
   "outputs": [
    {
     "name": "stdout",
     "output_type": "stream",
     "text": [
      "The best params  ---------- {'tvec__max_df': 0.9, 'tvec__max_features': 10000, 'tvec__min_df': 2, 'tvec__ngram_range': (1, 2), 'tvec__stop_words': 'english', 'tvec__tokenizer': None}\n",
      "The best score  ----------- 0.8808441847523649\n"
     ]
    }
   ],
   "source": [
    "# Grid search over with pipeline estimator\n",
    "gs_tvec = GridSearchCV(pipe_tvec, param_grid=pipe_tvec_params, cv=5, n_jobs=5)\n",
    "\n",
    "# fit the model to traning data\n",
    "gs_tvec.fit(X_train, y_train)\n",
    "\n",
    "# get to know wich params were best ones\n",
    "gs_tvec.best_params_\n",
    "\n",
    "# get to know wich params were best ones\n",
    "print(f'The best params  ---------- {gs_tvec.best_params_}')\n",
    "\n",
    "# get to know the best score\n",
    "print(f'The best score  ----------- {gs_tvec.best_score_}')"
   ]
  },
  {
   "cell_type": "code",
   "execution_count": 160,
   "id": "9fa6f196",
   "metadata": {},
   "outputs": [
    {
     "data": {
      "text/plain": [
       "0.9686248331108144"
      ]
     },
     "execution_count": 160,
     "metadata": {},
     "output_type": "execute_result"
    }
   ],
   "source": [
    "# train data score\n",
    "gs_tvec.score(X_train, y_train)"
   ]
  },
  {
   "cell_type": "code",
   "execution_count": 161,
   "id": "3f324f69",
   "metadata": {},
   "outputs": [
    {
     "data": {
      "text/plain": [
       "0.8938938938938938"
      ]
     },
     "execution_count": 161,
     "metadata": {},
     "output_type": "execute_result"
    }
   ],
   "source": [
    "# test data score\n",
    "gs_tvec.score(X_test, y_test)"
   ]
  },
  {
   "cell_type": "code",
   "execution_count": 162,
   "id": "0400719b",
   "metadata": {},
   "outputs": [
    {
     "name": "stderr",
     "output_type": "stream",
     "text": [
      "C:\\Users\\sarvin.farhad\\anaconda3\\lib\\site-packages\\sklearn\\utils\\deprecation.py:87: FutureWarning: Function plot_confusion_matrix is deprecated; Function `plot_confusion_matrix` is deprecated in 1.0 and will be removed in 1.2. Use one of the class methods: ConfusionMatrixDisplay.from_predictions or ConfusionMatrixDisplay.from_estimator.\n",
      "  warnings.warn(msg, category=FutureWarning)\n"
     ]
    },
    {
     "data": {
      "image/png": "[encoded data removed]",
      "text/plain": [
       "<Figure size 640x480 with 2 Axes>"
      ]
     },
     "metadata": {},
     "output_type": "display_data"
    }
   ],
   "source": [
    "# Get predictions\n",
    "preds = gs_tvec.predict(X_test)\n",
    "\n",
    "#confusion matrix values\n",
    "tn, fp, fn, tp = confusion_matrix(y_test, preds).ravel()\n",
    "\n",
    "# confusion matrix\n",
    "plot_confusion_matrix(gs_tvec, X_test, y_test,\n",
    "                      cmap='Blues', values_format='d')\n",
    "plt.title('The Confusion Matrix of Naïve Bayes with TfidVectorizer');"
   ]
  },
  {
   "cell_type": "markdown",
   "id": "df984113",
   "metadata": {},
   "source": [
    "### Evaluation for Model with Multinomial Naïve Bayes Algorithm and TfidVectorizer Transformer"
   ]
  },
  {
   "cell_type": "code",
   "execution_count": 163,
   "id": "76f817a2",
   "metadata": {},
   "outputs": [
    {
     "name": "stdout",
     "output_type": "stream",
     "text": [
      "The accuracy score with  ----- 0.8938938938938938\n",
      "The precision score   -------- 0.8924302788844621\n",
      "The sensitivity score  ------- 0.896\n",
      "The specifity score  --------- 0.8917835671342685\n"
     ]
    }
   ],
   "source": [
    "print(f'The accuracy score with  ----- {accuracy_score(y_test, preds)}')\n",
    "print(f'The precision score   -------- {precision_score(y_test, preds)}')\n",
    "print(f'The sensitivity score  ------- {recall_score(y_test, preds)}')\n",
    "print(f'The specifity score  --------- {tn/(tn + fp)}')"
   ]
  }
 ],
 "metadata": {
  "kernelspec": {
   "display_name": "Python 3 (ipykernel)",
   "language": "python",
   "name": "python3"
  },
  "language_info": {
   "codemirror_mode": {
    "name": "ipython",
    "version": 3
   },
   "file_extension": ".py",
   "mimetype": "text/x-python",
   "name": "python",
   "nbconvert_exporter": "python",
   "pygments_lexer": "ipython3",
   "version": "3.9.13"
  }
 },
 "nbformat": 4,
 "nbformat_minor": 5
}
